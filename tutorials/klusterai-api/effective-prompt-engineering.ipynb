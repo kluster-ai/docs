{
 "cells": [
  {
   "cell_type": "markdown",
   "id": "b26c7677",
   "metadata": {},
   "source": [
    "# Effective prompt engineering with the kluster.ai API\n",
    "\n",
    "Prompt engineering is the practice of crafting inputs to guide large language models (LLMs) toward high‑quality responses. Well‑designed prompts can turn vague outputs into precise, actionable insights.\n",
    "\n",
    "In this notebook, we show how prompt quality affects LLM performance by comparing three levels of prompts—Bad, Better, and Best—in a retail sales analysis scenario. The goal: uncover strategies to grow the business and boost profits.\n",
    "\n",
    "Using a simple retail dataset with sales, pricing, and profit data, you’ll see how adding structure, context, and business‑specific details transforms basic observations into strategic recommendations.\n",
    "\n",
    "By the end, you’ll be equipped to apply these principles to your own business data using any of the [supported models](https://docs.kluster.ai/api-reference/reference/#list-supported-models) available through the [kluster.ai](https://kluster.ai/) API—unlocking deeper, more valuable insights.\n"
   ]
  },
  {
   "cell_type": "markdown",
   "id": "934b46ad",
   "metadata": {},
   "source": [
    "## Prerequisites\n",
    "\n",
    "Before getting started, ensure you have:\n",
    "\n",
    "- **A kluster.ai account** - sign up at [kluster.ai](https://platform.kluster.ai/signup)\n",
    "- **A kluster.ai API key** - get your key from the [API Keys](https://platform.kluster.ai/apikeys) page. For instructions, see the [API key guide](https://platform.kluster.ai/get-started/get-api-key/)"
   ]
  },
  {
   "cell_type": "markdown",
   "id": "e10a6552",
   "metadata": {},
   "source": [
    "## Setup"
   ]
  },
  {
   "cell_type": "markdown",
   "id": "342a8e93-3bac-41c1-8bd5-16daaa9f7039",
   "metadata": {},
   "source": [
    "In this notebook, we'll use Python's `getpass` module to safely input the key. Provide your kluster API key when prompted. Then, we'll import the required dependencies, specify the LLM model to use, and initialize the client. Refer to the [supported models](https://docs.kluster.ai/get-started/models/) chart if you're unsure which one to choose. "
   ]
  },
  {
   "cell_type": "code",
   "execution_count": null,
   "id": "2f254b80",
   "metadata": {},
   "outputs": [],
   "source": [
    "# Import required packages at the beginning of the notebook\n",
    "from getpass import getpass\n",
    "from openai import OpenAI\n",
    "from IPython.display import Markdown\n",
    "\n",
    "api_key = getpass('Enter your kluster.ai API key: ')\n",
    "\n",
    "# Feel free to swap out the model with any of Kluster's supported models\n",
    "model = \"meta-llama/Llama-4-Scout-17B-16E-Instruct\"\n",
    "client = OpenAI(base_url=\"https://api.kluster.ai/v1\", api_key=api_key)"
   ]
  },
  {
   "cell_type": "markdown",
   "id": "84894eb8",
   "metadata": {},
   "source": [
    "## Bad prompt 🔴\n",
    "\n",
    "Below is an example of a poorly written prompt that’s unlikely to yield a meaningful answer. Although it’s an extreme case, it illustrates how a vague prompt with minimal context can limit an LLM’s response. For instance, we don’t know the product, the audience, or the goal of asking the LLM. Providing that information would immediately make this prompt more effective."
   ]
  },
  {
   "cell_type": "code",
   "execution_count": null,
   "id": "e88b3960",
   "metadata": {},
   "outputs": [],
   "source": [
    "# Define the bad prompt\n",
    "bad_prompt_text = \"\"\"Here's some data:\n",
    "\n",
    "| Product | Sales |\n",
    "|---------|-------|\n",
    "| A       | 10    |\n",
    "| B       | 20    |\n",
    "| C       | 5     |\n",
    "| D       | 15    |\n",
    "\n",
    "Tell me about it.\"\"\"\n",
    "\n",
    "# Use the variable in the API call\n",
    "response_bad = client.chat.completions.create(\n",
    "    model=model,\n",
    "    messages=[{\"role\": \"user\", \"content\": bad_prompt_text}],\n",
    "    temperature=0.5\n",
    ").choices[0].message.content\n",
    "print(\"\\nModel response:\\n\" + response_bad)"
   ]
  },
  {
   "cell_type": "markdown",
   "id": "b8c92069",
   "metadata": {},
   "source": [
    "### Analysis of the bad prompt\n",
    "\n",
    "The Bad prompt offers only the most rudimentary information—products and their sales—and provides no clear instructions beyond \"tell me about it.\" This inevitably results in:\n",
    "\n",
    "- **Minimal context** - without pricing, profit margins, or a specific goal (e.g., analyzing profitability, recommending strategies), the LLM can only produce surface-level observations\n",
    "- **No actionable guidance** - the prompt doesn't request particular insights or next steps, so the model responds with high-level statements rather than solutions\n",
    "- **Limited utility** - because the data is purely quantitative (sales alone) and lacks details such as time frame, product characteristics, or marketing context, the response cannot go beyond pointing out which products sold more or less\n",
    "\n",
    "Overall, this prompt's lack of clear direction and supporting information stifles the model's ability to provide meaningful analysis or recommendations."
   ]
  },
  {
   "cell_type": "markdown",
   "id": "87dab731",
   "metadata": {},
   "source": [
    "## Better prompt 🟡\n",
    "\n",
    "The prompt below significantly improves upon the basic version by providing essential context and structure—such as pricing information, a specified timeframe, and requests for clear analytical steps with actionable recommendations. This approach guides the model toward delivering more valuable business insights. Remember, the prompter’s primary goal is to learn how to run a more profitable business."
   ]
  },
  {
   "cell_type": "code",
   "execution_count": null,
   "id": "d1c3d4c4",
   "metadata": {},
   "outputs": [],
   "source": [
    "# Define the better prompt\n",
    "better_prompt_text = \"\"\"Here's monthly sales data from our store (units sold) for four products during January 2025:\n",
    "\n",
    "| Product | Units Sold |\n",
    "|---------|------------|\n",
    "| A       | 10         |\n",
    "| B       | 20         |\n",
    "| C       | 5          |\n",
    "| D       | 15         |\n",
    "\n",
    "We sell these products at the following prices:\n",
    "\n",
    "| Product | Price per Unit |\n",
    "|---------|----------------|  \n",
    "| A       | $5.00          |\n",
    "| B       | $3.50          |\n",
    "| C       | $8.00          |\n",
    "| D       | $6.00          |\n",
    "\n",
    "I'd like you to do the following clearly and specifically:\n",
    "\n",
    "1. Calculate total monthly revenue for each product.\n",
    "2. Identify the best and worst-performing products by revenue.\n",
    "3. Suggest specific and actionable strategies to boost overall sales, particularly focusing on lower-performing products.\n",
    "4. Provide recommendations on whether adjusting pricing or marketing might improve profitability based on current sales performance.\n",
    "\n",
    "Structure your response clearly with separate sections and explain briefly your reasoning behind each recommendation.\"\"\"\n",
    "\n",
    "# Use the variable in the API call\n",
    "response_better = client.chat.completions.create(\n",
    "    model=model,\n",
    "    messages=[{\"role\": \"user\", \"content\": better_prompt_text}],\n",
    "    temperature=0.5\n",
    ").choices[0].message.content\n",
    "print(\"\\nModel response:\\n\" + response_better)"
   ]
  },
  {
   "cell_type": "markdown",
   "id": "6f3ca7a4",
   "metadata": {},
   "source": [
    "### Analysis of the better prompt\n",
    "\n",
    "This Better prompt elevates the request beyond the \"Bad\" version by incorporating pricing details and clearer instructions, which yield more focused calculations and recommendations. The prompt also specifies a timeline (January 2025) and outlines key tasks (calculating revenue, identifying product performance, suggesting sales-boosting strategies). As a result, the LLM response provides:\n",
    "\n",
    "- **Structured revenue calculations** - by explicitly asking for per-product revenue, it brings a quantitative foundation to the analysis\n",
    "- **Actionable recommendations** - requests for pricing and marketing adjustments prompt specific suggestions, rather than broad, generic ideas\n",
    "- **Organized output** - clearly defined sections ensure the response is easy to interpret and act upon\n",
    "\n",
    "However, the prompt stops short of requesting profit margins, customer demographics, or broader business context (e.g., marketing channels or inventory challenges) seen in the Best prompt. Consequently, while the Better prompt moves toward more concrete, data-driven insights, it still lacks the richness and depth needed to produce thorough, strategic recommendations."
   ]
  },
  {
   "cell_type": "markdown",
   "id": "a8ceea92",
   "metadata": {},
   "source": [
    "## Best prompt 🟢\n",
    "\n",
    "Finally, we arrive at a prompt that provides enough detail for the LLM to respond with meaningful insights on growing the business and increasing profits in this hypothetical scenario. By outlining comprehensive business context, detailed product information, structured analytical requirements, demographic data, profit margins, marketing channels, and specific business challenges, this prompt equips the model to deliver tailored and actionable recommendations."
   ]
  },
  {
   "cell_type": "code",
   "execution_count": null,
   "id": "cb27726c",
   "metadata": {
    "scrolled": true
   },
   "outputs": [],
   "source": [
    "# Define the best prompt\n",
    "best_prompt_text = \"\"\"Here's monthly sales data (units sold) from our small retail store for four products during January 2025:\n",
    "\n",
    "| Product | Units Sold |\n",
    "|---------|------------|\n",
    "| A       | 10         |\n",
    "| B       | 20         |\n",
    "| C       | 5          |\n",
    "| D       | 15         |\n",
    "\n",
    "Prices and profit margins are as follows:\n",
    "\n",
    "| Product | Price per Unit | Profit Margin (%) |\n",
    "|---------|----------------|-------------------|\n",
    "| A       | $5.00          | 30%               |\n",
    "| B       | $3.50          | 40%               |\n",
    "| C       | $8.00          | 25%               |\n",
    "| D       | $6.00          | 35%               |\n",
    "\n",
    "### Additional Business Context:\n",
    "\n",
    "- **Customer Demographics:**\n",
    "  - Primary: Young adults (18-30 years old)\n",
    "  - Secondary: Middle-aged professionals (35-50 years old)\n",
    "  - Marketing channels: Instagram ads, email newsletters, weekend promotions\n",
    "\n",
    "- **Product Context:**\n",
    "  - **Product A:** Everyday consumable, consistent demand\n",
    "  - **Product B:** Lower-priced, frequent purchases, popular with young adults\n",
    "  - **Product C:** Premium product, aimed at professionals, slow-moving, excess inventory\n",
    "  - **Product D:** Mid-range product, recently gaining popularity\n",
    "\n",
    "- **Challenges:**\n",
    "  - Overstock of Product C; immediate action required\n",
    "  - Limited marketing budget; high ROI needed\n",
    "  - Seeking quick profitability improvements through inventory and pricing strategies, avoiding new product lines\n",
    "\n",
    "### Clearly and specifically, please provide the following structured analysis:\n",
    "\n",
    "**1. Revenue and Profit Analysis:**\n",
    "- Calculate total monthly revenue and total gross profit per product.\n",
    "- Clearly identify best and worst-performing products based on profitability.\n",
    "\n",
    "**2. Profitability Optimization Recommendations (Think step-by-step):**\n",
    "- Provide **specific, actionable steps** to quickly address excess inventory, particularly Product C.\n",
    "- Suggest **explicit pricing adjustments or promotional strategies**, clearly aligned with primary and secondary demographics.\n",
    "- Clearly explain your reasoning behind each recommendation.\n",
    "\n",
    "**3. Marketing Optimization Recommendations:**\n",
    "- Provide targeted recommendations for utilizing existing marketing channels (Instagram, newsletters, weekend promotions) to maximize profitability.\n",
    "- Clearly specify which products to prioritize in each channel and explain why.\n",
    "\n",
    "**Structure your response clearly:**\n",
    "- Use separate headings for each of the above sections.\n",
    "- Present recommendations clearly in bullet-point format.\n",
    "- Briefly but explicitly explain your reasoning behind each suggestion.\n",
    "\n",
    "Please be concise, specific, and actionable.\"\"\"\n",
    "\n",
    "# Use the variable in the API call\n",
    "response_best = client.chat.completions.create(\n",
    "    model=model,\n",
    "    messages=[{\"role\": \"user\", \"content\": best_prompt_text}],\n",
    "    temperature=0.5\n",
    ").choices[0].message.content\n",
    "print(\"\\nModel response:\\n\" + response_best)"
   ]
  },
  {
   "cell_type": "markdown",
   "id": "3455c366",
   "metadata": {
    "jp-MarkdownHeadingCollapsed": true
   },
   "source": [
    "### Analysis of the best prompt\n",
    "\n",
    "The Best prompt excels because it integrates comprehensive data (product sales, prices, and profit margins) with detailed business context (target demographics, product characteristics, marketing channels, and specific challenges). By explicitly specifying the desired structure—including step-by-step revenue and profit analysis, targeted profitability recommendations, and marketing optimizations—it guides the LLM toward high-value, actionable insights.\n",
    "\n",
    "Key strengths of this Best prompt:\n",
    "\n",
    "- **Complete data & metrics** - monthly sales, pricing, and profit margins remove guesswork and allow precise revenue/profit calculations\n",
    "- **Focused business context** - target customer demographics, marketing channels, and product nuances (e.g., overstock of Product C) align the output with real business priorities\n",
    "- **Clear task breakdown** - dividing the request into distinct sections (Revenue/Profit Analysis, Profitability Recommendations, Marketing Strategies) ensures the response is both methodical and thorough\n",
    "- **Actionability & specificity** - the prompt requests concrete next steps—such as pricing tweaks and promotional ideas—tailored to each product's characteristics and customer segment\n",
    "- **Logical reasoning instructions** - guiding the LLM to \"think step-by-step\" fosters more thoughtful planning, especially around clearing excess inventory and leveraging different marketing channels\n",
    "\n",
    "Overall, this approach maximizes the LLM's potential, yielding responses that are precise, context-aware, and immediately useful to decision-makers."
   ]
  },
  {
   "cell_type": "markdown",
   "id": "22c05fc0-6f1c-4137-8d5b-fe36c8401c5c",
   "metadata": {},
   "source": [
    "## Leveraging AI to improve your prompts\n",
    "\n",
    "Using an LLM to refine your prompt might sound meta, but it’s a powerful way to accelerate your prompt engineering learning curve. By harnessing AI to analyze and tweak your own queries, you can rapidly elevate the quality of your prompts and, ultimately, your results. While our best prompt is already strong, prompting an LLM for further improvements highlighted additional considerations, such as setting a clear time horizon, specifying budget constraints (e.g., a $2,000 monthly marketing budget), and assessing potential risks (e.g., pitfalls of new approaches). Incorporating these refinements can make your prompts more actionable and better aligned with real-world business needs.\n",
    "\n",
    "You can ask the LLM to analyze and improve your prompt by submitting a meta-prompt like:\n",
    "```\n",
    "I want to get better results from my prompt. Here's what I'm trying to achieve:\n",
    "[Describe your goal]\n",
    "\n",
    "Here's my current prompt:\n",
    "\"\"\"\n",
    "[Your existing prompt]\n",
    "\"\"\"\n",
    "\n",
    "Please analyze this prompt and suggest specific improvements to make it more effective. Consider:\n",
    "- Adding relevant context or constraints\n",
    "- Clarifying instructions and expectations\n",
    "- Structuring the output format\n",
    "- Including examples if helpful\n",
    "```\n",
    "\n",
    "Using a query like the above produced a refined prompt as shown below:\n"
   ]
  },
  {
   "cell_type": "code",
   "execution_count": null,
   "id": "76875a10-6d4c-4304-86b7-94b50964299c",
   "metadata": {
    "scrolled": true
   },
   "outputs": [],
   "source": [
    "# Define the ai-enhanced prompt\n",
    "ai_revised_prompt_text = \"\"\"Here's monthly sales data (units sold) from our small retail store for four products during January 2025:\n",
    "\n",
    "| Product | Units Sold |\n",
    "|---------|------------|\n",
    "| A       | 10         |\n",
    "| B       | 20         |\n",
    "| C       | 5          |\n",
    "| D       | 15         |\n",
    "\n",
    "Prices and profit margins are as follows:\n",
    "\n",
    "| Product | Price per Unit | Profit Margin (%) |\n",
    "|---------|----------------|-------------------|\n",
    "| A       | $5.00          | 30%               |\n",
    "| B       | $3.50          | 40%               |\n",
    "| C       | $8.00          | 25%               |\n",
    "| D       | $6.00          | 35%               |\n",
    "\n",
    "### Additional Business Context:\n",
    "- **Primary Goal:** Increase short-term profitability (within 3–6 months) without compromising brand identity.\n",
    "- **Customer Demographics:**\n",
    "  - Primary: Young adults (18-30 years old)\n",
    "  - Secondary: Middle-aged professionals (35-50 years old)\n",
    "  - Marketing channels: Instagram ads, email newsletters, weekend promotions\n",
    "- **Product Context:**\n",
    "  - **Product A:** Everyday consumable, consistent demand\n",
    "  - **Product B:** Lower-priced, frequent purchases, popular with young adults\n",
    "  - **Product C:** Premium product, aimed at professionals, slow-moving, excess inventory\n",
    "  - **Product D:** Mid-range product, recently gaining popularity\n",
    "- **Challenges:**\n",
    "  - Overstock of Product C; immediate action required\n",
    "  - Limited marketing budget of $2,000 for this quarter\n",
    "  - High ROI needed, with a particular focus on effectively targeting our primary demographic\n",
    "  - Seeking quick profitability improvements through inventory and pricing strategies, avoiding new product lines\n",
    "\n",
    "### Clearly and specifically, please provide the following structured analysis:\n",
    "**1. Revenue and Profit Analysis:**\n",
    "- Calculate total monthly revenue and total gross profit per product.\n",
    "- Clearly identify best and worst-performing products based on profitability.\n",
    "- Show basic calculations and reasoning where applicable.\n",
    "\n",
    "**2. Profitability Optimization Recommendations (Think step-by-step):**\n",
    "- Provide **specific, actionable steps** to address the excess inventory of Product C.\n",
    "- Suggest **explicit pricing adjustments or promotional strategies** for each product, aligning with our budget and demographics.\n",
    "- Include a short note on potential risks or trade-offs with each recommendation.\n",
    "- Prioritize these steps from highest to lowest expected immediate impact.\n",
    "\n",
    "**3. Marketing Optimization Recommendations:**\n",
    "- Given the $2,000 marketing budget, recommend how to allocate this funding across Instagram, newsletters, and weekend promotions.\n",
    "- Clearly specify which products to prioritize in each channel and explain your reasoning.\n",
    "- Indicate how each marketing channel’s approach might differ to appeal to the two main demographic groups.\n",
    "\n",
    "**Structure your response clearly:**\n",
    "- Use separate headings for each of the above sections.\n",
    "- Present recommendations in bullet-point format.\n",
    "- Briefly but explicitly explain your reasoning behind each suggestion.\n",
    "\n",
    "Please be concise, specific, and actionable.\"\"\""
   ]
  },
  {
   "cell_type": "markdown",
   "id": "7a0583b5",
   "metadata": {},
   "source": [
    "### Analysis of the AI-enhanced prompt vs. the existing best prompt\n",
    "\n",
    "The AI‑enhanced prompt is stronger because it embeds several best‑practice elements that the baseline prompt omits. First, it sets an explicit time horizon (“within 3 to 6 months”), which anchors the LLM’s reasoning to short‑term profitability instead of open‑ended strategy. Second, it introduces a hard marketing‑budget constraint ($2,000), forcing any recommendations to be fiscally realistic. Third, the prompt requests prioritization (“rank steps by highest immediate impact”), ensuring the model returns an ordered action plan rather than an unstructured list. Fourth, it calls for a brief risk or trade‑off note with every suggestion, prompting the LLM to surface downsides proactively. Finally, it asks for supporting calculations where relevant, promoting transparency and verifiability. These additions sharpen the prompt’s clarity, specificity, and operational relevance; they tell the model exactly what to deliver, within which limits, and how to present it, thereby increasing the likelihood of receiving actionable, decision‑ready insights regardless of which LLM you use."
   ]
  },
  {
   "cell_type": "markdown",
   "id": "7b78daa7-a4c5-4c98-b67c-cbcee856c1cc",
   "metadata": {},
   "source": [
    "## Conclusion\n",
    "\n",
    "This side-by-side comparison demonstrates how the quality and specificity of a prompt directly influence the depth, utility, and strategic value of an LLM's output:\n",
    "\n",
    "- **Bad prompt** - minimal data and vague instructions yield only superficial insights—no clear direction or actionable strategies\n",
    "- **Better prompt** - adding pricing details and specific tasks (like calculating revenue or ranking products) results in more concrete analysis and targeted recommendations\n",
    "- **Best prompt** - providing comprehensive context—including profit margins, demographics, inventory challenges, and explicit formatting instructions—empowers the model to deliver nuanced, highly actionable advice aligned with real business needs\n",
    "- **AI‑enhanced prompt** — layering on a defined 3‑to‑6‑month time horizon, a fixed $2,000 marketing budget, ranked priorities, risk/trade‑off notes, and requests for supporting calculations guides the model to provide an even more operationally realistic, budget‑aware, and immediately implementable plan of action\n",
    "\n",
    "Key Takeaways for Effective Prompt Engineering:\n",
    "\n",
    "- **Provide relevant context** - include all essential data (pricing, margins, customer segments) to enable deeper analysis\n",
    "- **Specify instructions clearly** - outline the tasks, format, and reasoning style (e.g., step-by-step) you want the model to follow\n",
    "- **Articulate business constraints and goals** - highlight challenges (e.g., excess inventory, limited budget) to guide strategic recommendations\n",
    "- **Structure the output requirements** - break down the response into clear, logical sections (analysis, recommendations, marketing, etc.)\n",
    "- **Iterate for best results** - incrementally refining prompts yields exponentially better outcomes—invest time upfront for far greater business value\n",
    "\n",
    "By enriching prompts with thorough details and well-defined objectives, you unlock the full potential of LLMs to generate accurate, context-aware, and immediately applicable insights."
   ]
  }
 ],
 "metadata": {
  "kernelspec": {
   "display_name": "Python 3 (ipykernel)",
   "language": "python",
   "name": "python3"
  },
  "language_info": {
   "codemirror_mode": {
    "name": "ipython",
    "version": 3
   },
   "file_extension": ".py",
   "mimetype": "text/x-python",
   "name": "python",
   "nbconvert_exporter": "python",
   "pygments_lexer": "ipython3",
   "version": "3.10.8"
  }
 },
 "nbformat": 4,
 "nbformat_minor": 5
}
