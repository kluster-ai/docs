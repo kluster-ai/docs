{
  "cells": [
    {
      "cell_type": "markdown",
      "id": "be189fde-4e5b-4f80-bae1-ded86a5075a7",
      "metadata": {
        "id": "be189fde-4e5b-4f80-bae1-ded86a5075a7"
      },
      "source": [
        "# Text classification with kluster.ai API and bespokelabs-curator"
      ]
    },
    {
      "cell_type": "markdown",
      "id": "b17a77d9",
      "metadata": {
        "id": "b17a77d9"
      },
      "source": [
        "[![Open in Colab](https://colab.research.google.com/assets/colab-badge.svg)](https://colab.research.google.com/github/kluster-ai/klusterai-cookbook/blob/main/examples/text-classification-curator.ipynb)"
      ]
    },
    {
      "cell_type": "markdown",
      "id": "6d1d06ea-79c1-4f28-b312-0e5aabe18ff3",
      "metadata": {
        "id": "6d1d06ea-79c1-4f28-b312-0e5aabe18ff3"
      },
      "source": [
        "Welcome to the text classification notebook with the kluster.ai Batch API!\n",
        "\n",
        "This notebook showcases how to use the <a href=\"https://kluster.ai/\" target=\"_blank\">kluster.ai</a> Batch API to classify a data set based on a predefined set of categories. In our example, we use an extract from the IMDB top 1000 movies dataset and categorize them into one of “Action”, “Adventure”, “Comedy”, “Crime”, “Documentary”, “Drama”, “Fantasy”, “Horror”, “Romance”, or “Sci-Fi”. We are using a movies dataset but you can adapt this example by using your data and categories relevant for your use case. With this approach, you can effortlessly process datasets of any scale, from small collections to extensive datasets, and obtain categorized results powered by a state-of-the-art language model.\n",
        "\n",
        "Simply provide your API key and run the preloaded cells to perform the classification. If you don’t have an API key, you can sign up for free <a href=\"https://platform.kluster.ai/signup\" target=\"_blank\">on our platform</a>.\n",
        "\n",
        "Let’s get started!\n"
      ]
    },
    {
      "cell_type": "markdown",
      "id": "xU1WBQJ7Uh09",
      "metadata": {
        "id": "xU1WBQJ7Uh09"
      },
      "source": [
        "## Setup"
      ]
    },
    {
      "cell_type": "markdown",
      "id": "b8d580f8-67d5-45d6-915f-0f6b60d3b543",
      "metadata": {
        "id": "b8d580f8-67d5-45d6-915f-0f6b60d3b543"
      },
      "source": [
        "Enter your personal kluster.ai API key (make sure it has no blank spaces). Remember to <a href=\"https://platform.kluster.ai/signup\" target=\"_blank\">sign up</a> if you don't have one yet."
      ]
    },
    {
      "cell_type": "code",
      "source": [
        "%pip uninstall -y bespokelabs-curator"
      ],
      "metadata": {
        "colab": {
          "base_uri": "https://localhost:8080/"
        },
        "id": "VqOft-2plHFn",
        "outputId": "c982da93-669b-4655-b701-6ddc8e7142af"
      },
      "id": "VqOft-2plHFn",
      "execution_count": null,
      "outputs": [
        {
          "output_type": "stream",
          "name": "stdout",
          "text": [
            "\u001b[33mWARNING: Skipping bespokelabs-curator as it is not installed.\u001b[0m\u001b[33m\n",
            "\u001b[0m"
          ]
        }
      ]
    },
    {
      "cell_type": "code",
      "execution_count": null,
      "id": "bcc3d475-8f49-4fc4-9a5e-c6eb6866d2b5",
      "metadata": {
        "id": "bcc3d475-8f49-4fc4-9a5e-c6eb6866d2b5",
        "colab": {
          "base_uri": "https://localhost:8080/"
        },
        "collapsed": true,
        "outputId": "1fe82095-c458-4979-dbc0-fbafa1088487"
      },
      "outputs": [
        {
          "output_type": "stream",
          "name": "stdout",
          "text": [
            "  Installing build dependencies ... \u001b[?25l\u001b[?25hdone\n",
            "  Getting requirements to build wheel ... \u001b[?25l\u001b[?25hdone\n",
            "  Preparing metadata (pyproject.toml) ... \u001b[?25l\u001b[?25hdone\n",
            "\u001b[33mWARNING: google-cloud-aiplatform 1.71.1 does not provide the extra 'all'\u001b[0m\u001b[33m\n",
            "\u001b[2K   \u001b[90m━━━━━━━━━━━━━━━━━━━━━━━━━━━━━━━━━━━━━━━━\u001b[0m \u001b[32m6.5/6.5 MB\u001b[0m \u001b[31m48.0 MB/s\u001b[0m eta \u001b[36m0:00:00\u001b[0m\n",
            "\u001b[2K   \u001b[90m━━━━━━━━━━━━━━━━━━━━━━━━━━━━━━━━━━━━━━━━\u001b[0m \u001b[32m6.2/6.2 MB\u001b[0m \u001b[31m60.7 MB/s\u001b[0m eta \u001b[36m0:00:00\u001b[0m\n",
            "\u001b[2K   \u001b[90m━━━━━━━━━━━━━━━━━━━━━━━━━━━━━━━━━━━━━━━━\u001b[0m \u001b[32m203.4/203.4 kB\u001b[0m \u001b[31m14.2 MB/s\u001b[0m eta \u001b[36m0:00:00\u001b[0m\n",
            "\u001b[2K   \u001b[90m━━━━━━━━━━━━━━━━━━━━━━━━━━━━━━━━━━━━━━━━\u001b[0m \u001b[32m480.6/480.6 kB\u001b[0m \u001b[31m20.5 MB/s\u001b[0m eta \u001b[36m0:00:00\u001b[0m\n",
            "\u001b[2K   \u001b[90m━━━━━━━━━━━━━━━━━━━━━━━━━━━━━━━━━━━━━━━━\u001b[0m \u001b[32m71.4/71.4 kB\u001b[0m \u001b[31m5.3 MB/s\u001b[0m eta \u001b[36m0:00:00\u001b[0m\n",
            "\u001b[2K   \u001b[90m━━━━━━━━━━━━━━━━━━━━━━━━━━━━━━━━━━━━━━━━\u001b[0m \u001b[32m1.2/1.2 MB\u001b[0m \u001b[31m44.1 MB/s\u001b[0m eta \u001b[36m0:00:00\u001b[0m\n",
            "\u001b[2K   \u001b[90m━━━━━━━━━━━━━━━━━━━━━━━━━━━━━━━━━━━━━━━━\u001b[0m \u001b[32m194.8/194.8 kB\u001b[0m \u001b[31m13.3 MB/s\u001b[0m eta \u001b[36m0:00:00\u001b[0m\n",
            "\u001b[2K   \u001b[90m━━━━━━━━━━━━━━━━━━━━━━━━━━━━━━━━━━━━━━━━\u001b[0m \u001b[32m116.3/116.3 kB\u001b[0m \u001b[31m8.3 MB/s\u001b[0m eta \u001b[36m0:00:00\u001b[0m\n",
            "\u001b[2K   \u001b[90m━━━━━━━━━━━━━━━━━━━━━━━━━━━━━━━━━━━━━━━━\u001b[0m \u001b[32m179.3/179.3 kB\u001b[0m \u001b[31m12.1 MB/s\u001b[0m eta \u001b[36m0:00:00\u001b[0m\n",
            "\u001b[2K   \u001b[90m━━━━━━━━━━━━━━━━━━━━━━━━━━━━━━━━━━━━━━━━\u001b[0m \u001b[32m76.4/76.4 kB\u001b[0m \u001b[31m4.0 MB/s\u001b[0m eta \u001b[36m0:00:00\u001b[0m\n",
            "\u001b[2K   \u001b[90m━━━━━━━━━━━━━━━━━━━━━━━━━━━━━━━━━━━━━━━━\u001b[0m \u001b[32m143.5/143.5 kB\u001b[0m \u001b[31m10.6 MB/s\u001b[0m eta \u001b[36m0:00:00\u001b[0m\n",
            "\u001b[?25h  Building wheel for bespokelabs-curator (pyproject.toml) ... \u001b[?25l\u001b[?25hdone\n",
            "\u001b[31mERROR: pip's dependency resolver does not currently take into account all the packages that are installed. This behaviour is the source of the following dependency conflicts.\n",
            "torch 2.5.1+cu124 requires nvidia-cublas-cu12==12.4.5.8; platform_system == \"Linux\" and platform_machine == \"x86_64\", but you have nvidia-cublas-cu12 12.5.3.2 which is incompatible.\n",
            "torch 2.5.1+cu124 requires nvidia-cuda-cupti-cu12==12.4.127; platform_system == \"Linux\" and platform_machine == \"x86_64\", but you have nvidia-cuda-cupti-cu12 12.5.82 which is incompatible.\n",
            "torch 2.5.1+cu124 requires nvidia-cuda-nvrtc-cu12==12.4.127; platform_system == \"Linux\" and platform_machine == \"x86_64\", but you have nvidia-cuda-nvrtc-cu12 12.5.82 which is incompatible.\n",
            "torch 2.5.1+cu124 requires nvidia-cuda-runtime-cu12==12.4.127; platform_system == \"Linux\" and platform_machine == \"x86_64\", but you have nvidia-cuda-runtime-cu12 12.5.82 which is incompatible.\n",
            "torch 2.5.1+cu124 requires nvidia-cudnn-cu12==9.1.0.70; platform_system == \"Linux\" and platform_machine == \"x86_64\", but you have nvidia-cudnn-cu12 9.3.0.75 which is incompatible.\n",
            "torch 2.5.1+cu124 requires nvidia-cufft-cu12==11.2.1.3; platform_system == \"Linux\" and platform_machine == \"x86_64\", but you have nvidia-cufft-cu12 11.2.3.61 which is incompatible.\n",
            "torch 2.5.1+cu124 requires nvidia-curand-cu12==10.3.5.147; platform_system == \"Linux\" and platform_machine == \"x86_64\", but you have nvidia-curand-cu12 10.3.6.82 which is incompatible.\n",
            "torch 2.5.1+cu124 requires nvidia-cusolver-cu12==11.6.1.9; platform_system == \"Linux\" and platform_machine == \"x86_64\", but you have nvidia-cusolver-cu12 11.6.3.83 which is incompatible.\n",
            "torch 2.5.1+cu124 requires nvidia-cusparse-cu12==12.3.1.170; platform_system == \"Linux\" and platform_machine == \"x86_64\", but you have nvidia-cusparse-cu12 12.5.1.3 which is incompatible.\n",
            "torch 2.5.1+cu124 requires nvidia-nvjitlink-cu12==12.4.127; platform_system == \"Linux\" and platform_machine == \"x86_64\", but you have nvidia-nvjitlink-cu12 12.5.82 which is incompatible.\n",
            "gcsfs 2024.10.0 requires fsspec==2024.10.0, but you have fsspec 2024.9.0 which is incompatible.\u001b[0m\u001b[31m\n",
            "\u001b[0m"
          ]
        }
      ],
      "source": [
        "# %pip install -q bespokelabs-curator\n",
        "%pip install -q git+https://github.com/kartik4949/curator.git@682420b417eb39805691917235030bd6d559b65b"
      ]
    },
    {
      "cell_type": "code",
      "execution_count": null,
      "id": "4911e5eb-7463-4a6b-8a99-9313cecd9d4d",
      "metadata": {
        "id": "4911e5eb-7463-4a6b-8a99-9313cecd9d4d",
        "colab": {
          "base_uri": "https://localhost:8080/"
        },
        "outputId": "630d4db6-74ca-4083-f520-6688be8b860e"
      },
      "outputs": [
        {
          "name": "stdout",
          "output_type": "stream",
          "text": [
            "Enter your kluster.ai API key: ··········\n"
          ]
        }
      ],
      "source": [
        "from getpass import getpass\n",
        "api_key = getpass(\"Enter your kluster.ai API key: \")"
      ]
    },
    {
      "cell_type": "code",
      "execution_count": null,
      "id": "zG9y_WO5rYaj",
      "metadata": {
        "id": "zG9y_WO5rYaj"
      },
      "outputs": [],
      "source": [
        "from bespokelabs import curator\n",
        "\n",
        "llm = curator.LLM(\n",
        "    model_name=\"klusterai/Meta-Llama-3.1-8B-Instruct-Turbo\",\n",
        "    batch=True,\n",
        "    backend_params={\"api_key\": api_key, \"completion_window\": \"1h\"})"
      ]
    },
    {
      "cell_type": "markdown",
      "id": "udPtLfTaisSw",
      "metadata": {
        "id": "udPtLfTaisSw"
      },
      "source": [
        "## Get the data"
      ]
    },
    {
      "cell_type": "markdown",
      "id": "QjCVfg65jKz6",
      "metadata": {
        "id": "QjCVfg65jKz6"
      },
      "source": [
        "This notebook includes a preloaded sample dataset derived from the Top 1000 IMDb Movies dataset. It contains movie descriptions ready for classification. No additional setup is needed—simply proceed to the next steps to begin working with this data."
      ]
    },
    {
      "cell_type": "code",
      "source": [
        "movies = [\"Breakfast at Tiffany's: A young New York socialite becomes interested in a young man who has moved into her apartment building, but her past threatens to get in the way.\",\n",
        "        \"Giant: Sprawling epic covering the life of a Texas cattle rancher and his family and associates.\",\n",
        "        \"From Here to Eternity: In Hawaii in 1941, a private is cruelly punished for not boxing on his unit's team, while his captain's wife and second-in-command are falling in love.\",\n",
        "        \"Lifeboat: Several survivors of a torpedoed merchant ship in World War II find themselves in the same lifeboat with one of the crew members of the U-boat that sank their ship.\",\n",
        "        \"The 39 Steps: A man in London tries to help a counter-espionage Agent. But when the Agent is killed, and the man stands accused, he must go on the run to save himself and stop a spy ring which is trying to steal top secret information.\"]"
      ],
      "metadata": {
        "id": "dA9TL6wwr-VS"
      },
      "id": "dA9TL6wwr-VS",
      "execution_count": null,
      "outputs": []
    },
    {
      "cell_type": "code",
      "source": [
        "prompts = [f\"Classify the main genre of the given movie description based on the following genres(Respond with only the genre): “Action”, “Adventure”, “Comedy”, “Crime”, “Documentary”, “Drama”, “Fantasy”, “Horror”, “Romance”, “Sci-Fi”.\\n{movie}\" for movie in movies]"
      ],
      "metadata": {
        "id": "r35Ztc4NsVuW"
      },
      "id": "r35Ztc4NsVuW",
      "execution_count": null,
      "outputs": []
    },
    {
      "cell_type": "markdown",
      "id": "OyGuHllZllct",
      "metadata": {
        "id": "OyGuHllZllct"
      },
      "source": [
        "## Batch inference with Curator"
      ]
    },
    {
      "cell_type": "markdown",
      "id": "64c345aa-b6a7-4770-8368-b290e9e799dc",
      "metadata": {
        "id": "64c345aa-b6a7-4770-8368-b290e9e799dc"
      },
      "source": [
        "To execute the inference job, we’ll follow three straightforward steps:\n",
        "1. **Create the inference file -** we’ll generate a file with the desired requests to be processed by the model.\n",
        "2. **Upload the inference file -** once the file is ready, we’ll upload it to the kluster.ai platform using the API, where it will be queued for processing.\n",
        "3. **Start the job -** after the file is uploaded, we’ll initiate the job to process the uploaded data.\n",
        "\n",
        "Everything is set up for you – just run the cells below to watch it all come together!\n",
        "\n",
        "**This is all handled automatically by Curator**"
      ]
    },
    {
      "cell_type": "code",
      "execution_count": null,
      "id": "qqIgWWCn4MIJ",
      "metadata": {
        "id": "qqIgWWCn4MIJ"
      },
      "outputs": [],
      "source": [
        "responses = llm(prompts)"
      ]
    },
    {
      "cell_type": "code",
      "execution_count": null,
      "id": "xKhW-uXy4X32",
      "metadata": {
        "id": "xKhW-uXy4X32",
        "colab": {
          "base_uri": "https://localhost:8080/",
          "height": 34
        },
        "outputId": "b0a2d37b-7bb8-4600-f23e-00f40ef05d2a"
      },
      "outputs": [
        {
          "output_type": "execute_result",
          "data": {
            "text/plain": [
              "['Drama', 'Drama', 'Drama', 'Drama', 'Action/Adventure']"
            ]
          },
          "metadata": {},
          "execution_count": 30
        }
      ],
      "source": [
        "responses['response']"
      ]
    },
    {
      "cell_type": "markdown",
      "id": "70e0e816-6558-4ff2-bab2-f85cff00bfc8",
      "metadata": {
        "id": "70e0e816-6558-4ff2-bab2-f85cff00bfc8"
      },
      "source": [
        "## Conclusion"
      ]
    },
    {
      "cell_type": "markdown",
      "id": "7d195dd1-1293-4407-b6ad-cab7e77b14c0",
      "metadata": {
        "id": "7d195dd1-1293-4407-b6ad-cab7e77b14c0"
      },
      "source": [
        "You’ve successfully completed the classification request using the kluster.ai Batch API! This process showcases how you can efficiently handle and classify large amounts of data with ease. The Batch API empowers you to scale your workflows seamlessly, making it an invaluable tool for processing extensive datasets."
      ]
    }
  ],
  "metadata": {
    "colab": {
      "provenance": []
    },
    "kernelspec": {
      "display_name": "Python 3",
      "language": "python",
      "name": "python3"
    },
    "language_info": {
      "codemirror_mode": {
        "name": "ipython",
        "version": 3
      },
      "file_extension": ".py",
      "mimetype": "text/x-python",
      "name": "python",
      "nbconvert_exporter": "python",
      "pygments_lexer": "ipython3",
      "version": "3.9.6"
    }
  },
  "nbformat": 4,
  "nbformat_minor": 5
}