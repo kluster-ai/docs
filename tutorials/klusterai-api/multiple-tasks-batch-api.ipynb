{
 "cells": [
  {
   "cell_type": "markdown",
   "id": "be189fde-4e5b-4f80-bae1-ded86a5075a7",
   "metadata": {
    "id": "be189fde-4e5b-4f80-bae1-ded86a5075a7"
   },
   "source": [
    "# Quick start: multiple inference requests with kluster.ai"
   ]
  },
  {
   "cell_type": "markdown",
   "id": "b17a77d9",
   "metadata": {},
   "source": [
    "[![Open in Colab](https://colab.research.google.com/assets/colab-badge.svg)](https://colab.research.google.com/github/kluster-ai/klusterai-cookbook/blob/main/examples/multiple-tasks-batch-api.ipynb)"
   ]
  },
  {
   "cell_type": "markdown",
   "id": "6d1d06ea-79c1-4f28-b312-0e5aabe18ff3",
   "metadata": {
    "id": "6d1d06ea-79c1-4f28-b312-0e5aabe18ff3"
   },
   "source": [
    "This tutorial runs through a Colab Notebook where you'll learn how to use the <a href=\"https://kluster.ai/\" target=\"_blank\">kluster.ai</a> Batch API to extract insights from large volumes of text data. By the end of this guide, you'll be able to summarize a dataset, generate keywords, translate text to another language (in this case, English to Spanish), classify the text, and extract the relevant keywords* all without writing a single line of code. Whether you're familiar with LLMs or just getting started, this guide is designed to get you up and running in minutes.\n",
    "\n",
    "In this guide, you'll follow just two simple steps:\n",
    "\n",
    "1.\t**Select a Dataset -** we offer three different datasets. You can select one from the provided options to get started, but feel free to bring your own dataset.\n",
    "2.\t**Run Configurations and Predictions -** all configuration settings are already defined. After selecting the dataset, you can proceed by simply running the provided cells, which will handle all configurations and execute inference requests for you.\n",
    "\n",
    "Simply provide your API key and run the preloaded cells to perform the classification. If you don’t have an API key, you can sign up for free <a href=\"https://platform.kluster.ai/signup\" target=\"_blank\">on our platform</a>."
   ]
  },
  {
   "cell_type": "markdown",
   "id": "xU1WBQJ7Uh09",
   "metadata": {
    "id": "xU1WBQJ7Uh09"
   },
   "source": [
    "## Config"
   ]
  },
  {
   "cell_type": "markdown",
   "id": "0fd97579",
   "metadata": {},
   "source": [
    "Enter your personal kluster.ai API key (make sure it has no blank spaces). Remember to <a href=\"https://platform.kluster.ai/signup\" target=\"_blank\">sign up</a> if you don't have one yet."
   ]
  },
  {
   "cell_type": "code",
   "execution_count": 4,
   "id": "4911e5eb-7463-4a6b-8a99-9313cecd9d4d",
   "metadata": {},
   "outputs": [
    {
     "name": "stdout",
     "output_type": "stream",
     "text": [
      "Enter your kluster.ai API key:  ········\n"
     ]
    }
   ],
   "source": [
    "from getpass import getpass\n",
    "api_key = getpass(\"Enter your kluster.ai API key: \")"
   ]
  },
  {
   "cell_type": "markdown",
   "id": "650e5559-69c7-4274-8700-a7d94791e9db",
   "metadata": {
    "id": "650e5559-69c7-4274-8700-a7d94791e9db"
   },
   "source": [
    "##Setup"
   ]
  },
  {
   "cell_type": "code",
   "execution_count": 5,
   "id": "bcc3d475-8f49-4fc4-9a5e-c6eb6866d2b5",
   "metadata": {},
   "outputs": [
    {
     "name": "stdout",
     "output_type": "stream",
     "text": [
      "Note: you may need to restart the kernel to use updated packages.\n"
     ]
    }
   ],
   "source": [
    "%pip install -q openai"
   ]
  },
  {
   "cell_type": "code",
   "execution_count": 6,
   "id": "b89a4feb-37a9-430d-a742-cd58495b4eaf",
   "metadata": {},
   "outputs": [],
   "source": [
    "import os\n",
    "import urllib.request\n",
    "import pandas as pd\n",
    "import requests\n",
    "from openai import OpenAI\n",
    "import time\n",
    "import json\n",
    "from IPython.display import clear_output, display\n",
    "\n",
    "pd.set_option('display.max_columns', 1000, 'display.width', 1000, 'display.max_rows',1000, 'display.max_colwidth', 500)"
   ]
  },
  {
   "cell_type": "code",
   "execution_count": 7,
   "id": "zG9y_WO5rYaj",
   "metadata": {},
   "outputs": [],
   "source": [
    "# Set up the client\n",
    "client = OpenAI(\n",
    "    base_url=\"https://api.kluster.ai/v1\",\n",
    "    api_key=api_key,\n",
    ")"
   ]
  },
  {
   "cell_type": "markdown",
   "id": "udPtLfTaisSw",
   "metadata": {
    "id": "udPtLfTaisSw"
   },
   "source": [
    "## Fetch the data"
   ]
  },
  {
   "cell_type": "markdown",
   "id": "QjCVfg65jKz6",
   "metadata": {
    "id": "QjCVfg65jKz6"
   },
   "source": [
    "In this section, you can choose from three different datasets to work with. Simply select the URL corresponding to the dataset you want, and the notebook will automatically fetch it for you. No extra steps are needed!"
   ]
  },
  {
   "cell_type": "code",
   "execution_count": 8,
   "id": "yC9wJlV4rwOh",
   "metadata": {},
   "outputs": [],
   "source": [
    "# Choose your dataset:\n",
    "# AMZ musical instrument reviews dataset:\n",
    "url = \"https://snap.stanford.edu/data/amazon/productGraph/categoryFiles/reviews_Musical_Instruments_5.json.gz\"\n",
    "\n",
    "# IMDB Top 1000 sample dataset:\n",
    "#url = \"https://raw.githubusercontent.com/kluster-ai/klusterai-cookbook/refs/heads/main/data/imdb_top_1000.csv\"\n",
    "\n",
    "# AG News sample dataset:\n",
    "#url = \"https://raw.githubusercontent.com/kluster-ai/klusterai-cookbook/refs/heads/main/data/ag_news.csv\""
   ]
  },
  {
   "cell_type": "code",
   "execution_count": 9,
   "id": "07018f92-9a01-47d5-916a-12cd03dfa3a0",
   "metadata": {},
   "outputs": [
    {
     "name": "stdout",
     "output_type": "stream",
     "text": [
      "Dataset downloaded and saved as data/reviews_Musical_Instruments_5.json.gz\n"
     ]
    },
    {
     "data": {
      "text/html": [
       "<div>\n",
       "<style scoped>\n",
       "    .dataframe tbody tr th:only-of-type {\n",
       "        vertical-align: middle;\n",
       "    }\n",
       "\n",
       "    .dataframe tbody tr th {\n",
       "        vertical-align: top;\n",
       "    }\n",
       "\n",
       "    .dataframe thead th {\n",
       "        text-align: right;\n",
       "    }\n",
       "</style>\n",
       "<table border=\"1\" class=\"dataframe\">\n",
       "  <thead>\n",
       "    <tr style=\"text-align: right;\">\n",
       "      <th></th>\n",
       "      <th>text</th>\n",
       "    </tr>\n",
       "  </thead>\n",
       "  <tbody>\n",
       "    <tr>\n",
       "      <th>0</th>\n",
       "      <td>Great, just as expected.  Thank to all.</td>\n",
       "    </tr>\n",
       "    <tr>\n",
       "      <th>1</th>\n",
       "      <td>I've been thinking about trying the Nanoweb strings for a while, but I was a bit put off by the high price (they cost about twice as much as the uncharted strings I've been buying)  and the comments of some reviewers that the tone of coated strings is noticeably duller. I was intrigued by the promise of long life, though; I have a Taylor Big Baby that I bought used, and which came with a set of Nanowebs that had probably been on it for a year- and they didn't sound at all like old strings. T...</td>\n",
       "    </tr>\n",
       "    <tr>\n",
       "      <th>2</th>\n",
       "      <td>I have tried coated strings in the past ( including Elixirs) and have never been very fond of them. Whenever I tried them I felt a certain disconnect from my guitar. Somewhat reminiscent of wearing condom. Not that I hated them, just didn't really love them. These are the best ones I've tried so far. I still don't like them as much as regular strings but because of the type of gigs I mostly do these seem to be a reasonable trade off. If you need a longer lasting string for whatever the reaso...</td>\n",
       "    </tr>\n",
       "    <tr>\n",
       "      <th>3</th>\n",
       "      <td>Well, MADE by Elixir and DEVELOPED with Taylor Guitars ... these strings were designed for the new 800 (Rosewood) series guitars that came out this year (2014) ... the promise is a &amp;#34;bolder high end, fuller low end&amp;#34; ... I am a long-time Taylor owner and favor their 800 series (Rosewood/Spruce is my favorite combo in tone woods) ... I have almost always used Elixir Nanoweb Phosphor Bronze lights on my guitars ... I like not only the tone but the feel and longevity of these strings ... ...</td>\n",
       "    </tr>\n",
       "    <tr>\n",
       "      <th>4</th>\n",
       "      <td>These strings are really quite good, but I wouldn't call them perfect.  The unwound strings are not quite as bright as I am accustomed to, but they still ring nicely.  This is the only complaint I have about these strings.  If the unwound strings were a tiny bit brighter, these would be 5-star strings.  As it stands, I give them 4.5 stars... not a big knock, actually.The low-end on the wound strings is very nice and quite warm.  I put these on a jumbo and it definitely accentuates the &amp;#34;j...</td>\n",
       "    </tr>\n",
       "  </tbody>\n",
       "</table>\n",
       "</div>"
      ],
      "text/plain": [
       "                                                                                                                                                                                                                                                                                                                                                                                                                                                                                                                  text\n",
       "0                                                                                                                                                                                                                                                                                                                                                                                                                                                                              Great, just as expected.  Thank to all.\n",
       "1  I've been thinking about trying the Nanoweb strings for a while, but I was a bit put off by the high price (they cost about twice as much as the uncharted strings I've been buying)  and the comments of some reviewers that the tone of coated strings is noticeably duller. I was intrigued by the promise of long life, though; I have a Taylor Big Baby that I bought used, and which came with a set of Nanowebs that had probably been on it for a year- and they didn't sound at all like old strings. T...\n",
       "2  I have tried coated strings in the past ( including Elixirs) and have never been very fond of them. Whenever I tried them I felt a certain disconnect from my guitar. Somewhat reminiscent of wearing condom. Not that I hated them, just didn't really love them. These are the best ones I've tried so far. I still don't like them as much as regular strings but because of the type of gigs I mostly do these seem to be a reasonable trade off. If you need a longer lasting string for whatever the reaso...\n",
       "3  Well, MADE by Elixir and DEVELOPED with Taylor Guitars ... these strings were designed for the new 800 (Rosewood) series guitars that came out this year (2014) ... the promise is a &#34;bolder high end, fuller low end&#34; ... I am a long-time Taylor owner and favor their 800 series (Rosewood/Spruce is my favorite combo in tone woods) ... I have almost always used Elixir Nanoweb Phosphor Bronze lights on my guitars ... I like not only the tone but the feel and longevity of these strings ... ...\n",
       "4  These strings are really quite good, but I wouldn't call them perfect.  The unwound strings are not quite as bright as I am accustomed to, but they still ring nicely.  This is the only complaint I have about these strings.  If the unwound strings were a tiny bit brighter, these would be 5-star strings.  As it stands, I give them 4.5 stars... not a big knock, actually.The low-end on the wound strings is very nice and quite warm.  I put these on a jumbo and it definitely accentuates the &#34;j..."
      ]
     },
     "execution_count": 9,
     "metadata": {},
     "output_type": "execute_result"
    }
   ],
   "source": [
    "def fetch_dataset(url, file_path=None):\n",
    "    # Set the default file path based on the URL if none is provided\n",
    "    if not file_path:\n",
    "        file_path = os.path.join(\"data\", os.path.basename(url))\n",
    "\n",
    "    # Create the directory if it does not exist\n",
    "    os.makedirs(os.path.dirname(file_path), exist_ok=True)\n",
    "\n",
    "    # Download the file\n",
    "    urllib.request.urlretrieve(url, file_path)\n",
    "    print(f\"Dataset downloaded and saved as {file_path}\")\n",
    "\n",
    "    # Load and process the dataset based on URL content\n",
    "    if \"imdb_top_1000.csv\" in url:\n",
    "        df = pd.read_csv(file_path)\n",
    "        df['text'] = df['Series_Title'].astype(str) + \": \" + df['Overview'].astype(str)\n",
    "        df = df[['text']]\n",
    "    elif \"ag_news\" in url:\n",
    "        df = pd.read_csv(file_path, header=None, names=[\"label\", \"title\", \"description\"])\n",
    "        df['text'] = df['title'].astype(str) + \": \" + df['description'].astype(str)\n",
    "        df = df[['text']]\n",
    "    elif \"reviews_Musical_Instruments_5.json.gz\" in url:\n",
    "        df = pd.read_json(file_path, compression='gzip', lines=True)\n",
    "        df.rename({'reviewText': 'text'}, axis=1, inplace=True)\n",
    "        df = df[['text']]\n",
    "    else:\n",
    "        raise ValueError(\"URL does not match any known dataset format.\")\n",
    "\n",
    "    return df.tail(5).reset_index(drop=True)\n",
    "\n",
    "df = fetch_dataset(url=url, file_path=None)\n",
    "df.head()"
   ]
  },
  {
   "cell_type": "markdown",
   "id": "ehGwA0XRA87y",
   "metadata": {
    "id": "ehGwA0XRA87y"
   },
   "source": [
    "Now that you have an idea of what the original text looks like, we can move forward with defining the requests to perform."
   ]
  },
  {
   "cell_type": "markdown",
   "id": "w-Lux3oUjfYI",
   "metadata": {
    "id": "w-Lux3oUjfYI"
   },
   "source": [
    "## Define the requests"
   ]
  },
  {
   "cell_type": "markdown",
   "id": "zjm-ST7dkHKm",
   "metadata": {
    "id": "zjm-ST7dkHKm"
   },
   "source": [
    "In this section, we’ve predefined five requests for the model to execute based on common customer use cases:\n",
    "1.\tSentiment Analysis\n",
    "2.\tTranslation\n",
    "3.\tSummarization\n",
    "4.\tTopic Classification\n",
    "5.\tKeyword Extraction\n",
    "\n",
    "If you’re happy with these requests, you can simply run the code as-is. However, if you’d like to customize the requests, then feel free to modify the prompts (or add new ones) to make personal requests."
   ]
  },
  {
   "cell_type": "code",
   "execution_count": 10,
   "id": "c8838ccb-c29b-477d-b15f-a95741aa528f",
   "metadata": {},
   "outputs": [],
   "source": [
    "SYSTEM_PROMPTS = {\n",
    "    'sentiment': '''\n",
    "    Analyze the sentiment of the given text. Provide only a JSON object with the following structure:\n",
    "    {\n",
    "        \"sentiment\": string, // \"positive\", \"negative\", or \"neutral\"\n",
    "        \"confidence\": float, // A value between 0 and 1 indicating your confidence in the sentiment analysis\n",
    "    }\n",
    "    ''',\n",
    "\n",
    "    'translation': '''\n",
    "    Translate the given text from English to Spanish, paraphrase, rewrite or perform cultural adaptations for the text to make sense in Spanish. Provide only a JSON object with the following structure:\n",
    "    {\n",
    "        \"translation\": string, // The Spanish translation\n",
    "        \"notes\": string // Any notes about the translation, such as cultural adaptations or challenging phrases (max 500 words). Write this mainly in english.\n",
    "    }\n",
    "    ''',\n",
    "\n",
    "    'summary': '''\n",
    "    Summarize the main points of the given text. Provide only a JSON object with the following structure:\n",
    "    {\n",
    "        \"summary\": string, // A concise summary of the text (max 100 words)\n",
    "    }\n",
    "    ''',\n",
    "\n",
    "    'topic_classification': '''\n",
    "    Classify the main topic of the given text based on the following categories: \"politics\", \"sports\", \"technology\", \"science\", \"business\", \"entertainment\", \"health\", \"other\". Provide only a JSON object with the following structure:\n",
    "    {\n",
    "        \"category\": string, // The primary category of the provided text\n",
    "        \"confidence\": float, // A value between 0 and 1 indicating confidence in the classification\n",
    "    }\n",
    "    ''',\n",
    "\n",
    "    'keyword_extraction': '''\n",
    "    Extract relevant keywords from the given text. Provide only a JSON object with the following structure:\n",
    "    {\n",
    "        \"keywords\": string[], // An array of up to 5 keywords that best represent the text content\n",
    "        \"context\": string // Briefly explain how each keyword is relevant to the text (max 200 words)\n",
    "    }\n",
    "    '''\n",
    "}"
   ]
  },
  {
   "cell_type": "markdown",
   "id": "OyGuHllZllct",
   "metadata": {
    "id": "OyGuHllZllct"
   },
   "source": [
    "## Batch inference"
   ]
  },
  {
   "cell_type": "markdown",
   "id": "6-MZlfXAoiNv",
   "metadata": {
    "id": "6-MZlfXAoiNv"
   },
   "source": [
    "Now we’re diving into the main event of this notebook: running inference requests! This is the core purpose of the tool, and it’s where the magic happens.\n",
    "\n",
    "To execute the request, we’ll follow three straightforward steps:\n",
    "1. Create the Batch input file - we’ll generate a file with the desired requests to be processed by the model.\n",
    "2. Upload the Batch input file to kluster.ai - once the file is ready, we’ll upload it to the kluster.ai platform using the API, where it will be queued for processing.\n",
    "3. Start the job - after the file is uploaded, we’ll initiate the job to process the uploaded data.\n",
    "\n",
    "Everything is set up for you – just run the cells below to watch it all come together!"
   ]
  },
  {
   "cell_type": "markdown",
   "id": "Ew-R24Ltp5EW",
   "metadata": {
    "id": "Ew-R24Ltp5EW"
   },
   "source": [
    "### Create the Batch input file"
   ]
  },
  {
   "cell_type": "markdown",
   "id": "qS4JXT52wGJ-",
   "metadata": {
    "id": "qS4JXT52wGJ-"
   },
   "source": [
    "This example selects the `klusterai/Meta-Llama-3.1-405B-Instruct-Turbo` model. If you'd like to use a different model feel free to change the model's name in the following cell. Please refer to our <a href=\"https://docs.kluster.ai/getting-started/#list-supported-models\" target=\"_blank\">documentation</a> for a list of the models we support."
   ]
  },
  {
   "cell_type": "code",
   "execution_count": 11,
   "id": "fVtwyqZ_nEq7",
   "metadata": {},
   "outputs": [],
   "source": [
    "def create_inference_file(df, inference_type, system_prompt):\n",
    "    inference_list = []\n",
    "    for index, row in df.iterrows():\n",
    "        content = row['text']\n",
    "\n",
    "        request = {\n",
    "            \"custom_id\": f\"{inference_type}-{index}\",\n",
    "            \"method\": \"POST\",\n",
    "            \"url\": \"/v1/chat/completions\",\n",
    "            \"body\": {\n",
    "                \"model\": \"klusterai/Meta-Llama-3.1-405B-Instruct-Turbo\",\n",
    "                \"temperature\": 0.5,\n",
    "                \"messages\": [\n",
    "                    {\"role\": \"system\", \"content\": system_prompt},\n",
    "                    {\"role\": \"user\", \"content\": content}\n",
    "                ],\n",
    "            }\n",
    "        }\n",
    "        inference_list.append(request)\n",
    "    return inference_list\n",
    "\n",
    "def save_inference_file(inference_list, inference_type):\n",
    "    filename = f\"data/inference_request_{inference_type}.jsonl\"\n",
    "    with open(filename, 'w') as file:\n",
    "        for request in inference_list:\n",
    "            file.write(json.dumps(request) + '\\n')\n",
    "    return filename"
   ]
  },
  {
   "cell_type": "code",
   "execution_count": 12,
   "id": "qNhmrmHdnp7g",
   "metadata": {},
   "outputs": [],
   "source": [
    "inference_requests = []\n",
    "\n",
    "for inference_type, system_prompt in SYSTEM_PROMPTS.items():\n",
    "    inference_list = create_inference_file(df, inference_type, system_prompt)\n",
    "    filename = save_inference_file(inference_list, inference_type)\n",
    "    inference_requests.append((inference_type, filename))"
   ]
  },
  {
   "cell_type": "markdown",
   "id": "xArKu7-sqSiR",
   "metadata": {
    "id": "xArKu7-sqSiR"
   },
   "source": [
    "### Upload inference file to kluster.ai"
   ]
  },
  {
   "cell_type": "code",
   "execution_count": null,
   "id": "l5eu5UyAnEtk",
   "metadata": {},
   "outputs": [],
   "source": [
    "def create_inference_job(file_name):\n",
    "    print(f\"Creating request for {file_name}\")\n",
    "    inference_input_file = client.files.create(\n",
    "        file=open(file_name, \"rb\"),\n",
    "        purpose=\"batch\"\n",
    "    )\n",
    "\n",
    "    inference_job = client.batches.create(\n",
    "        input_file_id=inference_input_file.id,\n",
    "        endpoint=\"/v1/chat/completions\",\n",
    "        completion_window=\"24h\"\n",
    "    )\n",
    "\n",
    "    return inference_job"
   ]
  },
  {
   "cell_type": "code",
   "execution_count": 14,
   "id": "jwzlrHCTp2LO",
   "metadata": {},
   "outputs": [
    {
     "name": "stdout",
     "output_type": "stream",
     "text": [
      "Creating request for data/inference_request_sentiment.jsonl\n",
      "Creating request for data/inference_request_translation.jsonl\n",
      "Creating request for data/inference_request_summary.jsonl\n",
      "Creating request for data/inference_request_topic_classification.jsonl\n",
      "Creating request for data/inference_request_keyword_extraction.jsonl\n"
     ]
    }
   ],
   "source": [
    "inference_jobs = []\n",
    "\n",
    "for inference_type, file_name in inference_requests:\n",
    "    job = create_inference_job(file_name)\n",
    "    inference_jobs.append((f\"{inference_type}\", job))"
   ]
  },
  {
   "cell_type": "markdown",
   "id": "ca918c23",
   "metadata": {},
   "source": [
    "All requests are now being processed!"
   ]
  },
  {
   "cell_type": "markdown",
   "id": "e-ujphILqepu",
   "metadata": {
    "id": "e-ujphILqepu"
   },
   "source": [
    "### Check job progress"
   ]
  },
  {
   "cell_type": "markdown",
   "id": "iFrDrriQqizC",
   "metadata": {
    "id": "iFrDrriQqizC"
   },
   "source": [
    "In the following section, we’ll monitor the status of each job to see how they’re progressing. Let’s take a look and keep track of their completion."
   ]
  },
  {
   "cell_type": "code",
   "execution_count": 15,
   "id": "SuH0CfoqjP3d",
   "metadata": {},
   "outputs": [
    {
     "data": {
      "text/plain": [
       "'Sentiment job completed!'"
      ]
     },
     "metadata": {},
     "output_type": "display_data"
    },
    {
     "data": {
      "text/plain": [
       "'Translation job completed!'"
      ]
     },
     "metadata": {},
     "output_type": "display_data"
    },
    {
     "data": {
      "text/plain": [
       "'Summary job completed!'"
      ]
     },
     "metadata": {},
     "output_type": "display_data"
    },
    {
     "data": {
      "text/plain": [
       "'Topic_classification job completed!'"
      ]
     },
     "metadata": {},
     "output_type": "display_data"
    },
    {
     "data": {
      "text/plain": [
       "'Keyword_extraction job completed!'"
      ]
     },
     "metadata": {},
     "output_type": "display_data"
    }
   ],
   "source": [
    "def parse_json_objects(data_string):\n",
    "    if isinstance(data_string, bytes):\n",
    "        data_string = data_string.decode('utf-8')\n",
    "\n",
    "    json_strings = data_string.strip().split('\\n')\n",
    "    json_objects = []\n",
    "\n",
    "    for json_str in json_strings:\n",
    "        try:\n",
    "            json_obj = json.loads(json_str)\n",
    "            json_objects.append(json_obj)\n",
    "        except json.JSONDecodeError as e:\n",
    "            print(f\"Error parsing JSON: {e}\")\n",
    "\n",
    "    return json_objects\n",
    "\n",
    "all_completed = False\n",
    "while not all_completed:\n",
    "    all_completed = True\n",
    "    output_lines = []\n",
    "\n",
    "    for i, (job_type, job) in enumerate(inference_jobs):\n",
    "        updated_job = client.batches.retrieve(job.id)\n",
    "        inference_jobs[i] = (job_type, updated_job)\n",
    "\n",
    "        if updated_job.status.lower() != \"completed\":\n",
    "            all_completed = False\n",
    "            completed = updated_job.request_counts.completed\n",
    "            total = updated_job.request_counts.total\n",
    "            output_lines.append(f\"{job_type.capitalize()} job status: {updated_job.status} - Progress: {completed}/{total}\")\n",
    "        else:\n",
    "            output_lines.append(f\"{job_type.capitalize()} job completed!\")\n",
    "\n",
    "    # Clear the output and display updated status\n",
    "    clear_output(wait=True)\n",
    "    for line in output_lines:\n",
    "        display(line)\n",
    "\n",
    "    if not all_completed:\n",
    "        time.sleep(10)"
   ]
  },
  {
   "cell_type": "markdown",
   "id": "TkkhIG9HU0D9",
   "metadata": {
    "id": "TkkhIG9HU0D9"
   },
   "source": [
    "## Get the results"
   ]
  },
  {
   "cell_type": "code",
   "execution_count": 16,
   "id": "caA5djbLrJ4O",
   "metadata": {},
   "outputs": [
    {
     "name": "stdout",
     "output_type": "stream",
     "text": [
      "\n",
      " -------------------------- \n",
      "\n",
      "Inference ID: sentiment-0. \n",
      "\n",
      "TEXT: Great, just as expected.  Thank to all.\n",
      "\n",
      "RESULT: {\"sentiment\": \"positive\", \"confidence\": 0.9}\n",
      "\n",
      " -------------------------- \n",
      "\n",
      "Inference ID: sentiment-1. \n",
      "\n",
      "TEXT: I've been thinking about trying the Nanoweb strings for a while, but I was a bit put off by the high price (they cost about twice as much as the uncharted strings I've been buying)  and the comments of some reviewers that the tone of coated strings is noticeably duller. I was intrigued by the promise of long life, though; I have a Taylor Big Baby that I bought used, and which came with a set of Nanowebs that had probably been on it for a year- and they didn't sound at all like old strings. This review set gave me a chance to finally see for myself how they sound when new.I'd just changed the strings on my 1970s Gibson Gospel a week ago, so I decided that would be my reference. The Nanowebs went on my 1970s Guild D-35. Both are well broken in, solid spruce top guitars. The Gospel is a bit brighter sounding, but I'm pretty familiar with the sound of both guitars. If they D-35 sounded dull, I'd notice.As I was unwrapping the Nanowebs I noticed that while they were labeled \"Light\" gauge, they had a 0.013\" E string- something you'd be more likely to find on a set of medium gauge strings. The B was a .017, compared to the .016 of the D'Addarios I usually play. The rest of the strings were there usual light gauges. Turns out that these are \"HD Light\" gauge, designed to have a slightly more tension and better articulation at the high end. The difference shouldn't be enough to require any truss rod adjustment so I went ahead and installed them on the D-35.So how do they sound? The unwound E and B don't sound different from any other plain steel string, of course. The E does feel a tiny bit stiffer, when I switch between the D-35 and the Gospel. Sound-wise, I'd say they sound like a good set that have been on a guitar for a day. I wouldn't call them dull by any stretch of the imagination. If I didn't know that they were coated strings I certainly wouldn't be able to tell from playing them. So they're good sounding strings, and they last a long time. That leaves the question of cost- are they worth twice the price of uncoated strings?Here's the way I see it: If you're a heavy strummer, or playing gigs every night, maybe not. You're probably breaking strings or losing them to metal fatigue long before they'd go dull from corrosion or contamination. But if you're a finger picker, or a light strummer, a coated string will probably save you a lot of money in the long run. And if you're a hobby player who keeps a guitar around the house, and picks it up once in a while to entertain friends or family, coated strings are probably an excellent choice. For myself, I'm going to leave these on the D-35 for as long as they still sound good. I'll update this review when I find out just how long they do last.Follow up: After playing these for a few days, I actually went out and bought a set in the same gauge for my Loar LH-350, an arch top guitar with a carved top that gets played more than any of my other guitars. They sound great on the Loar, and now I have two guitars to do a long term test on.\n",
      "\n",
      "RESULT: ```\n",
      "{\n",
      "    \"sentiment\": \"positive\",\n",
      "    \"confidence\": 0.85\n",
      "}\n",
      "```\n",
      "\n",
      " -------------------------- \n",
      "\n",
      "Inference ID: sentiment-2. \n",
      "\n",
      "TEXT: I have tried coated strings in the past ( including Elixirs) and have never been very fond of them. Whenever I tried them I felt a certain disconnect from my guitar. Somewhat reminiscent of wearing condom. Not that I hated them, just didn't really love them. These are the best ones I've tried so far. I still don't like them as much as regular strings but because of the type of gigs I mostly do these seem to be a reasonable trade off. If you need a longer lasting string for whatever the reason these are really the best out there. After a dozen or so gigs with them, they still sound the same as when I put them on.\n",
      "\n",
      "RESULT: ```\n",
      "{\n",
      "    \"sentiment\": \"neutral\",\n",
      "    \"confidence\": 0.7\n",
      "}\n",
      "```\n",
      "\n",
      " -------------------------- \n",
      "\n",
      "Inference ID: sentiment-3. \n",
      "\n",
      "TEXT: Well, MADE by Elixir and DEVELOPED with Taylor Guitars ... these strings were designed for the new 800 (Rosewood) series guitars that came out this year (2014) ... the promise is a &#34;bolder high end, fuller low end&#34; ... I am a long-time Taylor owner and favor their 800 series (Rosewood/Spruce is my favorite combo in tone woods) ... I have almost always used Elixir Nanoweb Phosphor Bronze lights on my guitars ... I like not only the tone but the feel and longevity of these strings ... I have never had any issues with Elixir Nanowebs ... I recently picked up an 812ce First Edition 12-Fret ... such a fine instrument and it came with the Elixir HD's ... took some getting used to as far as feel (due to the slightly higher gauges of the treble strings - E, B & G) ... but as far as sound, they are great ... the D, A & low E strings are no different from the regular Elixir PB Lights so I am not sure about the claim of &#34;fuller low end&#34; ... compared to what?  Unless the extra string tension of the treble strings also contributes to a little more bass response ... I am not sure how these strings will perform on guitars other than Taylor's but what anyone should notice is more volume and clarity from the treble strings ... that is what I notice most from the HD's compared to the regular ... I still find no fault with the regular Elixir Nanaweb PB's but will most likely continue to run the HD's on my 12-fret ... I may also try them on my older 814ce just to see if there is any difference/improvement ... so far I find the set well balanced with good clarity and sustain ... try them out and make your own decision ...\n",
      "\n",
      "RESULT: ```\n",
      "{\n",
      "  \"sentiment\": \"positive\",\n",
      "  \"confidence\": 0.85\n",
      "}\n",
      "```\n",
      "\n",
      " -------------------------- \n",
      "\n",
      "Inference ID: sentiment-4. \n",
      "\n",
      "TEXT: These strings are really quite good, but I wouldn't call them perfect.  The unwound strings are not quite as bright as I am accustomed to, but they still ring nicely.  This is the only complaint I have about these strings.  If the unwound strings were a tiny bit brighter, these would be 5-star strings.  As it stands, I give them 4.5 stars... not a big knock, actually.The low-end on the wound strings is very nice and quite warm.  I put these on a jumbo and it definitely accentuates the &#34;jumbo&#34; aspect of my acoustic.  The sound is very big, full, and nice.Definitely a recommended product!4.5/5 stars\n",
      "\n",
      "RESULT: ```\n",
      "{\n",
      "    \"sentiment\": \"positive\",\n",
      "    \"confidence\": 0.9\n",
      "}\n",
      "```\n",
      "\n",
      " -------------------------- \n",
      "\n",
      "Inference ID: translation-0. \n",
      "\n",
      "TEXT: Great, just as expected.  Thank to all.\n",
      "\n",
      "RESULT: {\n",
      "    \"translation\": \"Excelente, tal como se esperaba. Gracias a todos.\",\n",
      "    \"notes\": \"This translation is straightforward and doesn't require any cultural adaptations. The phrase 'Great, just as expected' is translated to 'Excelente, tal como se esperaba', maintaining the same tone and meaning. The phrase 'Thank to all' is translated to 'Gracias a todos', which is a common way to express gratitude in Spanish.\"\n",
      "}\n",
      "\n",
      " -------------------------- \n",
      "\n",
      "Inference ID: translation-1. \n",
      "\n",
      "TEXT: I've been thinking about trying the Nanoweb strings for a while, but I was a bit put off by the high price (they cost about twice as much as the uncharted strings I've been buying)  and the comments of some reviewers that the tone of coated strings is noticeably duller. I was intrigued by the promise of long life, though; I have a Taylor Big Baby that I bought used, and which came with a set of Nanowebs that had probably been on it for a year- and they didn't sound at all like old strings. This review set gave me a chance to finally see for myself how they sound when new.I'd just changed the strings on my 1970s Gibson Gospel a week ago, so I decided that would be my reference. The Nanowebs went on my 1970s Guild D-35. Both are well broken in, solid spruce top guitars. The Gospel is a bit brighter sounding, but I'm pretty familiar with the sound of both guitars. If they D-35 sounded dull, I'd notice.As I was unwrapping the Nanowebs I noticed that while they were labeled \"Light\" gauge, they had a 0.013\" E string- something you'd be more likely to find on a set of medium gauge strings. The B was a .017, compared to the .016 of the D'Addarios I usually play. The rest of the strings were there usual light gauges. Turns out that these are \"HD Light\" gauge, designed to have a slightly more tension and better articulation at the high end. The difference shouldn't be enough to require any truss rod adjustment so I went ahead and installed them on the D-35.So how do they sound? The unwound E and B don't sound different from any other plain steel string, of course. The E does feel a tiny bit stiffer, when I switch between the D-35 and the Gospel. Sound-wise, I'd say they sound like a good set that have been on a guitar for a day. I wouldn't call them dull by any stretch of the imagination. If I didn't know that they were coated strings I certainly wouldn't be able to tell from playing them. So they're good sounding strings, and they last a long time. That leaves the question of cost- are they worth twice the price of uncoated strings?Here's the way I see it: If you're a heavy strummer, or playing gigs every night, maybe not. You're probably breaking strings or losing them to metal fatigue long before they'd go dull from corrosion or contamination. But if you're a finger picker, or a light strummer, a coated string will probably save you a lot of money in the long run. And if you're a hobby player who keeps a guitar around the house, and picks it up once in a while to entertain friends or family, coated strings are probably an excellent choice. For myself, I'm going to leave these on the D-35 for as long as they still sound good. I'll update this review when I find out just how long they do last.Follow up: After playing these for a few days, I actually went out and bought a set in the same gauge for my Loar LH-350, an arch top guitar with a carved top that gets played more than any of my other guitars. They sound great on the Loar, and now I have two guitars to do a long term test on.\n",
      "\n",
      "RESULT: ```\n",
      "{\n",
      "    \"translation\": \"He estado pensando en probar las cuerdas Nanoweb durante un tiempo, pero me echaba atrás por el alto precio (cuestan aproximadamente el doble que las cuerdas sin recubrimiento que he estado comprando) y los comentarios de algunos revisores de que el tono de las cuerdas recubiertas es notablemente más apagado. Sin embargo, me intrigó la promesa de una larga vida útil; tengo una Taylor Big Baby que compré usada y que vino con un juego de Nanowebs que probablemente habían estado en ella durante un año, y no sonaban en absoluto como cuerdas viejas. Esta revisión me dio la oportunidad de ver por mí mismo cómo sonaban cuando eran nuevas.\n",
      "\n",
      "Había cambiado las cuerdas de mi Gibson Gospel de los años 70 una semana antes, así que decidí que esa sería mi referencia. Las Nanowebs se instalaron en mi Guild D-35 de los años 70. Ambas son guitarras con tapa de abeto sólido bien curadas. La Gospel es un poco más brillante, pero estoy bastante familiarizado con el sonido de ambas guitarras. Si la D-35 sonara apagada, lo notaría.\n",
      "\n",
      "Mientras desenrollaba las Nanowebs, noté que aunque estaban etiquetadas como \"Light\" (ligero), tenían una cuerda E de 0,013\", algo que encontrarías más probablemente en un juego de cuerdas de calibre medio. La B era un 0,017, en comparación con el 0,016 de las D'Addarios que suelo tocar. El resto de las cuerdas eran de los calibres ligeros habituales. Resulta que estas son \"HD Light\" (ligero HD), diseñadas para tener un poco más de tensión y mejor articulación en el extremo alto. La diferencia no debería ser lo suficiente como para requerir ajustes en la barra de tracción, así que las instalé en la D-35.\n",
      "\n",
      "¿Cómo sonan? Las cuerdas E y B sin recubrimiento no sonan diferentes a cualquier otra cuerda de acero liso, por supuesto. La E se siente un poco más rígida cuando cambio entre la D-35 y la Gospel. En cuanto al sonido, diría que son como un buen juego que ha estado en una guitarra durante un día. No las llamaría apagadas en absoluto. Si no supiera que eran cuerdas recubiertas, ciertamente no podría decirlo al tocarlas. Así que son cuerdas con buen sonido y duran mucho tiempo. Eso deja la cuestión del costo: ¿valen el doble del precio de las cuerdas sin recubrimiento?\n",
      "\n",
      "Así es como lo veo: si eres un guitarrista que toca con fuerza o tocas en conciertos todas las noches, quizás no. Probablemente estés rompiendo cuerdas o perdiéndolas por fatiga del metal mucho antes de que se vuelvan apagadas por corrosión o contaminación. Pero si eres un guitarrista que toca con los dedos o un guitarrista ligero, una cuerda recubierta probablemente te ahorrará mucho dinero a largo plazo. Y si eres un guitarrista aficionado que tiene una guitarra en casa y la toca de vez en cuando para entretener a amigos o familiares, las cuerdas recubiertas son probablemente una excelente opción. Por mi parte, voy a dejar estas cuerdas en la D-35 durante todo el tiempo que sigan sonando bien. Actualizaré esta revisión cuando descubra cuánto tiempo duran.\n",
      "\n",
      "Actualización: Después de tocar estas cuerdas durante unos días, salí y compré un juego en el mismo calibre para mi Loar LH-350, una guitarra de arco con tapa tallada que se toca más que ninguna de mis otras guitarras. Suenan genial en la Loar, y ahora tengo dos guitarras para hacer una prueba a largo plazo.\",\n",
      "    \"notes\": \"The translation tried to maintain the original tone and style of the text. However, some minor adjustments were made to make it more natural and fluent in Spanish. For example, the phrase 'I'd notice' was translated to 'lo notaría' to make it more idiomatic. Additionally, the term 'HD Light' was kept in English as it seems to be a specific product name. The rest of the text was translated to Spanish to make it more accessible to a Spanish-speaking audience. Some technical terms like 'calibre' and 'tapa de abeto sólido' were used to maintain the technical accuracy of the text.\"\n",
      "}\n",
      "```\n",
      "\n",
      " -------------------------- \n",
      "\n",
      "Inference ID: translation-2. \n",
      "\n",
      "TEXT: I have tried coated strings in the past ( including Elixirs) and have never been very fond of them. Whenever I tried them I felt a certain disconnect from my guitar. Somewhat reminiscent of wearing condom. Not that I hated them, just didn't really love them. These are the best ones I've tried so far. I still don't like them as much as regular strings but because of the type of gigs I mostly do these seem to be a reasonable trade off. If you need a longer lasting string for whatever the reason these are really the best out there. After a dozen or so gigs with them, they still sound the same as when I put them on.\n",
      "\n",
      "RESULT: {\n",
      "    \"translation\": \"He probado cuerdas recubiertas en el pasado (incluyendo Elixirs) y nunca me han gustado mucho. Siempre que las probé, sentí una desconexión con mi guitarra, un poco similar a usar un condón. No es que las odiara, simplemente no las amaba. Estas son las mejores que he probado hasta ahora. Aún no me gustan tanto como las cuerdas normales, pero debido al tipo de conciertos que hago, parecen ser un intercambio razonable. Si necesitas cuerdas que duren más por cualquier razón, estas son realmente las mejores que hay. Después de una docena de conciertos con ellas, siguen sonando igual que cuando las puse.\",\n",
      "    \"notes\": \"The translation maintains the original meaning and tone of the text. However, the comparison of coated strings to wearing a condom may not be as common or relatable in Spanish-speaking cultures. Nevertheless, it has been preserved to maintain the original author's intent and tone. Additionally, the phrase 'a reasonable trade off' has been translated to 'un intercambio razonable', which conveys the same idea of making a compromise between tone and durability.\"\n",
      "}\n",
      "\n",
      " -------------------------- \n",
      "\n",
      "Inference ID: translation-3. \n",
      "\n",
      "TEXT: Well, MADE by Elixir and DEVELOPED with Taylor Guitars ... these strings were designed for the new 800 (Rosewood) series guitars that came out this year (2014) ... the promise is a &#34;bolder high end, fuller low end&#34; ... I am a long-time Taylor owner and favor their 800 series (Rosewood/Spruce is my favorite combo in tone woods) ... I have almost always used Elixir Nanoweb Phosphor Bronze lights on my guitars ... I like not only the tone but the feel and longevity of these strings ... I have never had any issues with Elixir Nanowebs ... I recently picked up an 812ce First Edition 12-Fret ... such a fine instrument and it came with the Elixir HD's ... took some getting used to as far as feel (due to the slightly higher gauges of the treble strings - E, B & G) ... but as far as sound, they are great ... the D, A & low E strings are no different from the regular Elixir PB Lights so I am not sure about the claim of &#34;fuller low end&#34; ... compared to what?  Unless the extra string tension of the treble strings also contributes to a little more bass response ... I am not sure how these strings will perform on guitars other than Taylor's but what anyone should notice is more volume and clarity from the treble strings ... that is what I notice most from the HD's compared to the regular ... I still find no fault with the regular Elixir Nanaweb PB's but will most likely continue to run the HD's on my 12-fret ... I may also try them on my older 814ce just to see if there is any difference/improvement ... so far I find the set well balanced with good clarity and sustain ... try them out and make your own decision ...\n",
      "\n",
      "RESULT: {\n",
      "    \"translation\": \"Bueno, HECHAS por Elixir y DESARROLLADAS con Taylor Guitars... estas cuerdas fueron diseñadas para las nuevas guitarras de la serie 800 (de palisandro) que salieron este año (2014)... la promesa es un \\\"sonido agudo más intenso, un bajo más completo\\\"... Soy un propietario de Taylor desde hace mucho tiempo y prefiero su serie 800 (la combinación de palisandro y abeto es mi favorita en cuanto a tipos de madera)... casi siempre he utilizado las cuerdas Elixir Nanoweb Phosphor Bronze ligeras en mis guitarras... me gusta no solo el tono, sino también la sensación y la durabilidad de estas cuerdas... nunca he tenido problemas con las Elixir Nanowebs... recientemente adquirí una 812ce Edición Limitada de 12 trastes... un instrumento tan fino que vino con las Elixir HD... me llevó un poco acostumbrarme en cuanto a la sensación (debido a los calibres ligeramente más altos de las cuerdas agudas - Mi, Si y Sol)... pero en cuanto al sonido, son geniales... las cuerdas D, A y Mi grave no son diferentes a las Elixir PB ligeras regulares, así que no estoy seguro sobre la afirmación de un \\\"bajo más completo\\\"... ¿en comparación con qué? A menos que la tensión adicional de las cuerdas agudas también contribuya a una mayor respuesta de bajo... no estoy seguro de cómo funcionarán estas cuerdas en guitarras que no sean de Taylor, pero lo que cualquiera debería notar es un mayor volumen y claridad en las cuerdas agudas... eso es lo que más noto en las HD en comparación con las regulares... todavía no encuentro defectos en las Elixir Nanaweb PB regulares, pero probablemente seguiré utilizando las HD en mi guitarra de 12 trastes... también puedo probarlas en mi vieja 814ce para ver si hay alguna diferencia/mejora... hasta ahora, encuentro que el conjunto está bien equilibrado con buena claridad y sustain... pruébalas y haz tu propia decisión...\",\n",
      "    \"notes\": \"The translation of this text required some technical knowledge of music and guitars, as well as an understanding of the nuances of the English language. One of the main challenges was translating the technical terms, such as \\\"Nanoweb Phosphor Bronze lights\\\" and \\\"HD's\\\", which are specific types of guitar strings. Additionally, the text includes some subjective language, such as \\\"bolder high end\\\" and \\\"fuller low end\\\", which required careful translation to convey the same meaning in Spanish. The text also includes some colloquial expressions, such as \\\"took some getting used to\\\", which were translated to more formal Spanish phrases to maintain the tone of the text. Overall, the translation aimed to convey the same level of technical expertise and personal opinion as the original text.\"\n",
      "}\n",
      "\n",
      " -------------------------- \n",
      "\n",
      "Inference ID: translation-4. \n",
      "\n",
      "TEXT: These strings are really quite good, but I wouldn't call them perfect.  The unwound strings are not quite as bright as I am accustomed to, but they still ring nicely.  This is the only complaint I have about these strings.  If the unwound strings were a tiny bit brighter, these would be 5-star strings.  As it stands, I give them 4.5 stars... not a big knock, actually.The low-end on the wound strings is very nice and quite warm.  I put these on a jumbo and it definitely accentuates the &#34;jumbo&#34; aspect of my acoustic.  The sound is very big, full, and nice.Definitely a recommended product!4.5/5 stars\n",
      "\n",
      "RESULT: {\n",
      "    \"translation\": \"Estas cuerdas son muy buenas, aunque no las llamaría perfectas. Las cuerdas sin entorchar no son tan brillantes como estoy acostumbrado, pero todavía suenan bien. Esta es mi única queja sobre estas cuerdas. Si las cuerdas sin entorchar fueran un poco más brillantes, serían cuerdas de 5 estrellas. En su estado actual, les doy 4,5 estrellas... no es un gran golpe, en realidad. El bajo en las cuerdas entorchadas es muy agradable y cálido. Las puse en un jumbo y definitivamente acentúa el aspecto \\\"jumbo\\\" de mi acústica. El sonido es muy grande, completo y agradable. Definitivamente, un producto recomendado. 4,5/5 estrellas.\",\n",
      "    \"notes\": \"The translation is quite straightforward, but some minor adjustments were made to ensure the text flows well in Spanish. The term \\\"unwound strings\\\" was translated to \\\"cuerdas sin entorchar\\\", which is the most common term used in Spanish-speaking countries. The phrase \\\"jumbo aspect\\\" was kept as is, as it refers to a specific type of guitar and the term \\\"jumbo\\\" is widely used in the music industry. No major cultural adaptations were necessary, as the text is a product review and the concepts discussed are universal.\"\n",
      "}\n",
      "\n",
      " -------------------------- \n",
      "\n",
      "Inference ID: summary-0. \n",
      "\n",
      "TEXT: Great, just as expected.  Thank to all.\n",
      "\n",
      "RESULT: {\n",
      "    \"summary\": \"The provided text does not contain any information to summarize.\"\n",
      "}\n",
      "\n",
      " -------------------------- \n",
      "\n",
      "Inference ID: summary-1. \n",
      "\n",
      "TEXT: I've been thinking about trying the Nanoweb strings for a while, but I was a bit put off by the high price (they cost about twice as much as the uncharted strings I've been buying)  and the comments of some reviewers that the tone of coated strings is noticeably duller. I was intrigued by the promise of long life, though; I have a Taylor Big Baby that I bought used, and which came with a set of Nanowebs that had probably been on it for a year- and they didn't sound at all like old strings. This review set gave me a chance to finally see for myself how they sound when new.I'd just changed the strings on my 1970s Gibson Gospel a week ago, so I decided that would be my reference. The Nanowebs went on my 1970s Guild D-35. Both are well broken in, solid spruce top guitars. The Gospel is a bit brighter sounding, but I'm pretty familiar with the sound of both guitars. If they D-35 sounded dull, I'd notice.As I was unwrapping the Nanowebs I noticed that while they were labeled \"Light\" gauge, they had a 0.013\" E string- something you'd be more likely to find on a set of medium gauge strings. The B was a .017, compared to the .016 of the D'Addarios I usually play. The rest of the strings were there usual light gauges. Turns out that these are \"HD Light\" gauge, designed to have a slightly more tension and better articulation at the high end. The difference shouldn't be enough to require any truss rod adjustment so I went ahead and installed them on the D-35.So how do they sound? The unwound E and B don't sound different from any other plain steel string, of course. The E does feel a tiny bit stiffer, when I switch between the D-35 and the Gospel. Sound-wise, I'd say they sound like a good set that have been on a guitar for a day. I wouldn't call them dull by any stretch of the imagination. If I didn't know that they were coated strings I certainly wouldn't be able to tell from playing them. So they're good sounding strings, and they last a long time. That leaves the question of cost- are they worth twice the price of uncoated strings?Here's the way I see it: If you're a heavy strummer, or playing gigs every night, maybe not. You're probably breaking strings or losing them to metal fatigue long before they'd go dull from corrosion or contamination. But if you're a finger picker, or a light strummer, a coated string will probably save you a lot of money in the long run. And if you're a hobby player who keeps a guitar around the house, and picks it up once in a while to entertain friends or family, coated strings are probably an excellent choice. For myself, I'm going to leave these on the D-35 for as long as they still sound good. I'll update this review when I find out just how long they do last.Follow up: After playing these for a few days, I actually went out and bought a set in the same gauge for my Loar LH-350, an arch top guitar with a carved top that gets played more than any of my other guitars. They sound great on the Loar, and now I have two guitars to do a long term test on.\n",
      "\n",
      "RESULT: {\n",
      "    \"summary\": \"The reviewer tried Elixir Nanoweb strings on their Guild D-35 guitar, comparing them to uncoated strings on their Gibson Gospel. They found the Nanowebs to sound good, not dull, and comparable to uncoated strings. The reviewer notes that the higher cost of coated strings may be justified for finger pickers, light strummers, or hobby players who don't wear out strings quickly, as they can last longer and save money in the long run.\"\n",
      "}\n",
      "\n",
      " -------------------------- \n",
      "\n",
      "Inference ID: summary-2. \n",
      "\n",
      "TEXT: I have tried coated strings in the past ( including Elixirs) and have never been very fond of them. Whenever I tried them I felt a certain disconnect from my guitar. Somewhat reminiscent of wearing condom. Not that I hated them, just didn't really love them. These are the best ones I've tried so far. I still don't like them as much as regular strings but because of the type of gigs I mostly do these seem to be a reasonable trade off. If you need a longer lasting string for whatever the reason these are really the best out there. After a dozen or so gigs with them, they still sound the same as when I put them on.\n",
      "\n",
      "RESULT: {\n",
      "    \"summary\": \"The reviewer, who previously disliked coated strings, found these to be the best they've tried, offering a reasonable trade-off between tone and durability. They still prefer regular strings but appreciate the long-lasting quality of these, which remained consistent after a dozen gigs.\"\n",
      "}\n",
      "\n",
      " -------------------------- \n",
      "\n",
      "Inference ID: summary-3. \n",
      "\n",
      "TEXT: Well, MADE by Elixir and DEVELOPED with Taylor Guitars ... these strings were designed for the new 800 (Rosewood) series guitars that came out this year (2014) ... the promise is a &#34;bolder high end, fuller low end&#34; ... I am a long-time Taylor owner and favor their 800 series (Rosewood/Spruce is my favorite combo in tone woods) ... I have almost always used Elixir Nanoweb Phosphor Bronze lights on my guitars ... I like not only the tone but the feel and longevity of these strings ... I have never had any issues with Elixir Nanowebs ... I recently picked up an 812ce First Edition 12-Fret ... such a fine instrument and it came with the Elixir HD's ... took some getting used to as far as feel (due to the slightly higher gauges of the treble strings - E, B & G) ... but as far as sound, they are great ... the D, A & low E strings are no different from the regular Elixir PB Lights so I am not sure about the claim of &#34;fuller low end&#34; ... compared to what?  Unless the extra string tension of the treble strings also contributes to a little more bass response ... I am not sure how these strings will perform on guitars other than Taylor's but what anyone should notice is more volume and clarity from the treble strings ... that is what I notice most from the HD's compared to the regular ... I still find no fault with the regular Elixir Nanaweb PB's but will most likely continue to run the HD's on my 12-fret ... I may also try them on my older 814ce just to see if there is any difference/improvement ... so far I find the set well balanced with good clarity and sustain ... try them out and make your own decision ...\n",
      "\n",
      "RESULT: {\n",
      "    \"summary\": \"The reviewer, a long-time Taylor guitar owner, tested the Elixir HD strings designed for Taylor's 800 series guitars. They noticed a bolder high end and possibly more volume and clarity from the treble strings, but were unsure about the claim of a fuller low end. The reviewer liked the tone, feel, and longevity of the strings, but found the slightly higher gauge of the treble strings took some getting used to. They recommend trying the strings out to make your own decision.\"\n",
      "}\n",
      "\n",
      " -------------------------- \n",
      "\n",
      "Inference ID: summary-4. \n",
      "\n",
      "TEXT: These strings are really quite good, but I wouldn't call them perfect.  The unwound strings are not quite as bright as I am accustomed to, but they still ring nicely.  This is the only complaint I have about these strings.  If the unwound strings were a tiny bit brighter, these would be 5-star strings.  As it stands, I give them 4.5 stars... not a big knock, actually.The low-end on the wound strings is very nice and quite warm.  I put these on a jumbo and it definitely accentuates the &#34;jumbo&#34; aspect of my acoustic.  The sound is very big, full, and nice.Definitely a recommended product!4.5/5 stars\n",
      "\n",
      "RESULT: {\n",
      "    \"summary\": \"The reviewer praises the strings for their nice ring and warm low-end on the wound strings, which accentuates the 'jumbo' aspect of their acoustic guitar. However, they deduct a half-star because the unwound strings could be brighter, resulting in a 4.5-star rating.\"\n",
      "}\n",
      "\n",
      " -------------------------- \n",
      "\n",
      "Inference ID: topic_classification-0. \n",
      "\n",
      "TEXT: Great, just as expected.  Thank to all.\n",
      "\n",
      "RESULT: {\n",
      "    \"category\": \"other\",\n",
      "    \"confidence\": 0.0\n",
      "}\n",
      "\n",
      " -------------------------- \n",
      "\n",
      "Inference ID: topic_classification-1. \n",
      "\n",
      "TEXT: I've been thinking about trying the Nanoweb strings for a while, but I was a bit put off by the high price (they cost about twice as much as the uncharted strings I've been buying)  and the comments of some reviewers that the tone of coated strings is noticeably duller. I was intrigued by the promise of long life, though; I have a Taylor Big Baby that I bought used, and which came with a set of Nanowebs that had probably been on it for a year- and they didn't sound at all like old strings. This review set gave me a chance to finally see for myself how they sound when new.I'd just changed the strings on my 1970s Gibson Gospel a week ago, so I decided that would be my reference. The Nanowebs went on my 1970s Guild D-35. Both are well broken in, solid spruce top guitars. The Gospel is a bit brighter sounding, but I'm pretty familiar with the sound of both guitars. If they D-35 sounded dull, I'd notice.As I was unwrapping the Nanowebs I noticed that while they were labeled \"Light\" gauge, they had a 0.013\" E string- something you'd be more likely to find on a set of medium gauge strings. The B was a .017, compared to the .016 of the D'Addarios I usually play. The rest of the strings were there usual light gauges. Turns out that these are \"HD Light\" gauge, designed to have a slightly more tension and better articulation at the high end. The difference shouldn't be enough to require any truss rod adjustment so I went ahead and installed them on the D-35.So how do they sound? The unwound E and B don't sound different from any other plain steel string, of course. The E does feel a tiny bit stiffer, when I switch between the D-35 and the Gospel. Sound-wise, I'd say they sound like a good set that have been on a guitar for a day. I wouldn't call them dull by any stretch of the imagination. If I didn't know that they were coated strings I certainly wouldn't be able to tell from playing them. So they're good sounding strings, and they last a long time. That leaves the question of cost- are they worth twice the price of uncoated strings?Here's the way I see it: If you're a heavy strummer, or playing gigs every night, maybe not. You're probably breaking strings or losing them to metal fatigue long before they'd go dull from corrosion or contamination. But if you're a finger picker, or a light strummer, a coated string will probably save you a lot of money in the long run. And if you're a hobby player who keeps a guitar around the house, and picks it up once in a while to entertain friends or family, coated strings are probably an excellent choice. For myself, I'm going to leave these on the D-35 for as long as they still sound good. I'll update this review when I find out just how long they do last.Follow up: After playing these for a few days, I actually went out and bought a set in the same gauge for my Loar LH-350, an arch top guitar with a carved top that gets played more than any of my other guitars. They sound great on the Loar, and now I have two guitars to do a long term test on.\n",
      "\n",
      "RESULT: ```\n",
      "{\n",
      "    \"category\": \"music\",\n",
      "    \"confidence\": 0.95\n",
      "}\n",
      "```\n",
      "\n",
      " -------------------------- \n",
      "\n",
      "Inference ID: topic_classification-2. \n",
      "\n",
      "TEXT: I have tried coated strings in the past ( including Elixirs) and have never been very fond of them. Whenever I tried them I felt a certain disconnect from my guitar. Somewhat reminiscent of wearing condom. Not that I hated them, just didn't really love them. These are the best ones I've tried so far. I still don't like them as much as regular strings but because of the type of gigs I mostly do these seem to be a reasonable trade off. If you need a longer lasting string for whatever the reason these are really the best out there. After a dozen or so gigs with them, they still sound the same as when I put them on.\n",
      "\n",
      "RESULT: ```\n",
      "{\n",
      "    \"category\": \"music\",\n",
      "    \"confidence\": 0.8\n",
      "}\n",
      "```\n",
      "\n",
      " -------------------------- \n",
      "\n",
      "Inference ID: topic_classification-3. \n",
      "\n",
      "TEXT: Well, MADE by Elixir and DEVELOPED with Taylor Guitars ... these strings were designed for the new 800 (Rosewood) series guitars that came out this year (2014) ... the promise is a &#34;bolder high end, fuller low end&#34; ... I am a long-time Taylor owner and favor their 800 series (Rosewood/Spruce is my favorite combo in tone woods) ... I have almost always used Elixir Nanoweb Phosphor Bronze lights on my guitars ... I like not only the tone but the feel and longevity of these strings ... I have never had any issues with Elixir Nanowebs ... I recently picked up an 812ce First Edition 12-Fret ... such a fine instrument and it came with the Elixir HD's ... took some getting used to as far as feel (due to the slightly higher gauges of the treble strings - E, B & G) ... but as far as sound, they are great ... the D, A & low E strings are no different from the regular Elixir PB Lights so I am not sure about the claim of &#34;fuller low end&#34; ... compared to what?  Unless the extra string tension of the treble strings also contributes to a little more bass response ... I am not sure how these strings will perform on guitars other than Taylor's but what anyone should notice is more volume and clarity from the treble strings ... that is what I notice most from the HD's compared to the regular ... I still find no fault with the regular Elixir Nanaweb PB's but will most likely continue to run the HD's on my 12-fret ... I may also try them on my older 814ce just to see if there is any difference/improvement ... so far I find the set well balanced with good clarity and sustain ... try them out and make your own decision ...\n",
      "\n",
      "RESULT: {\n",
      "    \"category\": \"entertainment\",\n",
      "    \"confidence\": 0.8\n",
      "}\n",
      "\n",
      " -------------------------- \n",
      "\n",
      "Inference ID: topic_classification-4. \n",
      "\n",
      "TEXT: These strings are really quite good, but I wouldn't call them perfect.  The unwound strings are not quite as bright as I am accustomed to, but they still ring nicely.  This is the only complaint I have about these strings.  If the unwound strings were a tiny bit brighter, these would be 5-star strings.  As it stands, I give them 4.5 stars... not a big knock, actually.The low-end on the wound strings is very nice and quite warm.  I put these on a jumbo and it definitely accentuates the &#34;jumbo&#34; aspect of my acoustic.  The sound is very big, full, and nice.Definitely a recommended product!4.5/5 stars\n",
      "\n",
      "RESULT: ```\n",
      "{\n",
      "    \"category\": \"entertainment\",\n",
      "    \"confidence\": 0.8\n",
      "}\n",
      "```\n",
      "\n",
      " -------------------------- \n",
      "\n",
      "Inference ID: keyword_extraction-0. \n",
      "\n",
      "TEXT: Great, just as expected.  Thank to all.\n",
      "\n",
      "RESULT: {\n",
      "    \"keywords\": [],\n",
      "    \"context\": \"The provided text does not contain any content to extract keywords from.\"\n",
      "}\n",
      "\n",
      " -------------------------- \n",
      "\n",
      "Inference ID: keyword_extraction-1. \n",
      "\n",
      "TEXT: I've been thinking about trying the Nanoweb strings for a while, but I was a bit put off by the high price (they cost about twice as much as the uncharted strings I've been buying)  and the comments of some reviewers that the tone of coated strings is noticeably duller. I was intrigued by the promise of long life, though; I have a Taylor Big Baby that I bought used, and which came with a set of Nanowebs that had probably been on it for a year- and they didn't sound at all like old strings. This review set gave me a chance to finally see for myself how they sound when new.I'd just changed the strings on my 1970s Gibson Gospel a week ago, so I decided that would be my reference. The Nanowebs went on my 1970s Guild D-35. Both are well broken in, solid spruce top guitars. The Gospel is a bit brighter sounding, but I'm pretty familiar with the sound of both guitars. If they D-35 sounded dull, I'd notice.As I was unwrapping the Nanowebs I noticed that while they were labeled \"Light\" gauge, they had a 0.013\" E string- something you'd be more likely to find on a set of medium gauge strings. The B was a .017, compared to the .016 of the D'Addarios I usually play. The rest of the strings were there usual light gauges. Turns out that these are \"HD Light\" gauge, designed to have a slightly more tension and better articulation at the high end. The difference shouldn't be enough to require any truss rod adjustment so I went ahead and installed them on the D-35.So how do they sound? The unwound E and B don't sound different from any other plain steel string, of course. The E does feel a tiny bit stiffer, when I switch between the D-35 and the Gospel. Sound-wise, I'd say they sound like a good set that have been on a guitar for a day. I wouldn't call them dull by any stretch of the imagination. If I didn't know that they were coated strings I certainly wouldn't be able to tell from playing them. So they're good sounding strings, and they last a long time. That leaves the question of cost- are they worth twice the price of uncoated strings?Here's the way I see it: If you're a heavy strummer, or playing gigs every night, maybe not. You're probably breaking strings or losing them to metal fatigue long before they'd go dull from corrosion or contamination. But if you're a finger picker, or a light strummer, a coated string will probably save you a lot of money in the long run. And if you're a hobby player who keeps a guitar around the house, and picks it up once in a while to entertain friends or family, coated strings are probably an excellent choice. For myself, I'm going to leave these on the D-35 for as long as they still sound good. I'll update this review when I find out just how long they do last.Follow up: After playing these for a few days, I actually went out and bought a set in the same gauge for my Loar LH-350, an arch top guitar with a carved top that gets played more than any of my other guitars. They sound great on the Loar, and now I have two guitars to do a long term test on.\n",
      "\n",
      "RESULT: {\n",
      "    \"keywords\": [\"Nanoweb strings\", \"coated strings\", \"guitar strings\", \"tone\", \"longevity\"],\n",
      "    \"context\": \"The keywords are relevant to the text as it discusses the author's experience with Nanoweb strings, a type of coated guitar string. The author compares the tone and longevity of these strings to uncoated strings, and considers whether the higher cost is worth the benefits. The text also mentions specific guitar models and playing styles, highlighting the importance of choosing the right strings for individual needs.\"\n",
      "}\n",
      "\n",
      " -------------------------- \n",
      "\n",
      "Inference ID: keyword_extraction-2. \n",
      "\n",
      "TEXT: I have tried coated strings in the past ( including Elixirs) and have never been very fond of them. Whenever I tried them I felt a certain disconnect from my guitar. Somewhat reminiscent of wearing condom. Not that I hated them, just didn't really love them. These are the best ones I've tried so far. I still don't like them as much as regular strings but because of the type of gigs I mostly do these seem to be a reasonable trade off. If you need a longer lasting string for whatever the reason these are really the best out there. After a dozen or so gigs with them, they still sound the same as when I put them on.\n",
      "\n",
      "RESULT: ```\n",
      "{\n",
      "    \"keywords\": [\"coated strings\", \"Elixirs\", \"guitar\", \"long-lasting\", \"gigs\"],\n",
      "    \"context\": \"The text discusses the author's experience with coated guitar strings, specifically mentioning Elixirs. They express a lukewarm opinion of coated strings but acknowledge their practicality for certain types of gigs. The author highlights the long-lasting quality of the strings they are reviewing, noting that they retain their sound after multiple performances.\"\n",
      "}\n",
      "```\n",
      "\n",
      " -------------------------- \n",
      "\n",
      "Inference ID: keyword_extraction-3. \n",
      "\n",
      "TEXT: Well, MADE by Elixir and DEVELOPED with Taylor Guitars ... these strings were designed for the new 800 (Rosewood) series guitars that came out this year (2014) ... the promise is a &#34;bolder high end, fuller low end&#34; ... I am a long-time Taylor owner and favor their 800 series (Rosewood/Spruce is my favorite combo in tone woods) ... I have almost always used Elixir Nanoweb Phosphor Bronze lights on my guitars ... I like not only the tone but the feel and longevity of these strings ... I have never had any issues with Elixir Nanowebs ... I recently picked up an 812ce First Edition 12-Fret ... such a fine instrument and it came with the Elixir HD's ... took some getting used to as far as feel (due to the slightly higher gauges of the treble strings - E, B & G) ... but as far as sound, they are great ... the D, A & low E strings are no different from the regular Elixir PB Lights so I am not sure about the claim of &#34;fuller low end&#34; ... compared to what?  Unless the extra string tension of the treble strings also contributes to a little more bass response ... I am not sure how these strings will perform on guitars other than Taylor's but what anyone should notice is more volume and clarity from the treble strings ... that is what I notice most from the HD's compared to the regular ... I still find no fault with the regular Elixir Nanaweb PB's but will most likely continue to run the HD's on my 12-fret ... I may also try them on my older 814ce just to see if there is any difference/improvement ... so far I find the set well balanced with good clarity and sustain ... try them out and make your own decision ...\n",
      "\n",
      "RESULT: ```\n",
      "{\n",
      "    \"keywords\": [\"Elixir\", \"Taylor Guitars\", \"Nanoweb\", \"HD strings\", \"guitar strings\"],\n",
      "    \"context\": \"The keywords are relevant to the text as they describe the product and its development. Elixir is the manufacturer of the strings, while Taylor Guitars is the company that developed the strings in collaboration with Elixir. Nanoweb refers to the type of strings the author has previously used, and HD strings are the new type being reviewed. Guitar strings are the overall topic of the text, with the author sharing their experience and opinions on the new Elixir HD strings.\"\n",
      "}\n",
      "```\n",
      "\n",
      " -------------------------- \n",
      "\n",
      "Inference ID: keyword_extraction-4. \n",
      "\n",
      "TEXT: These strings are really quite good, but I wouldn't call them perfect.  The unwound strings are not quite as bright as I am accustomed to, but they still ring nicely.  This is the only complaint I have about these strings.  If the unwound strings were a tiny bit brighter, these would be 5-star strings.  As it stands, I give them 4.5 stars... not a big knock, actually.The low-end on the wound strings is very nice and quite warm.  I put these on a jumbo and it definitely accentuates the &#34;jumbo&#34; aspect of my acoustic.  The sound is very big, full, and nice.Definitely a recommended product!4.5/5 stars\n",
      "\n",
      "RESULT: ```\n",
      "{\n",
      "    \"keywords\": [\"guitar strings\", \"bright\", \"warm\", \"acoustic\", \"jumbo\"],\n",
      "    \"context\": \"The keywords represent the reviewer's experience with a set of guitar strings. 'Guitar strings' is the central topic, while 'bright' and 'warm' describe the tone quality of the unwound and wound strings, respectively. 'Acoustic' refers to the type of guitar used, and 'jumbo' specifies the guitar model, emphasizing its enhanced sound.\"\n",
      "}\n",
      "```\n"
     ]
    }
   ],
   "source": [
    "for job_type, job in inference_jobs:\n",
    "    inference_job = client.batches.retrieve(job.id)\n",
    "    result_file_id = inference_job.output_file_id\n",
    "    result = client.files.content(result_file_id).content\n",
    "    results = parse_json_objects(result)\n",
    "\n",
    "    for res in results:\n",
    "        inference_id = res['custom_id']\n",
    "        index = inference_id.split('-')[-1]\n",
    "        result = res['response']['body']['choices'][0]['message']['content']\n",
    "        text = df.iloc[int(index)]['text']\n",
    "        print(f'\\n -------------------------- \\n')\n",
    "        print(f\"Inference ID: {inference_id}. \\n\\nTEXT: {text}\\n\\nRESULT: {result}\")"
   ]
  },
  {
   "cell_type": "code",
   "execution_count": 13,
   "id": "tu2R8dGYimKc",
   "metadata": {},
   "outputs": [],
   "source": []
  }
 ],
 "metadata": {
  "language_info": {
   "name": "python"
  }
 },
 "nbformat": 4,
 "nbformat_minor": 5
}
