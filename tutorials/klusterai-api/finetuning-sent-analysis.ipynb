{
  "cells": [
    {
      "cell_type": "markdown",
      "id": "be189fde-4e5b-4f80-bae1-ded86a5075a7",
      "metadata": {
        "id": "be189fde-4e5b-4f80-bae1-ded86a5075a7"
      },
      "source": [
        "# Fine-tuning models with the kluster.ai API"
      ]
    },
    {
      "cell_type": "markdown",
      "id": "b17a77d9",
      "metadata": {
        "id": "b17a77d9"
      },
      "source": [
        "[![Open in Colab](https://colab.research.google.com/assets/colab-badge.svg)](https://colab.research.google.com/github/kluster-ai/klusterai-cookbook/blob/main/examples/finetuning-sent-analysis.ipynb)"
      ]
    },
    {
      "cell_type": "markdown",
      "id": "1176978c-51e6-4f4a-8972-63a20f00a70c",
      "metadata": {
        "id": "1176978c-51e6-4f4a-8972-63a20f00a70c"
      },
      "source": [
        "## Introduction\n",
        "\n",
        "Fine-tuning is the process of refining a pre-trained model's parameters using additional, specialized data to improve performance on a specific task. Fine-tuning can offer valuable benefits: it can significantly improve performance for your specific use case and sometimes rival the results of more expensive, general-purpose models.\n",
        "\n",
        "In this guide, you'll learn how to train a sentiment analysis model specifically tailored to your data using [kluster.ai](https://www.kluster.ai/). We'll walk through each step of the fine-tuning process—covering dataset setup, environment configuration, and batch inference. By following along, you'll discover how to leverage kluster.ai's powerful platform to create a custom model that boosts accuracy for financial text analysis and beyond."
      ]
    },
    {
      "cell_type": "markdown",
      "id": "41ea62a1",
      "metadata": {
        "id": "41ea62a1"
      },
      "source": [
        "## Prerequisites"
      ]
    },
    {
      "cell_type": "markdown",
      "id": "83111fd4",
      "metadata": {
        "id": "83111fd4"
      },
      "source": [
        "Before getting started, ensure you have the following:\n",
        "\n",
        "- **A kluster.ai account** - sign up on the <a href=\"https://platform.kluster.ai/signup\" target=\"_blank\">kluster.ai platform</a> if you don't have one\n",
        "- **A kluster.ai API key** - after signing in, go to the <a href=\"https://platform.kluster.ai/apikeys\" target=\"_blank\">**API Keys**</a> section and create a new key. For detailed instructions, check out the <a href=\"https://docs.kluster.ai/get-started/get-api-key/\" target=\"_blank\">Get an API key</a> guide"
      ]
    },
    {
      "cell_type": "markdown",
      "id": "xU1WBQJ7Uh09",
      "metadata": {
        "id": "xU1WBQJ7Uh09"
      },
      "source": [
        "## Setup"
      ]
    },
    {
      "cell_type": "markdown",
      "id": "b8d580f8-67d5-45d6-915f-0f6b60d3b543",
      "metadata": {
        "id": "b8d580f8-67d5-45d6-915f-0f6b60d3b543"
      },
      "source": [
        "In this notebook, we'll use Python's `getpass` module to safely input the key. Provide your unique kluster.ai API key (ensure there are no spaces)."
      ]
    },
    {
      "cell_type": "code",
      "execution_count": 1,
      "id": "4911e5eb-7463-4a6b-8a99-9313cecd9d4d",
      "metadata": {
        "colab": {
          "base_uri": "https://localhost:8080/"
        },
        "id": "4911e5eb-7463-4a6b-8a99-9313cecd9d4d",
        "outputId": "3b1d8a3f-a10f-4ed1-c516-fa424f67e246"
      },
      "outputs": [
        {
          "name": "stdout",
          "output_type": "stream",
          "text": [
            "Enter your kluster.ai API key: ··········\n"
          ]
        }
      ],
      "source": [
        "from getpass import getpass\n",
        "\n",
        "api_key = getpass(\"Enter your kluster.ai API key: \")"
      ]
    },
    {
      "cell_type": "code",
      "execution_count": 2,
      "id": "bcc3d475-8f49-4fc4-9a5e-c6eb6866d2b5",
      "metadata": {
        "id": "bcc3d475-8f49-4fc4-9a5e-c6eb6866d2b5"
      },
      "outputs": [],
      "source": [
        "%pip install -q openai"
      ]
    },
    {
      "cell_type": "code",
      "execution_count": 4,
      "id": "6af45325-7087-49fe-b32b-0ff1d6537af7",
      "metadata": {
        "id": "6af45325-7087-49fe-b32b-0ff1d6537af7"
      },
      "outputs": [],
      "source": [
        "import urllib.request\n",
        "import pandas as pd\n",
        "from openai import OpenAI\n",
        "import time\n",
        "import json\n",
        "import matplotlib.pyplot as plt\n",
        "import seaborn as sns\n",
        "import os\n",
        "import requests\n",
        "pd.set_option('display.max_columns', 1000, 'display.width', 1000, 'display.max_rows',1000, 'display.max_colwidth', 500)\n",
        "\n",
        "# Import helper functions\n",
        "url = \"https://raw.githubusercontent.com/kluster-ai/klusterai-cookbook/main/examples/helpers.py\"\n",
        "\n",
        "# Fetch the file and save it locally\n",
        "response = requests.get(url)\n",
        "with open(\"helpers.py\", \"w\") as f:\n",
        "    f.write(response.text)\n",
        "\n",
        "# Import the helper functions\n",
        "from helpers import create_tasks, save_tasks, create_batch_job, monitor_job_status, get_results\n"
      ]
    },
    {
      "cell_type": "code",
      "execution_count": 5,
      "id": "44a6f805-1c74-48a5-8572-0a5fb2c48286",
      "metadata": {
        "id": "44a6f805-1c74-48a5-8572-0a5fb2c48286"
      },
      "outputs": [],
      "source": [
        "# Set up the client\n",
        "client_prod = OpenAI(\n",
        "    base_url=\"https://api.kluster.ai/v1\",\n",
        "    api_key=api_key,\n",
        ")"
      ]
    },
    {
      "cell_type": "markdown",
      "id": "fb8c5014-5b0c-43c2-a238-073dbde2d90a",
      "metadata": {
        "id": "fb8c5014-5b0c-43c2-a238-073dbde2d90a"
      },
      "source": [
        "## Fetch a real dataset for batch inference\n",
        "\n",
        "This dataset contains a variety of financial news headlines, each labeled as positive, negative, or neutral. In this context, positive indicates a beneficial impact on the company’s stock, negative suggests a detrimental impact, and neutral implies no significant change is expected.\n",
        "\n",
        "To keep this tutorial quick, we limit the dataset to the first 120 rows of the financial phrasebank, resulting in 12 training examples after splitting. For more robust fine-tuning, we recommend using a larger dataset—though note that kluster.ai requires a minimum of 10 examples."
      ]
    },
    {
      "cell_type": "code",
      "execution_count": 6,
      "id": "yC9wJlV4rwOh",
      "metadata": {
        "colab": {
          "base_uri": "https://localhost:8080/",
          "height": 160
        },
        "id": "yC9wJlV4rwOh",
        "outputId": "5a81b6f5-05af-46c8-c1c2-47c4d760d509"
      },
      "outputs": [
        {
          "output_type": "execute_result",
          "data": {
            "text/plain": [
              "  sentiment                                                                                                                                                                                                                                  text\n",
              "0   neutral                                                                                                       According to Gran , the company has no plans to move all production to Russia , although that is where the company is growing .\n",
              "1   neutral                                        Technopolis plans to develop in stages an area of no less than 100,000 square meters in order to host companies working in computer technologies and telecommunications , the statement said .\n",
              "2  negative  The international electronic industry company Elcoteq has laid off tens of employees from its Tallinn facility ; contrary to earlier layoffs the company contracted the ranks of its office workers , the daily Postimees reported ."
            ],
            "text/html": [
              "\n",
              "  <div id=\"df-d6f17d50-a491-4424-a0de-3791686935e1\" class=\"colab-df-container\">\n",
              "    <div>\n",
              "<style scoped>\n",
              "    .dataframe tbody tr th:only-of-type {\n",
              "        vertical-align: middle;\n",
              "    }\n",
              "\n",
              "    .dataframe tbody tr th {\n",
              "        vertical-align: top;\n",
              "    }\n",
              "\n",
              "    .dataframe thead th {\n",
              "        text-align: right;\n",
              "    }\n",
              "</style>\n",
              "<table border=\"1\" class=\"dataframe\">\n",
              "  <thead>\n",
              "    <tr style=\"text-align: right;\">\n",
              "      <th></th>\n",
              "      <th>sentiment</th>\n",
              "      <th>text</th>\n",
              "    </tr>\n",
              "  </thead>\n",
              "  <tbody>\n",
              "    <tr>\n",
              "      <th>0</th>\n",
              "      <td>neutral</td>\n",
              "      <td>According to Gran , the company has no plans to move all production to Russia , although that is where the company is growing .</td>\n",
              "    </tr>\n",
              "    <tr>\n",
              "      <th>1</th>\n",
              "      <td>neutral</td>\n",
              "      <td>Technopolis plans to develop in stages an area of no less than 100,000 square meters in order to host companies working in computer technologies and telecommunications , the statement said .</td>\n",
              "    </tr>\n",
              "    <tr>\n",
              "      <th>2</th>\n",
              "      <td>negative</td>\n",
              "      <td>The international electronic industry company Elcoteq has laid off tens of employees from its Tallinn facility ; contrary to earlier layoffs the company contracted the ranks of its office workers , the daily Postimees reported .</td>\n",
              "    </tr>\n",
              "  </tbody>\n",
              "</table>\n",
              "</div>\n",
              "    <div class=\"colab-df-buttons\">\n",
              "\n",
              "  <div class=\"colab-df-container\">\n",
              "    <button class=\"colab-df-convert\" onclick=\"convertToInteractive('df-d6f17d50-a491-4424-a0de-3791686935e1')\"\n",
              "            title=\"Convert this dataframe to an interactive table.\"\n",
              "            style=\"display:none;\">\n",
              "\n",
              "  <svg xmlns=\"http://www.w3.org/2000/svg\" height=\"24px\" viewBox=\"0 -960 960 960\">\n",
              "    <path d=\"M120-120v-720h720v720H120Zm60-500h600v-160H180v160Zm220 220h160v-160H400v160Zm0 220h160v-160H400v160ZM180-400h160v-160H180v160Zm440 0h160v-160H620v160ZM180-180h160v-160H180v160Zm440 0h160v-160H620v160Z\"/>\n",
              "  </svg>\n",
              "    </button>\n",
              "\n",
              "  <style>\n",
              "    .colab-df-container {\n",
              "      display:flex;\n",
              "      gap: 12px;\n",
              "    }\n",
              "\n",
              "    .colab-df-convert {\n",
              "      background-color: #E8F0FE;\n",
              "      border: none;\n",
              "      border-radius: 50%;\n",
              "      cursor: pointer;\n",
              "      display: none;\n",
              "      fill: #1967D2;\n",
              "      height: 32px;\n",
              "      padding: 0 0 0 0;\n",
              "      width: 32px;\n",
              "    }\n",
              "\n",
              "    .colab-df-convert:hover {\n",
              "      background-color: #E2EBFA;\n",
              "      box-shadow: 0px 1px 2px rgba(60, 64, 67, 0.3), 0px 1px 3px 1px rgba(60, 64, 67, 0.15);\n",
              "      fill: #174EA6;\n",
              "    }\n",
              "\n",
              "    .colab-df-buttons div {\n",
              "      margin-bottom: 4px;\n",
              "    }\n",
              "\n",
              "    [theme=dark] .colab-df-convert {\n",
              "      background-color: #3B4455;\n",
              "      fill: #D2E3FC;\n",
              "    }\n",
              "\n",
              "    [theme=dark] .colab-df-convert:hover {\n",
              "      background-color: #434B5C;\n",
              "      box-shadow: 0px 1px 3px 1px rgba(0, 0, 0, 0.15);\n",
              "      filter: drop-shadow(0px 1px 2px rgba(0, 0, 0, 0.3));\n",
              "      fill: #FFFFFF;\n",
              "    }\n",
              "  </style>\n",
              "\n",
              "    <script>\n",
              "      const buttonEl =\n",
              "        document.querySelector('#df-d6f17d50-a491-4424-a0de-3791686935e1 button.colab-df-convert');\n",
              "      buttonEl.style.display =\n",
              "        google.colab.kernel.accessAllowed ? 'block' : 'none';\n",
              "\n",
              "      async function convertToInteractive(key) {\n",
              "        const element = document.querySelector('#df-d6f17d50-a491-4424-a0de-3791686935e1');\n",
              "        const dataTable =\n",
              "          await google.colab.kernel.invokeFunction('convertToInteractive',\n",
              "                                                    [key], {});\n",
              "        if (!dataTable) return;\n",
              "\n",
              "        const docLinkHtml = 'Like what you see? Visit the ' +\n",
              "          '<a target=\"_blank\" href=https://colab.research.google.com/notebooks/data_table.ipynb>data table notebook</a>'\n",
              "          + ' to learn more about interactive tables.';\n",
              "        element.innerHTML = '';\n",
              "        dataTable['output_type'] = 'display_data';\n",
              "        await google.colab.output.renderOutput(dataTable, element);\n",
              "        const docLink = document.createElement('div');\n",
              "        docLink.innerHTML = docLinkHtml;\n",
              "        element.appendChild(docLink);\n",
              "      }\n",
              "    </script>\n",
              "  </div>\n",
              "\n",
              "\n",
              "<div id=\"df-c91d1ead-947a-4e48-9735-8cdc0a6c1305\">\n",
              "  <button class=\"colab-df-quickchart\" onclick=\"quickchart('df-c91d1ead-947a-4e48-9735-8cdc0a6c1305')\"\n",
              "            title=\"Suggest charts\"\n",
              "            style=\"display:none;\">\n",
              "\n",
              "<svg xmlns=\"http://www.w3.org/2000/svg\" height=\"24px\"viewBox=\"0 0 24 24\"\n",
              "     width=\"24px\">\n",
              "    <g>\n",
              "        <path d=\"M19 3H5c-1.1 0-2 .9-2 2v14c0 1.1.9 2 2 2h14c1.1 0 2-.9 2-2V5c0-1.1-.9-2-2-2zM9 17H7v-7h2v7zm4 0h-2V7h2v10zm4 0h-2v-4h2v4z\"/>\n",
              "    </g>\n",
              "</svg>\n",
              "  </button>\n",
              "\n",
              "<style>\n",
              "  .colab-df-quickchart {\n",
              "      --bg-color: #E8F0FE;\n",
              "      --fill-color: #1967D2;\n",
              "      --hover-bg-color: #E2EBFA;\n",
              "      --hover-fill-color: #174EA6;\n",
              "      --disabled-fill-color: #AAA;\n",
              "      --disabled-bg-color: #DDD;\n",
              "  }\n",
              "\n",
              "  [theme=dark] .colab-df-quickchart {\n",
              "      --bg-color: #3B4455;\n",
              "      --fill-color: #D2E3FC;\n",
              "      --hover-bg-color: #434B5C;\n",
              "      --hover-fill-color: #FFFFFF;\n",
              "      --disabled-bg-color: #3B4455;\n",
              "      --disabled-fill-color: #666;\n",
              "  }\n",
              "\n",
              "  .colab-df-quickchart {\n",
              "    background-color: var(--bg-color);\n",
              "    border: none;\n",
              "    border-radius: 50%;\n",
              "    cursor: pointer;\n",
              "    display: none;\n",
              "    fill: var(--fill-color);\n",
              "    height: 32px;\n",
              "    padding: 0;\n",
              "    width: 32px;\n",
              "  }\n",
              "\n",
              "  .colab-df-quickchart:hover {\n",
              "    background-color: var(--hover-bg-color);\n",
              "    box-shadow: 0 1px 2px rgba(60, 64, 67, 0.3), 0 1px 3px 1px rgba(60, 64, 67, 0.15);\n",
              "    fill: var(--button-hover-fill-color);\n",
              "  }\n",
              "\n",
              "  .colab-df-quickchart-complete:disabled,\n",
              "  .colab-df-quickchart-complete:disabled:hover {\n",
              "    background-color: var(--disabled-bg-color);\n",
              "    fill: var(--disabled-fill-color);\n",
              "    box-shadow: none;\n",
              "  }\n",
              "\n",
              "  .colab-df-spinner {\n",
              "    border: 2px solid var(--fill-color);\n",
              "    border-color: transparent;\n",
              "    border-bottom-color: var(--fill-color);\n",
              "    animation:\n",
              "      spin 1s steps(1) infinite;\n",
              "  }\n",
              "\n",
              "  @keyframes spin {\n",
              "    0% {\n",
              "      border-color: transparent;\n",
              "      border-bottom-color: var(--fill-color);\n",
              "      border-left-color: var(--fill-color);\n",
              "    }\n",
              "    20% {\n",
              "      border-color: transparent;\n",
              "      border-left-color: var(--fill-color);\n",
              "      border-top-color: var(--fill-color);\n",
              "    }\n",
              "    30% {\n",
              "      border-color: transparent;\n",
              "      border-left-color: var(--fill-color);\n",
              "      border-top-color: var(--fill-color);\n",
              "      border-right-color: var(--fill-color);\n",
              "    }\n",
              "    40% {\n",
              "      border-color: transparent;\n",
              "      border-right-color: var(--fill-color);\n",
              "      border-top-color: var(--fill-color);\n",
              "    }\n",
              "    60% {\n",
              "      border-color: transparent;\n",
              "      border-right-color: var(--fill-color);\n",
              "    }\n",
              "    80% {\n",
              "      border-color: transparent;\n",
              "      border-right-color: var(--fill-color);\n",
              "      border-bottom-color: var(--fill-color);\n",
              "    }\n",
              "    90% {\n",
              "      border-color: transparent;\n",
              "      border-bottom-color: var(--fill-color);\n",
              "    }\n",
              "  }\n",
              "</style>\n",
              "\n",
              "  <script>\n",
              "    async function quickchart(key) {\n",
              "      const quickchartButtonEl =\n",
              "        document.querySelector('#' + key + ' button');\n",
              "      quickchartButtonEl.disabled = true;  // To prevent multiple clicks.\n",
              "      quickchartButtonEl.classList.add('colab-df-spinner');\n",
              "      try {\n",
              "        const charts = await google.colab.kernel.invokeFunction(\n",
              "            'suggestCharts', [key], {});\n",
              "      } catch (error) {\n",
              "        console.error('Error during call to suggestCharts:', error);\n",
              "      }\n",
              "      quickchartButtonEl.classList.remove('colab-df-spinner');\n",
              "      quickchartButtonEl.classList.add('colab-df-quickchart-complete');\n",
              "    }\n",
              "    (() => {\n",
              "      let quickchartButtonEl =\n",
              "        document.querySelector('#df-c91d1ead-947a-4e48-9735-8cdc0a6c1305 button');\n",
              "      quickchartButtonEl.style.display =\n",
              "        google.colab.kernel.accessAllowed ? 'block' : 'none';\n",
              "    })();\n",
              "  </script>\n",
              "</div>\n",
              "\n",
              "    </div>\n",
              "  </div>\n"
            ],
            "application/vnd.google.colaboratory.intrinsic+json": {
              "type": "dataframe",
              "variable_name": "df",
              "summary": "{\n  \"name\": \"df\",\n  \"rows\": 120,\n  \"fields\": [\n    {\n      \"column\": \"sentiment\",\n      \"properties\": {\n        \"dtype\": \"category\",\n        \"num_unique_values\": 3,\n        \"samples\": [\n          \"neutral\",\n          \"negative\",\n          \"positive\"\n        ],\n        \"semantic_type\": \"\",\n        \"description\": \"\"\n      }\n    },\n    {\n      \"column\": \"text\",\n      \"properties\": {\n        \"dtype\": \"string\",\n        \"num_unique_values\": 119,\n        \"samples\": [\n          \"In its financial report , published on Friday , SEB said its net profit soared to SEK6 .745 bn in 2010 from a year-earlier SEK1 .114 bn and proposed a 50 % dividend increase to SEK1 .50 per share .\",\n          \"`` The change will optimize the operational efficiencies of our growing business , '' said Julia Prohaska , director of marketing communications for Fiskars .\",\n          \"According to the company 's updated strategy for the years 2009-2012 , Basware targets a long-term net sales growth in the range of 20 % -40 % with an operating profit margin of 10 % -20 % of net sales .\"\n        ],\n        \"semantic_type\": \"\",\n        \"description\": \"\"\n      }\n    }\n  ]\n}"
            }
          },
          "metadata": {},
          "execution_count": 6
        }
      ],
      "source": [
        "url = \"https://raw.githubusercontent.com/kluster-ai/klusterai-cookbook/main/data/financial-phrasebank.csv\"\n",
        "urllib.request.urlretrieve(url,filename='financial-phrasebank.csv')\n",
        "\n",
        "# Load and process the dataset based on URL content\n",
        "df = pd.read_csv('financial-phrasebank.csv', encoding = \"ISO-8859-1\",header=None, names=[\"sentiment\", \"text\"])\n",
        "df = df.iloc[:120]\n",
        "df.head(3)"
      ]
    },
    {
      "cell_type": "markdown",
      "id": "0a03d805-0d59-42ce-ac2a-4f9beacd639b",
      "metadata": {
        "id": "0a03d805-0d59-42ce-ac2a-4f9beacd639b"
      },
      "source": [
        "### Split data into train/test for fine-tuning"
      ]
    },
    {
      "cell_type": "markdown",
      "source": [
        "Next, we need to split the data into a training dataset, and testing dataset (to be used later on)."
      ],
      "metadata": {
        "id": "MzyehWgLQuAq"
      },
      "id": "MzyehWgLQuAq"
    },
    {
      "cell_type": "code",
      "execution_count": 7,
      "id": "de8b2580-43ba-438f-8aab-4916a4c1fb70",
      "metadata": {
        "id": "de8b2580-43ba-438f-8aab-4916a4c1fb70"
      },
      "outputs": [],
      "source": [
        "from sklearn.model_selection import train_test_split\n",
        "# Split into train and test sets\n",
        "train_df, test_df = train_test_split(df, test_size=0.9, random_state=42)"
      ]
    },
    {
      "cell_type": "code",
      "execution_count": 8,
      "id": "cb5b6d85-aea0-4c77-97d5-a8cb007fa43c",
      "metadata": {
        "colab": {
          "base_uri": "https://localhost:8080/"
        },
        "id": "cb5b6d85-aea0-4c77-97d5-a8cb007fa43c",
        "outputId": "0aa17cdf-53ff-444e-c2ac-771cf5d475c5"
      },
      "outputs": [
        {
          "output_type": "execute_result",
          "data": {
            "text/plain": [
              "12"
            ]
          },
          "metadata": {},
          "execution_count": 8
        }
      ],
      "source": [
        "len(train_df)"
      ]
    },
    {
      "cell_type": "markdown",
      "id": "8ebefac4-cb4c-4e75-af96-c827b5668188",
      "metadata": {
        "id": "8ebefac4-cb4c-4e75-af96-c827b5668188"
      },
      "source": [
        "## Fine-tuning the model"
      ]
    },
    {
      "cell_type": "markdown",
      "metadata": {
        "id": "QMXyZoDINlBC"
      },
      "source": [
        "Fine-tuning is the process of adjusting a pre-trained model with new, domain-specific data to enhance performance for a specific task, which typically reduces training time and costs compared to training from scratch. Additionally, it can allow smaller, fine-tuned models to match or even rival the performance of larger, general models that haven’t been fine-tuned."
      ],
      "id": "QMXyZoDINlBC"
    },
    {
      "cell_type": "code",
      "execution_count": 10,
      "id": "f4903010-b32f-47d0-9a01-6be8e0938328",
      "metadata": {
        "id": "f4903010-b32f-47d0-9a01-6be8e0938328"
      },
      "outputs": [],
      "source": [
        "SYSTEM_PROMPT = '''\n",
        "    You are a helpful assistant specializing in determining the sentiment of financial news.\n",
        "    Analyze the following text regarding financial information and assign one of the following labels to indicate its sentiment: positive, negative, or neutral.\n",
        "    Provide your response as a single word without any punctuation.\n",
        "    '''\n",
        "\n",
        "# Ensure the directory exists\n",
        "os.makedirs(\"finetuning/data\", exist_ok=True)\n",
        "\n",
        "# Generate JSONLines file\n",
        "with open(\"finetuning/data/sentiment.jsonl\", \"w\") as f:\n",
        "    for _, row in train_df.iterrows():\n",
        "        # Create the message structure\n",
        "        messages = {\n",
        "            \"messages\": [\n",
        "                {\"role\": \"system\", \"content\": SYSTEM_PROMPT},\n",
        "                {\"role\": \"user\", \"content\": row['text']},\n",
        "                {\"role\": \"assistant\", \"content\": row[\"sentiment\"]}\n",
        "            ]\n",
        "        }\n",
        "        # Write to the file as a single JSON object per line\n",
        "        f.write(json.dumps(messages) + \"\\n\")"
      ]
    },
    {
      "cell_type": "code",
      "execution_count": 11,
      "id": "653ff10c-59bb-443d-b031-c6678744bdfc",
      "metadata": {
        "colab": {
          "base_uri": "https://localhost:8080/"
        },
        "id": "653ff10c-59bb-443d-b031-c6678744bdfc",
        "outputId": "391e1771-089c-43b2-851d-6c0c808e761f"
      },
      "outputs": [
        {
          "output_type": "stream",
          "name": "stdout",
          "text": [
            "File uploaded successfully. File ID: 67b49c04339aa6d8600a1936\n"
          ]
        }
      ],
      "source": [
        "data_dir = 'finetuning/data/sentiment.jsonl'\n",
        "\n",
        "with open(data_dir, 'rb') as file:\n",
        "    upload_response = client_prod.files.create(\n",
        "        file=file,\n",
        "        purpose=\"fine-tune\"\n",
        "    )\n",
        "    file_id = upload_response.id\n",
        "    print(f\"File uploaded successfully. File ID: {file_id}\")"
      ]
    },
    {
      "cell_type": "markdown",
      "id": "c9029a4f-8cfb-4193-b14b-7507006a969d",
      "metadata": {
        "id": "c9029a4f-8cfb-4193-b14b-7507006a969d"
      },
      "source": [
        "Next, we'll submit the job to the kluster.ai fine-tuning API. Currently, two base models are supported for fine-tuning:\n",
        "- klusterai/Meta-Llama-3.1-8B-Instruct-Turbo\n",
        "- klusterai/Meta-Llama-3.3-70B-Instruct-Turbo\n",
        "\n",
        "If you specify a different base model, the fine-tuning job will fail. You can also tweak the hyperparameters (such as number of epochs, batch size, and learning rate) to adjust training time and potential performance gains. Keep in mind that increasing the number of epochs will lead to longer training time, but may result in higher performance. If you're unsure which hyperparameters to set, you can also comment them out to accept the default values."
      ]
    },
    {
      "cell_type": "code",
      "execution_count": 16,
      "id": "9c4bcef6-aee7-4d3e-9161-9465ac6656db",
      "metadata": {
        "colab": {
          "base_uri": "https://localhost:8080/"
        },
        "id": "9c4bcef6-aee7-4d3e-9161-9465ac6656db",
        "outputId": "7550c233-71c7-418d-e62f-5a991d640b63"
      },
      "outputs": [
        {
          "output_type": "stream",
          "name": "stdout",
          "text": [
            "\n",
            "Fine-tuning job created:\n",
            "{\n",
            "  \"id\": \"67b4a215e56b50d27356ddc1\",\n",
            "  \"created_at\": 1739891221,\n",
            "  \"error\": null,\n",
            "  \"fine_tuned_model\": null,\n",
            "  \"finished_at\": null,\n",
            "  \"hyperparameters\": {\n",
            "    \"batch_size\": 4,\n",
            "    \"learning_rate_multiplier\": 1.0,\n",
            "    \"n_epochs\": 2\n",
            "  },\n",
            "  \"model\": \"meta-llama/Llama-3.1-8B-Instruct\",\n",
            "  \"object\": \"fine_tuning.job\",\n",
            "  \"organization_id\": null,\n",
            "  \"result_files\": [],\n",
            "  \"seed\": null,\n",
            "  \"status\": \"queued\",\n",
            "  \"trained_tokens\": null,\n",
            "  \"training_file\": \"67b49c04339aa6d8600a1936\",\n",
            "  \"validation_file\": null,\n",
            "  \"estimated_finish\": null,\n",
            "  \"integrations\": [],\n",
            "  \"method\": {\n",
            "    \"dpo\": null,\n",
            "    \"supervised\": {\n",
            "      \"hyperparameters\": null,\n",
            "      \"batch_size\": 4,\n",
            "      \"learning_rate_multiplier\": 1,\n",
            "      \"n_epochs\": 2\n",
            "    },\n",
            "    \"type\": \"supervised\"\n",
            "  }\n",
            "}\n"
          ]
        }
      ],
      "source": [
        "job = client_prod.fine_tuning.jobs.create(\n",
        "    training_file=file_id,\n",
        "    model=\"klusterai/Meta-Llama-3.1-8B-Instruct-Turbo\",\n",
        "    hyperparameters={\n",
        "       \"batch_size\": 4,\n",
        "       \"n_epochs\": 2,\n",
        "       \"learning_rate_multiplier\": 1\n",
        "    }\n",
        ")\n",
        "print(\"\\nFine-tuning job created:\")\n",
        "print(json.dumps(job.model_dump(), indent=2))"
      ]
    },
    {
      "cell_type": "markdown",
      "source": [
        "Next, we can retrieve the status of the job through its ID. The following snippet checks the status every 30 seconds."
      ],
      "metadata": {
        "id": "1MGIuV3Yl16I"
      },
      "id": "1MGIuV3Yl16I"
    },
    {
      "cell_type": "code",
      "execution_count": 17,
      "id": "419c1ad3-617c-4d5f-aa57-86f7f48cec05",
      "metadata": {
        "colab": {
          "base_uri": "https://localhost:8080/"
        },
        "id": "419c1ad3-617c-4d5f-aa57-86f7f48cec05",
        "outputId": "2c40540c-b55b-4669-b4ea-193daf131997"
      },
      "outputs": [
        {
          "output_type": "stream",
          "name": "stdout",
          "text": [
            "\n",
            "Current status: running\n",
            "\n",
            "Job events:\n",
            "[\n",
            "  {\n",
            "    \"id\": \"67b4a216881cc4acd584729a\",\n",
            "    \"created_at\": 1739891222,\n",
            "    \"level\": \"info\",\n",
            "    \"message\": \"Files validated, moving job to queued state\",\n",
            "    \"object\": \"fine_tuning.job.event\",\n",
            "    \"data\": {},\n",
            "    \"type\": \"message\"\n",
            "  },\n",
            "  {\n",
            "    \"id\": \"67b4a216881cc4acd5847295\",\n",
            "    \"created_at\": 1739891222,\n",
            "    \"level\": \"info\",\n",
            "    \"message\": \"Validating training file: 67b49c04339aa6d8600a1936\",\n",
            "    \"object\": \"fine_tuning.job.event\",\n",
            "    \"data\": {},\n",
            "    \"type\": \"message\"\n",
            "  },\n",
            "  {\n",
            "    \"id\": \"67b4a216e56b50d27356ddc3\",\n",
            "    \"created_at\": 1739891222,\n",
            "    \"level\": \"info\",\n",
            "    \"message\": \"Created fine-tuning job: 67b4a215e56b50d27356ddc1\",\n",
            "    \"object\": \"fine_tuning.job.event\",\n",
            "    \"data\": {},\n",
            "    \"type\": \"message\"\n",
            "  },\n",
            "  {\n",
            "    \"id\": \"67b4a216881cc4acd584729a\",\n",
            "    \"created_at\": 1739891222,\n",
            "    \"level\": \"info\",\n",
            "    \"message\": \"Files validated, moving job to queued state\",\n",
            "    \"object\": \"fine_tuning.job.event\",\n",
            "    \"data\": {},\n",
            "    \"type\": \"message\"\n",
            "  },\n",
            "  {\n",
            "    \"id\": \"67b4a216881cc4acd5847295\",\n",
            "    \"created_at\": 1739891222,\n",
            "    \"level\": \"info\",\n",
            "    \"message\": \"Validating training file: 67b49c04339aa6d8600a1936\",\n",
            "    \"object\": \"fine_tuning.job.event\",\n",
            "    \"data\": {},\n",
            "    \"type\": \"message\"\n",
            "  }\n",
            "]\n",
            "\n",
            "Current status: running\n",
            "\n",
            "Job events:\n",
            "[\n",
            "  {\n",
            "    \"id\": \"67b4a216881cc4acd584729a\",\n",
            "    \"created_at\": 1739891222,\n",
            "    \"level\": \"info\",\n",
            "    \"message\": \"Files validated, moving job to queued state\",\n",
            "    \"object\": \"fine_tuning.job.event\",\n",
            "    \"data\": {},\n",
            "    \"type\": \"message\"\n",
            "  },\n",
            "  {\n",
            "    \"id\": \"67b4a216881cc4acd5847295\",\n",
            "    \"created_at\": 1739891222,\n",
            "    \"level\": \"info\",\n",
            "    \"message\": \"Validating training file: 67b49c04339aa6d8600a1936\",\n",
            "    \"object\": \"fine_tuning.job.event\",\n",
            "    \"data\": {},\n",
            "    \"type\": \"message\"\n",
            "  },\n",
            "  {\n",
            "    \"id\": \"67b4a216e56b50d27356ddc3\",\n",
            "    \"created_at\": 1739891222,\n",
            "    \"level\": \"info\",\n",
            "    \"message\": \"Created fine-tuning job: 67b4a215e56b50d27356ddc1\",\n",
            "    \"object\": \"fine_tuning.job.event\",\n",
            "    \"data\": {},\n",
            "    \"type\": \"message\"\n",
            "  },\n",
            "  {\n",
            "    \"id\": \"67b4a216881cc4acd584729a\",\n",
            "    \"created_at\": 1739891222,\n",
            "    \"level\": \"info\",\n",
            "    \"message\": \"Files validated, moving job to queued state\",\n",
            "    \"object\": \"fine_tuning.job.event\",\n",
            "    \"data\": {},\n",
            "    \"type\": \"message\"\n",
            "  },\n",
            "  {\n",
            "    \"id\": \"67b4a216881cc4acd5847295\",\n",
            "    \"created_at\": 1739891222,\n",
            "    \"level\": \"info\",\n",
            "    \"message\": \"Validating training file: 67b49c04339aa6d8600a1936\",\n",
            "    \"object\": \"fine_tuning.job.event\",\n",
            "    \"data\": {},\n",
            "    \"type\": \"message\"\n",
            "  },\n",
            "  {\n",
            "    \"id\": \"67b4a2326913e957964bf80f\",\n",
            "    \"created_at\": 1739891247,\n",
            "    \"level\": \"info\",\n",
            "    \"message\": \"Step 1/4: training loss=3.7315428256988525\",\n",
            "    \"object\": \"fine_tuning.job.event\",\n",
            "    \"data\": {},\n",
            "    \"type\": \"message\"\n",
            "  },\n",
            "  {\n",
            "    \"id\": \"67b4a234881cc4acd584729f\",\n",
            "    \"created_at\": 1739891250,\n",
            "    \"level\": \"info\",\n",
            "    \"message\": \"Step 2/4: training loss=3.6776955127716064, validation loss=3.2785053338705157, full validation loss=3.2785053338705157\",\n",
            "    \"object\": \"fine_tuning.job.event\",\n",
            "    \"data\": {},\n",
            "    \"type\": \"message\"\n",
            "  }\n",
            "]\n",
            "\n",
            "Current status: running\n",
            "\n",
            "Job events:\n",
            "[\n",
            "  {\n",
            "    \"id\": \"67b4a216881cc4acd584729a\",\n",
            "    \"created_at\": 1739891222,\n",
            "    \"level\": \"info\",\n",
            "    \"message\": \"Files validated, moving job to queued state\",\n",
            "    \"object\": \"fine_tuning.job.event\",\n",
            "    \"data\": {},\n",
            "    \"type\": \"message\"\n",
            "  },\n",
            "  {\n",
            "    \"id\": \"67b4a216881cc4acd5847295\",\n",
            "    \"created_at\": 1739891222,\n",
            "    \"level\": \"info\",\n",
            "    \"message\": \"Validating training file: 67b49c04339aa6d8600a1936\",\n",
            "    \"object\": \"fine_tuning.job.event\",\n",
            "    \"data\": {},\n",
            "    \"type\": \"message\"\n",
            "  },\n",
            "  {\n",
            "    \"id\": \"67b4a216e56b50d27356ddc3\",\n",
            "    \"created_at\": 1739891222,\n",
            "    \"level\": \"info\",\n",
            "    \"message\": \"Created fine-tuning job: 67b4a215e56b50d27356ddc1\",\n",
            "    \"object\": \"fine_tuning.job.event\",\n",
            "    \"data\": {},\n",
            "    \"type\": \"message\"\n",
            "  },\n",
            "  {\n",
            "    \"id\": \"67b4a216881cc4acd584729a\",\n",
            "    \"created_at\": 1739891222,\n",
            "    \"level\": \"info\",\n",
            "    \"message\": \"Files validated, moving job to queued state\",\n",
            "    \"object\": \"fine_tuning.job.event\",\n",
            "    \"data\": {},\n",
            "    \"type\": \"message\"\n",
            "  },\n",
            "  {\n",
            "    \"id\": \"67b4a216881cc4acd5847295\",\n",
            "    \"created_at\": 1739891222,\n",
            "    \"level\": \"info\",\n",
            "    \"message\": \"Validating training file: 67b49c04339aa6d8600a1936\",\n",
            "    \"object\": \"fine_tuning.job.event\",\n",
            "    \"data\": {},\n",
            "    \"type\": \"message\"\n",
            "  },\n",
            "  {\n",
            "    \"id\": \"67b4a2326913e957964bf80f\",\n",
            "    \"created_at\": 1739891247,\n",
            "    \"level\": \"info\",\n",
            "    \"message\": \"Step 1/4: training loss=3.7315428256988525\",\n",
            "    \"object\": \"fine_tuning.job.event\",\n",
            "    \"data\": {},\n",
            "    \"type\": \"message\"\n",
            "  },\n",
            "  {\n",
            "    \"id\": \"67b4a234881cc4acd584729f\",\n",
            "    \"created_at\": 1739891250,\n",
            "    \"level\": \"info\",\n",
            "    \"message\": \"Step 2/4: training loss=3.6776955127716064, validation loss=3.2785053338705157, full validation loss=3.2785053338705157\",\n",
            "    \"object\": \"fine_tuning.job.event\",\n",
            "    \"data\": {},\n",
            "    \"type\": \"message\"\n",
            "  },\n",
            "  {\n",
            "    \"id\": \"67b4a245881cc4acd58472a2\",\n",
            "    \"created_at\": 1739891267,\n",
            "    \"level\": \"info\",\n",
            "    \"message\": \"Step 3/4: training loss=3.1799464225769043\",\n",
            "    \"object\": \"fine_tuning.job.event\",\n",
            "    \"data\": {},\n",
            "    \"type\": \"message\"\n",
            "  },\n",
            "  {\n",
            "    \"id\": \"67b4a2486913e957964bf812\",\n",
            "    \"created_at\": 1739891270,\n",
            "    \"level\": \"info\",\n",
            "    \"message\": \"Step 4/4: training loss=3.048166513442993, validation loss=2.8553724075112106, full validation loss=2.8553724075112106\",\n",
            "    \"object\": \"fine_tuning.job.event\",\n",
            "    \"data\": {},\n",
            "    \"type\": \"message\"\n",
            "  }\n",
            "]\n",
            "\n",
            "Current status: succeeded\n",
            "\n",
            "Job events:\n",
            "[\n",
            "  {\n",
            "    \"id\": \"67b4a216881cc4acd584729a\",\n",
            "    \"created_at\": 1739891222,\n",
            "    \"level\": \"info\",\n",
            "    \"message\": \"Files validated, moving job to queued state\",\n",
            "    \"object\": \"fine_tuning.job.event\",\n",
            "    \"data\": {},\n",
            "    \"type\": \"message\"\n",
            "  },\n",
            "  {\n",
            "    \"id\": \"67b4a216881cc4acd5847295\",\n",
            "    \"created_at\": 1739891222,\n",
            "    \"level\": \"info\",\n",
            "    \"message\": \"Validating training file: 67b49c04339aa6d8600a1936\",\n",
            "    \"object\": \"fine_tuning.job.event\",\n",
            "    \"data\": {},\n",
            "    \"type\": \"message\"\n",
            "  },\n",
            "  {\n",
            "    \"id\": \"67b4a216e56b50d27356ddc3\",\n",
            "    \"created_at\": 1739891222,\n",
            "    \"level\": \"info\",\n",
            "    \"message\": \"Created fine-tuning job: 67b4a215e56b50d27356ddc1\",\n",
            "    \"object\": \"fine_tuning.job.event\",\n",
            "    \"data\": {},\n",
            "    \"type\": \"message\"\n",
            "  },\n",
            "  {\n",
            "    \"id\": \"67b4a216881cc4acd584729a\",\n",
            "    \"created_at\": 1739891222,\n",
            "    \"level\": \"info\",\n",
            "    \"message\": \"Files validated, moving job to queued state\",\n",
            "    \"object\": \"fine_tuning.job.event\",\n",
            "    \"data\": {},\n",
            "    \"type\": \"message\"\n",
            "  },\n",
            "  {\n",
            "    \"id\": \"67b4a216881cc4acd5847295\",\n",
            "    \"created_at\": 1739891222,\n",
            "    \"level\": \"info\",\n",
            "    \"message\": \"Validating training file: 67b49c04339aa6d8600a1936\",\n",
            "    \"object\": \"fine_tuning.job.event\",\n",
            "    \"data\": {},\n",
            "    \"type\": \"message\"\n",
            "  },\n",
            "  {\n",
            "    \"id\": \"67b4a2326913e957964bf80f\",\n",
            "    \"created_at\": 1739891247,\n",
            "    \"level\": \"info\",\n",
            "    \"message\": \"Step 1/4: training loss=3.7315428256988525\",\n",
            "    \"object\": \"fine_tuning.job.event\",\n",
            "    \"data\": {},\n",
            "    \"type\": \"message\"\n",
            "  },\n",
            "  {\n",
            "    \"id\": \"67b4a234881cc4acd584729f\",\n",
            "    \"created_at\": 1739891250,\n",
            "    \"level\": \"info\",\n",
            "    \"message\": \"Step 2/4: training loss=3.6776955127716064, validation loss=3.2785053338705157, full validation loss=3.2785053338705157\",\n",
            "    \"object\": \"fine_tuning.job.event\",\n",
            "    \"data\": {},\n",
            "    \"type\": \"message\"\n",
            "  },\n",
            "  {\n",
            "    \"id\": \"67b4a245881cc4acd58472a2\",\n",
            "    \"created_at\": 1739891267,\n",
            "    \"level\": \"info\",\n",
            "    \"message\": \"Step 3/4: training loss=3.1799464225769043\",\n",
            "    \"object\": \"fine_tuning.job.event\",\n",
            "    \"data\": {},\n",
            "    \"type\": \"message\"\n",
            "  },\n",
            "  {\n",
            "    \"id\": \"67b4a2486913e957964bf812\",\n",
            "    \"created_at\": 1739891270,\n",
            "    \"level\": \"info\",\n",
            "    \"message\": \"Step 4/4: training loss=3.048166513442993, validation loss=2.8553724075112106, full validation loss=2.8553724075112106\",\n",
            "    \"object\": \"fine_tuning.job.event\",\n",
            "    \"data\": {},\n",
            "    \"type\": \"message\"\n",
            "  },\n",
            "  {\n",
            "    \"id\": \"67b4a26f6913e957964bf81f\",\n",
            "    \"created_at\": 1739891311,\n",
            "    \"level\": \"info\",\n",
            "    \"message\": \"The job has successfully completed\",\n",
            "    \"object\": \"fine_tuning.job.event\",\n",
            "    \"data\": {},\n",
            "    \"type\": \"message\"\n",
            "  },\n",
            "  {\n",
            "    \"id\": \"67b4a26f6913e957964bf81d\",\n",
            "    \"created_at\": 1739891311,\n",
            "    \"level\": \"info\",\n",
            "    \"message\": \"New fine-tuned model created\",\n",
            "    \"object\": \"fine_tuning.job.event\",\n",
            "    \"data\": {},\n",
            "    \"type\": \"message\"\n",
            "  },\n",
            "  {\n",
            "    \"id\": \"67b4a26f6913e957964bf81b\",\n",
            "    \"created_at\": 1739891311,\n",
            "    \"level\": \"info\",\n",
            "    \"message\": \"Checkpoint created at step 2\",\n",
            "    \"object\": \"fine_tuning.job.event\",\n",
            "    \"data\": {},\n",
            "    \"type\": \"message\"\n",
            "  }\n",
            "]\n"
          ]
        }
      ],
      "source": [
        "while True:\n",
        "    job_status = client_prod.fine_tuning.jobs.retrieve(job.id)\n",
        "    status = job_status.status\n",
        "    print(f\"\\nCurrent status: {status}\")\n",
        "\n",
        "    events = client_prod.fine_tuning.jobs.list_events(job.id)\n",
        "    events_list = [e.model_dump() for e in events]\n",
        "    events_list.sort(key=lambda x: x['created_at'])\n",
        "    print(\"\\nJob events:\")\n",
        "    print(json.dumps(events_list, indent=2))\n",
        "\n",
        "    if status in [\"succeeded\", \"failed\", \"cancelled\"]:\n",
        "        break\n",
        "\n",
        "    time.sleep(30)"
      ]
    },
    {
      "cell_type": "code",
      "execution_count": 18,
      "id": "e0c474a4-89ac-40c2-a1fe-a9d1e9267d13",
      "metadata": {
        "id": "e0c474a4-89ac-40c2-a1fe-a9d1e9267d13"
      },
      "outputs": [],
      "source": [
        "fine_tuned_model = job_status.fine_tuned_model"
      ]
    },
    {
      "cell_type": "code",
      "execution_count": 19,
      "id": "11dfc4b1-6b88-4379-a3b6-ecdd0026ba43",
      "metadata": {
        "colab": {
          "base_uri": "https://localhost:8080/",
          "height": 35
        },
        "id": "11dfc4b1-6b88-4379-a3b6-ecdd0026ba43",
        "outputId": "8454aaf0-8cdf-4c0e-fc12-915a2d5eba57"
      },
      "outputs": [
        {
          "output_type": "execute_result",
          "data": {
            "text/plain": [
              "'ft:meta-llama:Llama-3.1-8B-Instruct:personal:7029ab91'"
            ],
            "application/vnd.google.colaboratory.intrinsic+json": {
              "type": "string"
            }
          },
          "metadata": {},
          "execution_count": 19
        }
      ],
      "source": [
        "job_status.fine_tuned_model"
      ]
    },
    {
      "cell_type": "markdown",
      "id": "44823bfb-fac2-4be9-aa3c-67cebbdd81cd",
      "metadata": {
        "id": "44823bfb-fac2-4be9-aa3c-67cebbdd81cd"
      },
      "source": [
        "Congratulations! You've now created a fine-tuned model. Above, you'll see the exact name of your fine tuned model.\n",
        "\n",
        "In the next section, you'll be submitting batch requests to your fine-tuned model. However, you can also submit one-off requests as follows (remember to provide your kluster.ai API key and the name of your fine tuned model):\n",
        "\n",
        "```bash\n",
        "curl https://api.kluster.ai/v1/chat/completions \\\n",
        "  -H \"Authorization: Bearer INSERT_API_KEY\" \\\n",
        "  -H \"Content-Type: application/json\" \\\n",
        "  -d '{\n",
        "    \"model\": \"INSERT_FINE_TUNED_MODEL\",\n",
        "    \"max_completion_tokens\": 5000,\n",
        "    \"temperature\": 0.6,\n",
        "    \"top_p\": 1,\n",
        "    \"messages\": [\n",
        "      {\n",
        "        \"role\": \"system\",\n",
        "        \"content\": \"You are a helpful assistant specializing in determining the sentiment of financial news.\\nAnalyze the following text regarding financial information and assign one of the following labels to indicate its sentiment: positive, negative, or neutral.\\nProvide your response as a single word without any punctuation.\"\n",
        "      },\n",
        "      {\n",
        "        \"role\": \"user\",\n",
        "        \"content\": \"Net sales increased to EUR655m in April to June 2010 from EUR438m a year earlier.\"\n",
        "      }\n",
        "    ]\n",
        "  }'\n",
        "```\n",
        "\n"
      ]
    },
    {
      "cell_type": "markdown",
      "id": "85c41457-2f31-4e98-aa55-3a42a478b8e7",
      "metadata": {
        "id": "85c41457-2f31-4e98-aa55-3a42a478b8e7"
      },
      "source": [
        "## Testing the fine-tuned model with batch inference"
      ]
    },
    {
      "cell_type": "markdown",
      "id": "598eeeac-84dc-40eb-a64d-19ee80114bb8",
      "metadata": {
        "id": "598eeeac-84dc-40eb-a64d-19ee80114bb8"
      },
      "source": [
        "With LLMs, it is essential to write a good prompt, including the system prompt. Below, you can see an example instruction for the LLM. Feel free to experiment with it and see how it changes the performance!"
      ]
    },
    {
      "cell_type": "code",
      "execution_count": 20,
      "id": "3bb7f503-dbe5-4983-99e7-0794a0835ec1",
      "metadata": {
        "id": "3bb7f503-dbe5-4983-99e7-0794a0835ec1"
      },
      "outputs": [],
      "source": [
        "SYSTEM_PROMPT = '''\n",
        "    You are a helpful assistant specializing in determining the sentiment of financial news.\n",
        "    Analyze the following text regarding financial information and assign one of the following labels to indicate its sentiment: positive, negative, or neutral.\n",
        "    Provide your response as a single word without any punctuation.\n",
        "    '''"
      ]
    },
    {
      "cell_type": "markdown",
      "id": "c4f5a51c-fc39-4567-b85d-95a98d5f9c98",
      "metadata": {
        "id": "c4f5a51c-fc39-4567-b85d-95a98d5f9c98"
      },
      "source": [
        "Now that the prompt is defined, it’s time to execute the code and run the classification task for each model. In this step, we loop through the list of models, creating the requests and batch jobs, monitoring progress and retrieving the results.\n"
      ]
    },
    {
      "cell_type": "code",
      "execution_count": 21,
      "id": "fe1531a6-844e-4173-8122-a7bf871df06c",
      "metadata": {
        "colab": {
          "base_uri": "https://localhost:8080/",
          "height": 35
        },
        "id": "fe1531a6-844e-4173-8122-a7bf871df06c",
        "outputId": "4a7484fc-35fb-4700-d397-751ef357356e"
      },
      "outputs": [
        {
          "output_type": "display_data",
          "data": {
            "text/plain": [
              "'Ft_8b model job completed!'"
            ],
            "application/vnd.google.colaboratory.intrinsic+json": {
              "type": "string"
            }
          },
          "metadata": {}
        }
      ],
      "source": [
        "# Define models\n",
        "models = {\n",
        "        '8B':\"klusterai/Meta-Llama-3.1-8B-Instruct-Turbo\",\n",
        "        '70B':\"klusterai/Meta-Llama-3.3-70B-Instruct-Turbo\",\n",
        "        '405B':\"klusterai/Meta-Llama-3.1-405B-Instruct-Turbo\",\n",
        "        'ft_8B': fine_tuned_model\n",
        "        }\n",
        "\n",
        "# Process each model: create tasks, run jobs, and get results\n",
        "for name, model in models.items():\n",
        "    task_list = create_tasks(test_df, task_type='assistant', system_prompt=SYSTEM_PROMPT, model=model, content_column='text')\n",
        "    filename = save_tasks(task_list, task_type='assistant')\n",
        "    if name != 'ft_8B':\n",
        "        job = create_batch_job(filename, client=client_prod)\n",
        "        monitor_job_status(client=client_prod, job_id=job.id, task_type=f'{name} model')\n",
        "        test_df[f'answer_base_{name}'] = get_results(client=client_prod, job_id=job.id)\n",
        "    else:\n",
        "        job = create_batch_job(filename, client=client_prod)\n",
        "        monitor_job_status(client=client_prod, job_id=job.id, task_type=f'{name} model')\n",
        "        test_df[f'answer_{name}'] = get_results(client=client_prod, job_id=job.id)"
      ]
    },
    {
      "cell_type": "code",
      "execution_count": 22,
      "id": "a0f539e6-4db6-49e3-af00-8bea1772fab4",
      "metadata": {
        "colab": {
          "base_uri": "https://localhost:8080/",
          "height": 195
        },
        "id": "a0f539e6-4db6-49e3-af00-8bea1772fab4",
        "outputId": "45e3f6df-e1d8-4b31-c117-0fc31c780abe"
      },
      "outputs": [
        {
          "output_type": "execute_result",
          "data": {
            "text/plain": [
              "    sentiment                                                                                                                                text answer_base_8B answer_base_70B answer_base_405B answer_ft_8B\n",
              "99   positive  Biohit already services many current Genesis customers and the customer base is expected to expand as a result of this agreement .        neutral        positive         positive      neutral\n",
              "87   positive      The acquisition will considerably increase Kemira 's sales and market position in the Russian metal industry coatings market .       positive        positive         positive     positive\n",
              "108  positive    In the fourth quarter of 2008 , net sales increased by 2 % to EUR 1,050.7 mn from EUR 1,027.0 mn in the fourth quarter of 2007 .        neutral        positive         positive      neutral"
            ],
            "text/html": [
              "\n",
              "  <div id=\"df-7705b7ab-659d-4027-9b56-7cc97029a532\" class=\"colab-df-container\">\n",
              "    <div>\n",
              "<style scoped>\n",
              "    .dataframe tbody tr th:only-of-type {\n",
              "        vertical-align: middle;\n",
              "    }\n",
              "\n",
              "    .dataframe tbody tr th {\n",
              "        vertical-align: top;\n",
              "    }\n",
              "\n",
              "    .dataframe thead th {\n",
              "        text-align: right;\n",
              "    }\n",
              "</style>\n",
              "<table border=\"1\" class=\"dataframe\">\n",
              "  <thead>\n",
              "    <tr style=\"text-align: right;\">\n",
              "      <th></th>\n",
              "      <th>sentiment</th>\n",
              "      <th>text</th>\n",
              "      <th>answer_base_8B</th>\n",
              "      <th>answer_base_70B</th>\n",
              "      <th>answer_base_405B</th>\n",
              "      <th>answer_ft_8B</th>\n",
              "    </tr>\n",
              "  </thead>\n",
              "  <tbody>\n",
              "    <tr>\n",
              "      <th>99</th>\n",
              "      <td>positive</td>\n",
              "      <td>Biohit already services many current Genesis customers and the customer base is expected to expand as a result of this agreement .</td>\n",
              "      <td>neutral</td>\n",
              "      <td>positive</td>\n",
              "      <td>positive</td>\n",
              "      <td>neutral</td>\n",
              "    </tr>\n",
              "    <tr>\n",
              "      <th>87</th>\n",
              "      <td>positive</td>\n",
              "      <td>The acquisition will considerably increase Kemira 's sales and market position in the Russian metal industry coatings market .</td>\n",
              "      <td>positive</td>\n",
              "      <td>positive</td>\n",
              "      <td>positive</td>\n",
              "      <td>positive</td>\n",
              "    </tr>\n",
              "    <tr>\n",
              "      <th>108</th>\n",
              "      <td>positive</td>\n",
              "      <td>In the fourth quarter of 2008 , net sales increased by 2 % to EUR 1,050.7 mn from EUR 1,027.0 mn in the fourth quarter of 2007 .</td>\n",
              "      <td>neutral</td>\n",
              "      <td>positive</td>\n",
              "      <td>positive</td>\n",
              "      <td>neutral</td>\n",
              "    </tr>\n",
              "  </tbody>\n",
              "</table>\n",
              "</div>\n",
              "    <div class=\"colab-df-buttons\">\n",
              "\n",
              "  <div class=\"colab-df-container\">\n",
              "    <button class=\"colab-df-convert\" onclick=\"convertToInteractive('df-7705b7ab-659d-4027-9b56-7cc97029a532')\"\n",
              "            title=\"Convert this dataframe to an interactive table.\"\n",
              "            style=\"display:none;\">\n",
              "\n",
              "  <svg xmlns=\"http://www.w3.org/2000/svg\" height=\"24px\" viewBox=\"0 -960 960 960\">\n",
              "    <path d=\"M120-120v-720h720v720H120Zm60-500h600v-160H180v160Zm220 220h160v-160H400v160Zm0 220h160v-160H400v160ZM180-400h160v-160H180v160Zm440 0h160v-160H620v160ZM180-180h160v-160H180v160Zm440 0h160v-160H620v160Z\"/>\n",
              "  </svg>\n",
              "    </button>\n",
              "\n",
              "  <style>\n",
              "    .colab-df-container {\n",
              "      display:flex;\n",
              "      gap: 12px;\n",
              "    }\n",
              "\n",
              "    .colab-df-convert {\n",
              "      background-color: #E8F0FE;\n",
              "      border: none;\n",
              "      border-radius: 50%;\n",
              "      cursor: pointer;\n",
              "      display: none;\n",
              "      fill: #1967D2;\n",
              "      height: 32px;\n",
              "      padding: 0 0 0 0;\n",
              "      width: 32px;\n",
              "    }\n",
              "\n",
              "    .colab-df-convert:hover {\n",
              "      background-color: #E2EBFA;\n",
              "      box-shadow: 0px 1px 2px rgba(60, 64, 67, 0.3), 0px 1px 3px 1px rgba(60, 64, 67, 0.15);\n",
              "      fill: #174EA6;\n",
              "    }\n",
              "\n",
              "    .colab-df-buttons div {\n",
              "      margin-bottom: 4px;\n",
              "    }\n",
              "\n",
              "    [theme=dark] .colab-df-convert {\n",
              "      background-color: #3B4455;\n",
              "      fill: #D2E3FC;\n",
              "    }\n",
              "\n",
              "    [theme=dark] .colab-df-convert:hover {\n",
              "      background-color: #434B5C;\n",
              "      box-shadow: 0px 1px 3px 1px rgba(0, 0, 0, 0.15);\n",
              "      filter: drop-shadow(0px 1px 2px rgba(0, 0, 0, 0.3));\n",
              "      fill: #FFFFFF;\n",
              "    }\n",
              "  </style>\n",
              "\n",
              "    <script>\n",
              "      const buttonEl =\n",
              "        document.querySelector('#df-7705b7ab-659d-4027-9b56-7cc97029a532 button.colab-df-convert');\n",
              "      buttonEl.style.display =\n",
              "        google.colab.kernel.accessAllowed ? 'block' : 'none';\n",
              "\n",
              "      async function convertToInteractive(key) {\n",
              "        const element = document.querySelector('#df-7705b7ab-659d-4027-9b56-7cc97029a532');\n",
              "        const dataTable =\n",
              "          await google.colab.kernel.invokeFunction('convertToInteractive',\n",
              "                                                    [key], {});\n",
              "        if (!dataTable) return;\n",
              "\n",
              "        const docLinkHtml = 'Like what you see? Visit the ' +\n",
              "          '<a target=\"_blank\" href=https://colab.research.google.com/notebooks/data_table.ipynb>data table notebook</a>'\n",
              "          + ' to learn more about interactive tables.';\n",
              "        element.innerHTML = '';\n",
              "        dataTable['output_type'] = 'display_data';\n",
              "        await google.colab.output.renderOutput(dataTable, element);\n",
              "        const docLink = document.createElement('div');\n",
              "        docLink.innerHTML = docLinkHtml;\n",
              "        element.appendChild(docLink);\n",
              "      }\n",
              "    </script>\n",
              "  </div>\n",
              "\n",
              "\n",
              "<div id=\"df-ceab14b4-7451-48cb-a080-2bd96446c5d6\">\n",
              "  <button class=\"colab-df-quickchart\" onclick=\"quickchart('df-ceab14b4-7451-48cb-a080-2bd96446c5d6')\"\n",
              "            title=\"Suggest charts\"\n",
              "            style=\"display:none;\">\n",
              "\n",
              "<svg xmlns=\"http://www.w3.org/2000/svg\" height=\"24px\"viewBox=\"0 0 24 24\"\n",
              "     width=\"24px\">\n",
              "    <g>\n",
              "        <path d=\"M19 3H5c-1.1 0-2 .9-2 2v14c0 1.1.9 2 2 2h14c1.1 0 2-.9 2-2V5c0-1.1-.9-2-2-2zM9 17H7v-7h2v7zm4 0h-2V7h2v10zm4 0h-2v-4h2v4z\"/>\n",
              "    </g>\n",
              "</svg>\n",
              "  </button>\n",
              "\n",
              "<style>\n",
              "  .colab-df-quickchart {\n",
              "      --bg-color: #E8F0FE;\n",
              "      --fill-color: #1967D2;\n",
              "      --hover-bg-color: #E2EBFA;\n",
              "      --hover-fill-color: #174EA6;\n",
              "      --disabled-fill-color: #AAA;\n",
              "      --disabled-bg-color: #DDD;\n",
              "  }\n",
              "\n",
              "  [theme=dark] .colab-df-quickchart {\n",
              "      --bg-color: #3B4455;\n",
              "      --fill-color: #D2E3FC;\n",
              "      --hover-bg-color: #434B5C;\n",
              "      --hover-fill-color: #FFFFFF;\n",
              "      --disabled-bg-color: #3B4455;\n",
              "      --disabled-fill-color: #666;\n",
              "  }\n",
              "\n",
              "  .colab-df-quickchart {\n",
              "    background-color: var(--bg-color);\n",
              "    border: none;\n",
              "    border-radius: 50%;\n",
              "    cursor: pointer;\n",
              "    display: none;\n",
              "    fill: var(--fill-color);\n",
              "    height: 32px;\n",
              "    padding: 0;\n",
              "    width: 32px;\n",
              "  }\n",
              "\n",
              "  .colab-df-quickchart:hover {\n",
              "    background-color: var(--hover-bg-color);\n",
              "    box-shadow: 0 1px 2px rgba(60, 64, 67, 0.3), 0 1px 3px 1px rgba(60, 64, 67, 0.15);\n",
              "    fill: var(--button-hover-fill-color);\n",
              "  }\n",
              "\n",
              "  .colab-df-quickchart-complete:disabled,\n",
              "  .colab-df-quickchart-complete:disabled:hover {\n",
              "    background-color: var(--disabled-bg-color);\n",
              "    fill: var(--disabled-fill-color);\n",
              "    box-shadow: none;\n",
              "  }\n",
              "\n",
              "  .colab-df-spinner {\n",
              "    border: 2px solid var(--fill-color);\n",
              "    border-color: transparent;\n",
              "    border-bottom-color: var(--fill-color);\n",
              "    animation:\n",
              "      spin 1s steps(1) infinite;\n",
              "  }\n",
              "\n",
              "  @keyframes spin {\n",
              "    0% {\n",
              "      border-color: transparent;\n",
              "      border-bottom-color: var(--fill-color);\n",
              "      border-left-color: var(--fill-color);\n",
              "    }\n",
              "    20% {\n",
              "      border-color: transparent;\n",
              "      border-left-color: var(--fill-color);\n",
              "      border-top-color: var(--fill-color);\n",
              "    }\n",
              "    30% {\n",
              "      border-color: transparent;\n",
              "      border-left-color: var(--fill-color);\n",
              "      border-top-color: var(--fill-color);\n",
              "      border-right-color: var(--fill-color);\n",
              "    }\n",
              "    40% {\n",
              "      border-color: transparent;\n",
              "      border-right-color: var(--fill-color);\n",
              "      border-top-color: var(--fill-color);\n",
              "    }\n",
              "    60% {\n",
              "      border-color: transparent;\n",
              "      border-right-color: var(--fill-color);\n",
              "    }\n",
              "    80% {\n",
              "      border-color: transparent;\n",
              "      border-right-color: var(--fill-color);\n",
              "      border-bottom-color: var(--fill-color);\n",
              "    }\n",
              "    90% {\n",
              "      border-color: transparent;\n",
              "      border-bottom-color: var(--fill-color);\n",
              "    }\n",
              "  }\n",
              "</style>\n",
              "\n",
              "  <script>\n",
              "    async function quickchart(key) {\n",
              "      const quickchartButtonEl =\n",
              "        document.querySelector('#' + key + ' button');\n",
              "      quickchartButtonEl.disabled = true;  // To prevent multiple clicks.\n",
              "      quickchartButtonEl.classList.add('colab-df-spinner');\n",
              "      try {\n",
              "        const charts = await google.colab.kernel.invokeFunction(\n",
              "            'suggestCharts', [key], {});\n",
              "      } catch (error) {\n",
              "        console.error('Error during call to suggestCharts:', error);\n",
              "      }\n",
              "      quickchartButtonEl.classList.remove('colab-df-spinner');\n",
              "      quickchartButtonEl.classList.add('colab-df-quickchart-complete');\n",
              "    }\n",
              "    (() => {\n",
              "      let quickchartButtonEl =\n",
              "        document.querySelector('#df-ceab14b4-7451-48cb-a080-2bd96446c5d6 button');\n",
              "      quickchartButtonEl.style.display =\n",
              "        google.colab.kernel.accessAllowed ? 'block' : 'none';\n",
              "    })();\n",
              "  </script>\n",
              "</div>\n",
              "\n",
              "    </div>\n",
              "  </div>\n"
            ],
            "application/vnd.google.colaboratory.intrinsic+json": {
              "type": "dataframe",
              "summary": "{\n  \"name\": \"test_df\",\n  \"rows\": 3,\n  \"fields\": [\n    {\n      \"column\": \"sentiment\",\n      \"properties\": {\n        \"dtype\": \"category\",\n        \"num_unique_values\": 1,\n        \"samples\": [\n          \"positive\"\n        ],\n        \"semantic_type\": \"\",\n        \"description\": \"\"\n      }\n    },\n    {\n      \"column\": \"text\",\n      \"properties\": {\n        \"dtype\": \"string\",\n        \"num_unique_values\": 3,\n        \"samples\": [\n          \"Biohit already services many current Genesis customers and the customer base is expected to expand as a result of this agreement .\"\n        ],\n        \"semantic_type\": \"\",\n        \"description\": \"\"\n      }\n    },\n    {\n      \"column\": \"answer_base_8B\",\n      \"properties\": {\n        \"dtype\": \"string\",\n        \"num_unique_values\": 2,\n        \"samples\": [\n          \"positive\"\n        ],\n        \"semantic_type\": \"\",\n        \"description\": \"\"\n      }\n    },\n    {\n      \"column\": \"answer_base_70B\",\n      \"properties\": {\n        \"dtype\": \"category\",\n        \"num_unique_values\": 1,\n        \"samples\": [\n          \"positive\"\n        ],\n        \"semantic_type\": \"\",\n        \"description\": \"\"\n      }\n    },\n    {\n      \"column\": \"answer_base_405B\",\n      \"properties\": {\n        \"dtype\": \"category\",\n        \"num_unique_values\": 1,\n        \"samples\": [\n          \"positive\"\n        ],\n        \"semantic_type\": \"\",\n        \"description\": \"\"\n      }\n    },\n    {\n      \"column\": \"answer_ft_8B\",\n      \"properties\": {\n        \"dtype\": \"string\",\n        \"num_unique_values\": 2,\n        \"samples\": [\n          \"positive\"\n        ],\n        \"semantic_type\": \"\",\n        \"description\": \"\"\n      }\n    }\n  ]\n}"
            }
          },
          "metadata": {},
          "execution_count": 22
        }
      ],
      "source": [
        "test_df.tail(3)"
      ]
    },
    {
      "cell_type": "markdown",
      "id": "26ac1e99-edfe-4041-819e-1d366fbcfd68",
      "metadata": {
        "id": "26ac1e99-edfe-4041-819e-1d366fbcfd68"
      },
      "source": [
        "## Comparing the results\n",
        "In this step, we compare the classification accuracy of the fine-tuned model against various baseline models. By calculating and visualizing their performance, we can determine whether fine-tuning delivers meaningful improvements over larger general-purpose models."
      ]
    },
    {
      "cell_type": "code",
      "execution_count": 24,
      "id": "b6654619-712c-4a08-b43b-6fdb6caaa871",
      "metadata": {
        "colab": {
          "base_uri": "https://localhost:8080/",
          "height": 407
        },
        "id": "b6654619-712c-4a08-b43b-6fdb6caaa871",
        "outputId": "da2df982-f36c-4b44-aae2-b4b1b760a1c9"
      },
      "outputs": [
        {
          "output_type": "display_data",
          "data": {
            "text/plain": [
              "<Figure size 600x400 with 1 Axes>"
            ],
            "image/png": "[encoded data removed]"
          },
          "metadata": {}
        }
      ],
      "source": [
        "# Rename dictionary\n",
        "rename_dict = {\n",
        "    'answer_base_8B': 'Base 8b model',\n",
        "    'answer_base_70B': 'Base 70b model',\n",
        "    'answer_base_405B': 'Base 405b model',\n",
        "    'answer_ft_8B': 'Fine Tuned 8b model',\n",
        "}\n",
        "\n",
        "# Calculate accuracy for each model with renamed keys\n",
        "accuracies = {}\n",
        "for name in rename_dict:\n",
        "    accuracy = test_df.apply(lambda row: row[name] in row['sentiment'], axis=1).mean()\n",
        "    accuracies[rename_dict[name]] = accuracy\n",
        "\n",
        "# Horizontal bar chart\n",
        "fig, ax = plt.subplots(figsize=(6, 4))\n",
        "sns.barplot(\n",
        "    y=list(accuracies.keys()),\n",
        "    x=list(accuracies.values()),\n",
        "    hue=list(accuracies.keys()),  # Add a hue based on the model names\n",
        "    palette=\"viridis\",\n",
        "    edgecolor='black',\n",
        "    ax=ax,\n",
        "    legend=False  # Disable the unnecessary legend\n",
        ")\n",
        "\n",
        "# Add labels to bars\n",
        "for i, bar in enumerate(ax.patches):\n",
        "    ax.text(bar.get_width() - 0.02,\n",
        "            bar.get_y() + bar.get_height() / 2,\n",
        "            f\"{list(accuracies.values())[i]:.3f}\",\n",
        "            ha='right', va='center', color='white', fontsize=12, fontweight='bold')\n",
        "\n",
        "# Set plot aesthetics\n",
        "ax.set_xlim(0, max(accuracies.values()) + 0.05)\n",
        "ax.set_xlabel('Accuracy', fontsize=12)\n",
        "ax.set_ylabel('Model', fontsize=12)\n",
        "ax.set_title('Classification Accuracy by Model', fontsize=14, fontweight='bold')\n",
        "sns.despine()\n",
        "\n",
        "# Show the plot\n",
        "plt.tight_layout()\n",
        "plt.show()"
      ]
    },
    {
      "cell_type": "markdown",
      "source": [],
      "metadata": {
        "id": "XC5J91FxolFR"
      },
      "id": "XC5J91FxolFR"
    },
    {
      "cell_type": "markdown",
      "id": "b3cd0c42-2386-490c-b8bb-263c50e1b66b",
      "metadata": {
        "id": "b3cd0c42-2386-490c-b8bb-263c50e1b66b"
      },
      "source": [
        "## Conclusion\n",
        "\n",
        "As you can see in the above chart, the fine-tuned model performed appreciably better than the base model. Remember that we optimized this tutorial for speed, and not for performance. Accordingly, if you increase the size of the phrasebank dataset sample taken and increase the number of epochs as hyperparameters, you will likely see substantially increased performance of the fine-tuned model, that rivals the performance of the base 70b model.\n",
        "\n",
        "After you run through the tutorial once successfully, we encourage you to experiment with the hyperparameters, training data, and the system prompt, and the various models offered by kluster. Good luck!"
      ]
    }
  ],
  "metadata": {
    "kernelspec": {
      "display_name": "Python 3",
      "language": "python",
      "name": "python3"
    },
    "language_info": {
      "codemirror_mode": {
        "name": "ipython",
        "version": 3
      },
      "file_extension": ".py",
      "mimetype": "text/x-python",
      "name": "python",
      "nbconvert_exporter": "python",
      "pygments_lexer": "ipython3",
      "version": "3.10.12"
    },
    "colab": {
      "provenance": []
    }
  },
  "nbformat": 4,
  "nbformat_minor": 5
}
