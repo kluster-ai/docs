{
 "cells": [
  {
   "cell_type": "markdown",
   "id": "be189fde-4e5b-4f80-bae1-ded86a5075a7",
   "metadata": {
    "id": "be189fde-4e5b-4f80-bae1-ded86a5075a7"
   },
   "source": [
    "# Quick start: Multiple Batch Predictions with kluster.ai"
   ]
  },
  {
   "cell_type": "markdown",
   "id": "b17a77d9",
   "metadata": {},
   "source": [
    "[![Open in Colab](https://colab.research.google.com/assets/colab-badge.svg)](https://colab.research.google.com/github/kluster-ai/klusterai-cookbook/blob/main/get-started-all-in-one-batch-api.ipynb)"
   ]
  },
  {
   "cell_type": "markdown",
   "id": "6d1d06ea-79c1-4f28-b312-0e5aabe18ff3",
   "metadata": {
    "id": "6d1d06ea-79c1-4f28-b312-0e5aabe18ff3"
   },
   "source": [
    "Welcome to our Collab Notebook where you’ll learn how to use the [kluster.ai](https://kluster.ai/) **batch inference service to extract insights from large volumes of text data**. By the end of this guide, you'll be able to *summarize a dataset, generate keywords, translate text from English to Spanish, classify the text and extract the relevant keywords* all without writing a single line of code. Whether you’re familiar with LLMs or just getting started, this guide is designed to get you up and running in minutes.\n",
    "\n",
    "In this guide, you'll follow just a few simple steps:\n",
    "\n",
    "1.\t**Enter your API Key:** The only required input. This allows access to kluster.ai API for generating predictions. If you don't have one, just sign up [here](https://platform.kluster.ai/signup) and you'll get one for free\n",
    "2.\t**Select a Dataset:** We offer three different datasets to choose from. Just select one from the provided options to get started.\n",
    "3.\t**Run Configurations and Predictions:** All configuration settings are already defined. After selecting the dataset, you can proceed by simply running the provided cells, which will handle all configurations and execute batch predictions for you.\n",
    "\n",
    "That's it! No additional setup or input is required. This notebook is designed to be as hands-off as possible to ensure a smooth experience."
   ]
  },
  {
   "cell_type": "markdown",
   "id": "kLjuYx2NzXe6",
   "metadata": {
    "colab_type": "toc",
    "id": "kLjuYx2NzXe6"
   },
   "source": [
    "### Table of contents\n",
    "\n",
    ">>[Config](#scrollTo=xU1WBQJ7Uh09)\n",
    "\n",
    ">>[Setup](#scrollTo=650e5559-69c7-4274-8700-a7d94791e9db)\n",
    "\n",
    ">>[Fetch the data](#scrollTo=udPtLfTaisSw)\n",
    "\n",
    ">>[Define the tasks](#scrollTo=w-Lux3oUjfYI)\n",
    "\n",
    ">>[Batch Predictions](#scrollTo=OyGuHllZllct)\n",
    "\n",
    ">>>[Create the Batch File](#scrollTo=Ew-R24Ltp5EW)\n",
    "\n",
    ">>>[Upload Batch File to kluster.ai](#scrollTo=xArKu7-sqSiR)\n",
    "\n",
    ">>>[Check Job progress](#scrollTo=e-ujphILqepu)\n",
    "\n",
    ">>[Get the results](#scrollTo=TkkhIG9HU0D9)\n",
    "\n"
   ]
  },
  {
   "cell_type": "markdown",
   "id": "xU1WBQJ7Uh09",
   "metadata": {
    "id": "xU1WBQJ7Uh09"
   },
   "source": [
    "## Config"
   ]
  },
  {
   "cell_type": "code",
   "execution_count": 1,
   "id": "4911e5eb-7463-4a6b-8a99-9313cecd9d4d",
   "metadata": {
    "colab": {
     "base_uri": "https://localhost:8080/"
    },
    "executionInfo": {
     "elapsed": 14512,
     "status": "ok",
     "timestamp": 1732042280555,
     "user": {
      "displayName": "Joaquin Rodríguez",
      "userId": "09993043682054067997"
     },
     "user_tz": 180
    },
    "id": "4911e5eb-7463-4a6b-8a99-9313cecd9d4d",
    "outputId": "ec988c9c-da2e-41d9-d2cb-468673ba43dd"
   },
   "outputs": [
    {
     "name": "stdout",
     "output_type": "stream",
     "text": [
      "Enter your kluster.ai API key: ··········\n"
     ]
    }
   ],
   "source": [
    "from getpass import getpass\n",
    "# Enter you personal kluster.ai API key (make sure in advance it has no blank spaces)\n",
    "api_key = getpass(\"Enter your kluster.ai API key: \")"
   ]
  },
  {
   "cell_type": "markdown",
   "id": "650e5559-69c7-4274-8700-a7d94791e9db",
   "metadata": {
    "id": "650e5559-69c7-4274-8700-a7d94791e9db"
   },
   "source": [
    "##Setup"
   ]
  },
  {
   "cell_type": "code",
   "execution_count": 2,
   "id": "bcc3d475-8f49-4fc4-9a5e-c6eb6866d2b5",
   "metadata": {
    "colab": {
     "base_uri": "https://localhost:8080/"
    },
    "executionInfo": {
     "elapsed": 4083,
     "status": "ok",
     "timestamp": 1732042284635,
     "user": {
      "displayName": "Joaquin Rodríguez",
      "userId": "09993043682054067997"
     },
     "user_tz": 180
    },
    "id": "bcc3d475-8f49-4fc4-9a5e-c6eb6866d2b5",
    "outputId": "3e654d01-84bc-41da-a969-78f90f90cf6e"
   },
   "outputs": [
    {
     "name": "stdout",
     "output_type": "stream",
     "text": [
      "Requirement already satisfied: OpenAI in /usr/local/lib/python3.10/dist-packages (1.54.4)\n",
      "Requirement already satisfied: anyio<5,>=3.5.0 in /usr/local/lib/python3.10/dist-packages (from OpenAI) (3.7.1)\n",
      "Requirement already satisfied: distro<2,>=1.7.0 in /usr/local/lib/python3.10/dist-packages (from OpenAI) (1.9.0)\n",
      "Requirement already satisfied: httpx<1,>=0.23.0 in /usr/local/lib/python3.10/dist-packages (from OpenAI) (0.27.2)\n",
      "Requirement already satisfied: jiter<1,>=0.4.0 in /usr/local/lib/python3.10/dist-packages (from OpenAI) (0.7.1)\n",
      "Requirement already satisfied: pydantic<3,>=1.9.0 in /usr/local/lib/python3.10/dist-packages (from OpenAI) (2.9.2)\n",
      "Requirement already satisfied: sniffio in /usr/local/lib/python3.10/dist-packages (from OpenAI) (1.3.1)\n",
      "Requirement already satisfied: tqdm>4 in /usr/local/lib/python3.10/dist-packages (from OpenAI) (4.66.6)\n",
      "Requirement already satisfied: typing-extensions<5,>=4.11 in /usr/local/lib/python3.10/dist-packages (from OpenAI) (4.12.2)\n",
      "Requirement already satisfied: idna>=2.8 in /usr/local/lib/python3.10/dist-packages (from anyio<5,>=3.5.0->OpenAI) (3.10)\n",
      "Requirement already satisfied: exceptiongroup in /usr/local/lib/python3.10/dist-packages (from anyio<5,>=3.5.0->OpenAI) (1.2.2)\n",
      "Requirement already satisfied: certifi in /usr/local/lib/python3.10/dist-packages (from httpx<1,>=0.23.0->OpenAI) (2024.8.30)\n",
      "Requirement already satisfied: httpcore==1.* in /usr/local/lib/python3.10/dist-packages (from httpx<1,>=0.23.0->OpenAI) (1.0.6)\n",
      "Requirement already satisfied: h11<0.15,>=0.13 in /usr/local/lib/python3.10/dist-packages (from httpcore==1.*->httpx<1,>=0.23.0->OpenAI) (0.14.0)\n",
      "Requirement already satisfied: annotated-types>=0.6.0 in /usr/local/lib/python3.10/dist-packages (from pydantic<3,>=1.9.0->OpenAI) (0.7.0)\n",
      "Requirement already satisfied: pydantic-core==2.23.4 in /usr/local/lib/python3.10/dist-packages (from pydantic<3,>=1.9.0->OpenAI) (2.23.4)\n"
     ]
    }
   ],
   "source": [
    "%pip install OpenAI"
   ]
  },
  {
   "cell_type": "code",
   "execution_count": 3,
   "id": "b89a4feb-37a9-430d-a742-cd58495b4eaf",
   "metadata": {
    "executionInfo": {
     "elapsed": 1864,
     "status": "ok",
     "timestamp": 1732042286496,
     "user": {
      "displayName": "Joaquin Rodríguez",
      "userId": "09993043682054067997"
     },
     "user_tz": 180
    },
    "id": "b89a4feb-37a9-430d-a742-cd58495b4eaf"
   },
   "outputs": [],
   "source": [
    "import os\n",
    "import urllib.request\n",
    "import pandas as pd\n",
    "import requests\n",
    "from openai import OpenAI\n",
    "import time\n",
    "import json\n",
    "from IPython.display import clear_output, display\n",
    "\n",
    "pd.set_option('display.max_columns', 1000, 'display.width', 1000, 'display.max_rows',1000, 'display.max_colwidth', 500)"
   ]
  },
  {
   "cell_type": "code",
   "execution_count": 4,
   "id": "zG9y_WO5rYaj",
   "metadata": {
    "executionInfo": {
     "elapsed": 4,
     "status": "ok",
     "timestamp": 1732042286497,
     "user": {
      "displayName": "Joaquin Rodríguez",
      "userId": "09993043682054067997"
     },
     "user_tz": 180
    },
    "id": "zG9y_WO5rYaj"
   },
   "outputs": [],
   "source": [
    "# Set up the client\n",
    "client = OpenAI(\n",
    "    base_url=\"https://api.kluster.ai/v1\",\n",
    "    api_key=api_key,\n",
    ")"
   ]
  },
  {
   "cell_type": "markdown",
   "id": "udPtLfTaisSw",
   "metadata": {
    "id": "udPtLfTaisSw"
   },
   "source": [
    "## Fetch the data"
   ]
  },
  {
   "cell_type": "markdown",
   "id": "QjCVfg65jKz6",
   "metadata": {
    "id": "QjCVfg65jKz6"
   },
   "source": [
    "In this section, you can choose from three different datasets to work with. Simply select the URL corresponding to the dataset you want, and the notebook will automatically fetch it for you. No extra steps are needed!"
   ]
  },
  {
   "cell_type": "code",
   "execution_count": 5,
   "id": "yC9wJlV4rwOh",
   "metadata": {
    "executionInfo": {
     "elapsed": 4,
     "status": "ok",
     "timestamp": 1732042286497,
     "user": {
      "displayName": "Joaquin Rodríguez",
      "userId": "09993043682054067997"
     },
     "user_tz": 180
    },
    "id": "yC9wJlV4rwOh"
   },
   "outputs": [],
   "source": [
    "# Choose your dataset:\n",
    "# AMZ musical instrument reviews dataset:\n",
    "url = \"https://snap.stanford.edu/data/amazon/productGraph/categoryFiles/reviews_Musical_Instruments_5.json.gz\"\n",
    "\n",
    "# IMDB Top 1000 sample dataset:\n",
    "#url = \"https://raw.githubusercontent.com/kluster-ai/klusterai-cookbook/refs/heads/main/data/imdb_top_1000.csv\"\n",
    "\n",
    "# AG News sample dataset:\n",
    "#url = \"https://raw.githubusercontent.com/kluster-ai/klusterai-cookbook/refs/heads/main/data/ag_news.csv\""
   ]
  },
  {
   "cell_type": "code",
   "execution_count": 6,
   "id": "07018f92-9a01-47d5-916a-12cd03dfa3a0",
   "metadata": {
    "colab": {
     "base_uri": "https://localhost:8080/",
     "height": 398
    },
    "executionInfo": {
     "elapsed": 3137,
     "status": "ok",
     "timestamp": 1732042289630,
     "user": {
      "displayName": "Joaquin Rodríguez",
      "userId": "09993043682054067997"
     },
     "user_tz": 180
    },
    "id": "07018f92-9a01-47d5-916a-12cd03dfa3a0",
    "outputId": "c6fc7fdb-6bb6-4ec3-b7dd-1dbcfd08900b"
   },
   "outputs": [
    {
     "name": "stdout",
     "output_type": "stream",
     "text": [
      "Dataset downloaded and saved as data/reviews_Musical_Instruments_5.json.gz\n"
     ]
    },
    {
     "data": {
      "application/vnd.google.colaboratory.intrinsic+json": {
       "summary": "{\n  \"name\": \"df\",\n  \"rows\": 5,\n  \"fields\": [\n    {\n      \"column\": \"text\",\n      \"properties\": {\n        \"dtype\": \"string\",\n        \"num_unique_values\": 5,\n        \"samples\": [\n          \"I've been thinking about trying the Nanoweb strings for a while, but I was a bit put off by the high price (they cost about twice as much as the uncharted strings I've been buying)  and the comments of some reviewers that the tone of coated strings is noticeably duller. I was intrigued by the promise of long life, though; I have a Taylor Big Baby that I bought used, and which came with a set of Nanowebs that had probably been on it for a year- and they didn't sound at all like old strings. This review set gave me a chance to finally see for myself how they sound when new.I'd just changed the strings on my 1970s Gibson Gospel a week ago, so I decided that would be my reference. The Nanowebs went on my 1970s Guild D-35. Both are well broken in, solid spruce top guitars. The Gospel is a bit brighter sounding, but I'm pretty familiar with the sound of both guitars. If they D-35 sounded dull, I'd notice.As I was unwrapping the Nanowebs I noticed that while they were labeled \\\"Light\\\" gauge, they had a 0.013\\\" E string- something you'd be more likely to find on a set of medium gauge strings. The B was a .017, compared to the .016 of the D'Addarios I usually play. The rest of the strings were there usual light gauges. Turns out that these are \\\"HD Light\\\" gauge, designed to have a slightly more tension and better articulation at the high end. The difference shouldn't be enough to require any truss rod adjustment so I went ahead and installed them on the D-35.So how do they sound? The unwound E and B don't sound different from any other plain steel string, of course. The E does feel a tiny bit stiffer, when I switch between the D-35 and the Gospel. Sound-wise, I'd say they sound like a good set that have been on a guitar for a day. I wouldn't call them dull by any stretch of the imagination. If I didn't know that they were coated strings I certainly wouldn't be able to tell from playing them. So they're good sounding strings, and they last a long time. That leaves the question of cost- are they worth twice the price of uncoated strings?Here's the way I see it: If you're a heavy strummer, or playing gigs every night, maybe not. You're probably breaking strings or losing them to metal fatigue long before they'd go dull from corrosion or contamination. But if you're a finger picker, or a light strummer, a coated string will probably save you a lot of money in the long run. And if you're a hobby player who keeps a guitar around the house, and picks it up once in a while to entertain friends or family, coated strings are probably an excellent choice. For myself, I'm going to leave these on the D-35 for as long as they still sound good. I'll update this review when I find out just how long they do last.Follow up: After playing these for a few days, I actually went out and bought a set in the same gauge for my Loar LH-350, an arch top guitar with a carved top that gets played more than any of my other guitars. They sound great on the Loar, and now I have two guitars to do a long term test on.\",\n          \"These strings are really quite good, but I wouldn't call them perfect.  The unwound strings are not quite as bright as I am accustomed to, but they still ring nicely.  This is the only complaint I have about these strings.  If the unwound strings were a tiny bit brighter, these would be 5-star strings.  As it stands, I give them 4.5 stars... not a big knock, actually.The low-end on the wound strings is very nice and quite warm.  I put these on a jumbo and it definitely accentuates the &#34;jumbo&#34; aspect of my acoustic.  The sound is very big, full, and nice.Definitely a recommended product!4.5/5 stars\",\n          \"I have tried coated strings in the past ( including Elixirs) and have never been very fond of them. Whenever I tried them I felt a certain disconnect from my guitar. Somewhat reminiscent of wearing condom. Not that I hated them, just didn't really love them. These are the best ones I've tried so far. I still don't like them as much as regular strings but because of the type of gigs I mostly do these seem to be a reasonable trade off. If you need a longer lasting string for whatever the reason these are really the best out there. After a dozen or so gigs with them, they still sound the same as when I put them on.\"\n        ],\n        \"semantic_type\": \"\",\n        \"description\": \"\"\n      }\n    }\n  ]\n}",
       "type": "dataframe",
       "variable_name": "df"
      },
      "text/html": [
       "\n",
       "  <div id=\"df-70ae66ba-9b91-4bbd-be5f-1d7d53810ebc\" class=\"colab-df-container\">\n",
       "    <div>\n",
       "<style scoped>\n",
       "    .dataframe tbody tr th:only-of-type {\n",
       "        vertical-align: middle;\n",
       "    }\n",
       "\n",
       "    .dataframe tbody tr th {\n",
       "        vertical-align: top;\n",
       "    }\n",
       "\n",
       "    .dataframe thead th {\n",
       "        text-align: right;\n",
       "    }\n",
       "</style>\n",
       "<table border=\"1\" class=\"dataframe\">\n",
       "  <thead>\n",
       "    <tr style=\"text-align: right;\">\n",
       "      <th></th>\n",
       "      <th>text</th>\n",
       "    </tr>\n",
       "  </thead>\n",
       "  <tbody>\n",
       "    <tr>\n",
       "      <th>0</th>\n",
       "      <td>Great, just as expected.  Thank to all.</td>\n",
       "    </tr>\n",
       "    <tr>\n",
       "      <th>1</th>\n",
       "      <td>I've been thinking about trying the Nanoweb strings for a while, but I was a bit put off by the high price (they cost about twice as much as the uncharted strings I've been buying)  and the comments of some reviewers that the tone of coated strings is noticeably duller. I was intrigued by the promise of long life, though; I have a Taylor Big Baby that I bought used, and which came with a set of Nanowebs that had probably been on it for a year- and they didn't sound at all like old strings. T...</td>\n",
       "    </tr>\n",
       "    <tr>\n",
       "      <th>2</th>\n",
       "      <td>I have tried coated strings in the past ( including Elixirs) and have never been very fond of them. Whenever I tried them I felt a certain disconnect from my guitar. Somewhat reminiscent of wearing condom. Not that I hated them, just didn't really love them. These are the best ones I've tried so far. I still don't like them as much as regular strings but because of the type of gigs I mostly do these seem to be a reasonable trade off. If you need a longer lasting string for whatever the reaso...</td>\n",
       "    </tr>\n",
       "    <tr>\n",
       "      <th>3</th>\n",
       "      <td>Well, MADE by Elixir and DEVELOPED with Taylor Guitars ... these strings were designed for the new 800 (Rosewood) series guitars that came out this year (2014) ... the promise is a &amp;#34;bolder high end, fuller low end&amp;#34; ... I am a long-time Taylor owner and favor their 800 series (Rosewood/Spruce is my favorite combo in tone woods) ... I have almost always used Elixir Nanoweb Phosphor Bronze lights on my guitars ... I like not only the tone but the feel and longevity of these strings ... ...</td>\n",
       "    </tr>\n",
       "    <tr>\n",
       "      <th>4</th>\n",
       "      <td>These strings are really quite good, but I wouldn't call them perfect.  The unwound strings are not quite as bright as I am accustomed to, but they still ring nicely.  This is the only complaint I have about these strings.  If the unwound strings were a tiny bit brighter, these would be 5-star strings.  As it stands, I give them 4.5 stars... not a big knock, actually.The low-end on the wound strings is very nice and quite warm.  I put these on a jumbo and it definitely accentuates the &amp;#34;j...</td>\n",
       "    </tr>\n",
       "  </tbody>\n",
       "</table>\n",
       "</div>\n",
       "    <div class=\"colab-df-buttons\">\n",
       "\n",
       "  <div class=\"colab-df-container\">\n",
       "    <button class=\"colab-df-convert\" onclick=\"convertToInteractive('df-70ae66ba-9b91-4bbd-be5f-1d7d53810ebc')\"\n",
       "            title=\"Convert this dataframe to an interactive table.\"\n",
       "            style=\"display:none;\">\n",
       "\n",
       "  <svg xmlns=\"http://www.w3.org/2000/svg\" height=\"24px\" viewBox=\"0 -960 960 960\">\n",
       "    <path d=\"M120-120v-720h720v720H120Zm60-500h600v-160H180v160Zm220 220h160v-160H400v160Zm0 220h160v-160H400v160ZM180-400h160v-160H180v160Zm440 0h160v-160H620v160ZM180-180h160v-160H180v160Zm440 0h160v-160H620v160Z\"/>\n",
       "  </svg>\n",
       "    </button>\n",
       "\n",
       "  <style>\n",
       "    .colab-df-container {\n",
       "      display:flex;\n",
       "      gap: 12px;\n",
       "    }\n",
       "\n",
       "    .colab-df-convert {\n",
       "      background-color: #E8F0FE;\n",
       "      border: none;\n",
       "      border-radius: 50%;\n",
       "      cursor: pointer;\n",
       "      display: none;\n",
       "      fill: #1967D2;\n",
       "      height: 32px;\n",
       "      padding: 0 0 0 0;\n",
       "      width: 32px;\n",
       "    }\n",
       "\n",
       "    .colab-df-convert:hover {\n",
       "      background-color: #E2EBFA;\n",
       "      box-shadow: 0px 1px 2px rgba(60, 64, 67, 0.3), 0px 1px 3px 1px rgba(60, 64, 67, 0.15);\n",
       "      fill: #174EA6;\n",
       "    }\n",
       "\n",
       "    .colab-df-buttons div {\n",
       "      margin-bottom: 4px;\n",
       "    }\n",
       "\n",
       "    [theme=dark] .colab-df-convert {\n",
       "      background-color: #3B4455;\n",
       "      fill: #D2E3FC;\n",
       "    }\n",
       "\n",
       "    [theme=dark] .colab-df-convert:hover {\n",
       "      background-color: #434B5C;\n",
       "      box-shadow: 0px 1px 3px 1px rgba(0, 0, 0, 0.15);\n",
       "      filter: drop-shadow(0px 1px 2px rgba(0, 0, 0, 0.3));\n",
       "      fill: #FFFFFF;\n",
       "    }\n",
       "  </style>\n",
       "\n",
       "    <script>\n",
       "      const buttonEl =\n",
       "        document.querySelector('#df-70ae66ba-9b91-4bbd-be5f-1d7d53810ebc button.colab-df-convert');\n",
       "      buttonEl.style.display =\n",
       "        google.colab.kernel.accessAllowed ? 'block' : 'none';\n",
       "\n",
       "      async function convertToInteractive(key) {\n",
       "        const element = document.querySelector('#df-70ae66ba-9b91-4bbd-be5f-1d7d53810ebc');\n",
       "        const dataTable =\n",
       "          await google.colab.kernel.invokeFunction('convertToInteractive',\n",
       "                                                    [key], {});\n",
       "        if (!dataTable) return;\n",
       "\n",
       "        const docLinkHtml = 'Like what you see? Visit the ' +\n",
       "          '<a target=\"_blank\" href=https://colab.research.google.com/notebooks/data_table.ipynb>data table notebook</a>'\n",
       "          + ' to learn more about interactive tables.';\n",
       "        element.innerHTML = '';\n",
       "        dataTable['output_type'] = 'display_data';\n",
       "        await google.colab.output.renderOutput(dataTable, element);\n",
       "        const docLink = document.createElement('div');\n",
       "        docLink.innerHTML = docLinkHtml;\n",
       "        element.appendChild(docLink);\n",
       "      }\n",
       "    </script>\n",
       "  </div>\n",
       "\n",
       "\n",
       "<div id=\"df-138cba96-f324-4540-ae2b-63118db96fa8\">\n",
       "  <button class=\"colab-df-quickchart\" onclick=\"quickchart('df-138cba96-f324-4540-ae2b-63118db96fa8')\"\n",
       "            title=\"Suggest charts\"\n",
       "            style=\"display:none;\">\n",
       "\n",
       "<svg xmlns=\"http://www.w3.org/2000/svg\" height=\"24px\"viewBox=\"0 0 24 24\"\n",
       "     width=\"24px\">\n",
       "    <g>\n",
       "        <path d=\"M19 3H5c-1.1 0-2 .9-2 2v14c0 1.1.9 2 2 2h14c1.1 0 2-.9 2-2V5c0-1.1-.9-2-2-2zM9 17H7v-7h2v7zm4 0h-2V7h2v10zm4 0h-2v-4h2v4z\"/>\n",
       "    </g>\n",
       "</svg>\n",
       "  </button>\n",
       "\n",
       "<style>\n",
       "  .colab-df-quickchart {\n",
       "      --bg-color: #E8F0FE;\n",
       "      --fill-color: #1967D2;\n",
       "      --hover-bg-color: #E2EBFA;\n",
       "      --hover-fill-color: #174EA6;\n",
       "      --disabled-fill-color: #AAA;\n",
       "      --disabled-bg-color: #DDD;\n",
       "  }\n",
       "\n",
       "  [theme=dark] .colab-df-quickchart {\n",
       "      --bg-color: #3B4455;\n",
       "      --fill-color: #D2E3FC;\n",
       "      --hover-bg-color: #434B5C;\n",
       "      --hover-fill-color: #FFFFFF;\n",
       "      --disabled-bg-color: #3B4455;\n",
       "      --disabled-fill-color: #666;\n",
       "  }\n",
       "\n",
       "  .colab-df-quickchart {\n",
       "    background-color: var(--bg-color);\n",
       "    border: none;\n",
       "    border-radius: 50%;\n",
       "    cursor: pointer;\n",
       "    display: none;\n",
       "    fill: var(--fill-color);\n",
       "    height: 32px;\n",
       "    padding: 0;\n",
       "    width: 32px;\n",
       "  }\n",
       "\n",
       "  .colab-df-quickchart:hover {\n",
       "    background-color: var(--hover-bg-color);\n",
       "    box-shadow: 0 1px 2px rgba(60, 64, 67, 0.3), 0 1px 3px 1px rgba(60, 64, 67, 0.15);\n",
       "    fill: var(--button-hover-fill-color);\n",
       "  }\n",
       "\n",
       "  .colab-df-quickchart-complete:disabled,\n",
       "  .colab-df-quickchart-complete:disabled:hover {\n",
       "    background-color: var(--disabled-bg-color);\n",
       "    fill: var(--disabled-fill-color);\n",
       "    box-shadow: none;\n",
       "  }\n",
       "\n",
       "  .colab-df-spinner {\n",
       "    border: 2px solid var(--fill-color);\n",
       "    border-color: transparent;\n",
       "    border-bottom-color: var(--fill-color);\n",
       "    animation:\n",
       "      spin 1s steps(1) infinite;\n",
       "  }\n",
       "\n",
       "  @keyframes spin {\n",
       "    0% {\n",
       "      border-color: transparent;\n",
       "      border-bottom-color: var(--fill-color);\n",
       "      border-left-color: var(--fill-color);\n",
       "    }\n",
       "    20% {\n",
       "      border-color: transparent;\n",
       "      border-left-color: var(--fill-color);\n",
       "      border-top-color: var(--fill-color);\n",
       "    }\n",
       "    30% {\n",
       "      border-color: transparent;\n",
       "      border-left-color: var(--fill-color);\n",
       "      border-top-color: var(--fill-color);\n",
       "      border-right-color: var(--fill-color);\n",
       "    }\n",
       "    40% {\n",
       "      border-color: transparent;\n",
       "      border-right-color: var(--fill-color);\n",
       "      border-top-color: var(--fill-color);\n",
       "    }\n",
       "    60% {\n",
       "      border-color: transparent;\n",
       "      border-right-color: var(--fill-color);\n",
       "    }\n",
       "    80% {\n",
       "      border-color: transparent;\n",
       "      border-right-color: var(--fill-color);\n",
       "      border-bottom-color: var(--fill-color);\n",
       "    }\n",
       "    90% {\n",
       "      border-color: transparent;\n",
       "      border-bottom-color: var(--fill-color);\n",
       "    }\n",
       "  }\n",
       "</style>\n",
       "\n",
       "  <script>\n",
       "    async function quickchart(key) {\n",
       "      const quickchartButtonEl =\n",
       "        document.querySelector('#' + key + ' button');\n",
       "      quickchartButtonEl.disabled = true;  // To prevent multiple clicks.\n",
       "      quickchartButtonEl.classList.add('colab-df-spinner');\n",
       "      try {\n",
       "        const charts = await google.colab.kernel.invokeFunction(\n",
       "            'suggestCharts', [key], {});\n",
       "      } catch (error) {\n",
       "        console.error('Error during call to suggestCharts:', error);\n",
       "      }\n",
       "      quickchartButtonEl.classList.remove('colab-df-spinner');\n",
       "      quickchartButtonEl.classList.add('colab-df-quickchart-complete');\n",
       "    }\n",
       "    (() => {\n",
       "      let quickchartButtonEl =\n",
       "        document.querySelector('#df-138cba96-f324-4540-ae2b-63118db96fa8 button');\n",
       "      quickchartButtonEl.style.display =\n",
       "        google.colab.kernel.accessAllowed ? 'block' : 'none';\n",
       "    })();\n",
       "  </script>\n",
       "</div>\n",
       "\n",
       "    </div>\n",
       "  </div>\n"
      ],
      "text/plain": [
       "                                                                                                                                                                                                                                                                                                                                                                                                                                                                                                                  text\n",
       "0                                                                                                                                                                                                                                                                                                                                                                                                                                                                              Great, just as expected.  Thank to all.\n",
       "1  I've been thinking about trying the Nanoweb strings for a while, but I was a bit put off by the high price (they cost about twice as much as the uncharted strings I've been buying)  and the comments of some reviewers that the tone of coated strings is noticeably duller. I was intrigued by the promise of long life, though; I have a Taylor Big Baby that I bought used, and which came with a set of Nanowebs that had probably been on it for a year- and they didn't sound at all like old strings. T...\n",
       "2  I have tried coated strings in the past ( including Elixirs) and have never been very fond of them. Whenever I tried them I felt a certain disconnect from my guitar. Somewhat reminiscent of wearing condom. Not that I hated them, just didn't really love them. These are the best ones I've tried so far. I still don't like them as much as regular strings but because of the type of gigs I mostly do these seem to be a reasonable trade off. If you need a longer lasting string for whatever the reaso...\n",
       "3  Well, MADE by Elixir and DEVELOPED with Taylor Guitars ... these strings were designed for the new 800 (Rosewood) series guitars that came out this year (2014) ... the promise is a &#34;bolder high end, fuller low end&#34; ... I am a long-time Taylor owner and favor their 800 series (Rosewood/Spruce is my favorite combo in tone woods) ... I have almost always used Elixir Nanoweb Phosphor Bronze lights on my guitars ... I like not only the tone but the feel and longevity of these strings ... ...\n",
       "4  These strings are really quite good, but I wouldn't call them perfect.  The unwound strings are not quite as bright as I am accustomed to, but they still ring nicely.  This is the only complaint I have about these strings.  If the unwound strings were a tiny bit brighter, these would be 5-star strings.  As it stands, I give them 4.5 stars... not a big knock, actually.The low-end on the wound strings is very nice and quite warm.  I put these on a jumbo and it definitely accentuates the &#34;j..."
      ]
     },
     "execution_count": 6,
     "metadata": {},
     "output_type": "execute_result"
    }
   ],
   "source": [
    "def fetch_dataset(url, file_path=None):\n",
    "    # Set the default file path based on the URL if none is provided\n",
    "    if not file_path:\n",
    "        file_path = os.path.join(\"data\", os.path.basename(url))\n",
    "\n",
    "    # Create the directory if it does not exist\n",
    "    os.makedirs(os.path.dirname(file_path), exist_ok=True)\n",
    "\n",
    "    # Download the file\n",
    "    urllib.request.urlretrieve(url, file_path)\n",
    "    print(f\"Dataset downloaded and saved as {file_path}\")\n",
    "\n",
    "    # Load and process the dataset based on URL content\n",
    "    if \"imdb_top_1000.csv\" in url:\n",
    "        df = pd.read_csv(file_path)\n",
    "        df['text'] = df['Series_Title'].astype(str) + \": \" + df['Overview'].astype(str)\n",
    "        df = df[['text']]\n",
    "    elif \"ag_news\" in url:\n",
    "        df = pd.read_csv(file_path, header=None, names=[\"label\", \"title\", \"description\"])\n",
    "        df['text'] = df['title'].astype(str) + \": \" + df['description'].astype(str)\n",
    "        df = df[['text']]\n",
    "    elif \"reviews_Musical_Instruments_5.json.gz\" in url:\n",
    "        df = pd.read_json(file_path, compression='gzip', lines=True)\n",
    "        df.rename({'reviewText': 'text'}, axis=1, inplace=True)\n",
    "        df = df[['text']]\n",
    "    else:\n",
    "        raise ValueError(\"URL does not match any known dataset format.\")\n",
    "\n",
    "    return df.tail(5).reset_index(drop=True)\n",
    "\n",
    "df = fetch_dataset(url=url, file_path=None)\n",
    "df.head()"
   ]
  },
  {
   "cell_type": "markdown",
   "id": "ehGwA0XRA87y",
   "metadata": {
    "id": "ehGwA0XRA87y"
   },
   "source": [
    "Now that you have an idea of what the original text looks like, we can move forward with defining the tasks to perform."
   ]
  },
  {
   "cell_type": "markdown",
   "id": "w-Lux3oUjfYI",
   "metadata": {
    "id": "w-Lux3oUjfYI"
   },
   "source": [
    "## Define the tasks"
   ]
  },
  {
   "cell_type": "markdown",
   "id": "zjm-ST7dkHKm",
   "metadata": {
    "id": "zjm-ST7dkHKm"
   },
   "source": [
    "In this section, we’ve predefined five tasks for the model to execute based on common customer use cases:\n",
    "1.\tSentiment Analysis\n",
    "2.\tTranslation\n",
    "3.\tSummarization\n",
    "4.\tTopic Classification\n",
    "5.\tKeyword Extraction\n",
    "\n",
    "If you’re happy with these tasks, you can simply run the code as-is. However, if you’d like to customize the tasks, then feel free to modify the prompts (or add new ones) to make personal requests."
   ]
  },
  {
   "cell_type": "code",
   "execution_count": 7,
   "id": "c8838ccb-c29b-477d-b15f-a95741aa528f",
   "metadata": {
    "executionInfo": {
     "elapsed": 4,
     "status": "ok",
     "timestamp": 1732042289630,
     "user": {
      "displayName": "Joaquin Rodríguez",
      "userId": "09993043682054067997"
     },
     "user_tz": 180
    },
    "id": "c8838ccb-c29b-477d-b15f-a95741aa528f"
   },
   "outputs": [],
   "source": [
    "SYSTEM_PROMPTS = {\n",
    "    'sentiment': '''\n",
    "    Analyze the sentiment of the given text. Provide only a JSON object with the following structure:\n",
    "    {\n",
    "        \"sentiment\": string, // \"positive\", \"negative\", or \"neutral\"\n",
    "        \"confidence\": float, // A value between 0 and 1 indicating your confidence in the sentiment analysis\n",
    "    }\n",
    "    ''',\n",
    "\n",
    "    'translation': '''\n",
    "    Translate the given text from English to Spanish, paraphrase, rewrite or perform cultural adaptations for the text to make sense in Spanish. Provide only a JSON object with the following structure:\n",
    "    {\n",
    "        \"translation\": string, // The Spanish translation\n",
    "        \"notes\": string // Any notes about the translation, such as cultural adaptations or challenging phrases (max 500 words). Write this mainly in english.\n",
    "    }\n",
    "    ''',\n",
    "\n",
    "    'summary': '''\n",
    "    Summarize the main points of the given text. Provide only a JSON object with the following structure:\n",
    "    {\n",
    "        \"summary\": string, // A concise summary of the text (max 100 words)\n",
    "    }\n",
    "    ''',\n",
    "\n",
    "    'topic_classification': '''\n",
    "    Classify the main topic of the given text based on the following categories: \"politics\", \"sports\", \"technology\", \"science\", \"business\", \"entertainment\", \"health\", \"other\". Provide only a JSON object with the following structure:\n",
    "    {\n",
    "        \"category\": string, // The primary category of the provided text\n",
    "        \"confidence\": float, // A value between 0 and 1 indicating confidence in the classification\n",
    "    }\n",
    "    ''',\n",
    "\n",
    "    'keyword_extraction': '''\n",
    "    Extract relevant keywords from the given text. Provide only a JSON object with the following structure:\n",
    "    {\n",
    "        \"keywords\": string[], // An array of up to 5 keywords that best represent the text content\n",
    "        \"context\": string // Briefly explain how each keyword is relevant to the text (max 200 words)\n",
    "    }\n",
    "    '''\n",
    "}"
   ]
  },
  {
   "cell_type": "markdown",
   "id": "OyGuHllZllct",
   "metadata": {
    "id": "OyGuHllZllct"
   },
   "source": [
    "## Batch Predictions"
   ]
  },
  {
   "cell_type": "markdown",
   "id": "6-MZlfXAoiNv",
   "metadata": {
    "id": "6-MZlfXAoiNv"
   },
   "source": [
    "Now we’re diving into the main event of this notebook: running batch predictions! This is the core purpose of the tool, and it’s where the magic happens.\n",
    "\n",
    "To execute the batch predictions, we’ll follow two simple steps:\n",
    "1.\t**Create the Batch File:** We’ll generate a file containing a collection of tasks (the ones defined earlier) to be processed by the model.\n",
    "2.\t**Upload the Batch File:** Once the batch file is ready, we’ll upload it to the kluster.ai platform using the API, where the tasks will be executed.\n",
    "\n",
    "Everything is set up for you – just run the cells below to watch it all come together!"
   ]
  },
  {
   "cell_type": "markdown",
   "id": "Ew-R24Ltp5EW",
   "metadata": {
    "id": "Ew-R24Ltp5EW"
   },
   "source": [
    "### Create the Batch File"
   ]
  },
  {
   "cell_type": "markdown",
   "id": "qS4JXT52wGJ-",
   "metadata": {
    "id": "qS4JXT52wGJ-"
   },
   "source": [
    "This example selects the \"klusterai/Meta-Llama-3.1-405B-Instruct-Turbo\" model. If you'd like to use a different model feel free to change the model's name in the following cell. Please refer to our [documentation](https://docs.kluster.ai/getting-started/#list-supported-models) for a list of the models we support."
   ]
  },
  {
   "cell_type": "code",
   "execution_count": 8,
   "id": "fVtwyqZ_nEq7",
   "metadata": {
    "executionInfo": {
     "elapsed": 4,
     "status": "ok",
     "timestamp": 1732042289630,
     "user": {
      "displayName": "Joaquin Rodríguez",
      "userId": "09993043682054067997"
     },
     "user_tz": 180
    },
    "id": "fVtwyqZ_nEq7"
   },
   "outputs": [],
   "source": [
    "def create_tasks(df, task_type, system_prompt):\n",
    "    tasks = []\n",
    "    for index, row in df.iterrows():\n",
    "        content = row['text']\n",
    "        if task_type == 'script':\n",
    "            content = f\"Title: {row['Series_Title']}\\n\\nDescription: {content}\"\n",
    "\n",
    "        task = {\n",
    "            \"custom_id\": f\"{task_type}-{index}\",\n",
    "            \"method\": \"POST\",\n",
    "            \"url\": \"/v1/chat/completions\",\n",
    "            \"body\": {\n",
    "                \"model\": \"klusterai/Meta-Llama-3.1-405B-Instruct-Turbo\",\n",
    "                \"temperature\": 0.5,\n",
    "                \"messages\": [\n",
    "                    {\"role\": \"system\", \"content\": system_prompt},\n",
    "                    {\"role\": \"user\", \"content\": content}\n",
    "                ],\n",
    "            }\n",
    "        }\n",
    "        tasks.append(task)\n",
    "    return tasks\n",
    "\n",
    "def save_tasks(tasks, task_type):\n",
    "    filename = f\"data/batch_tasks_{task_type}.jsonl\"\n",
    "    with open(filename, 'w') as file:\n",
    "        for task in tasks:\n",
    "            file.write(json.dumps(task) + '\\n')\n",
    "    return filename"
   ]
  },
  {
   "cell_type": "code",
   "execution_count": 9,
   "id": "qNhmrmHdnp7g",
   "metadata": {
    "executionInfo": {
     "elapsed": 3,
     "status": "ok",
     "timestamp": 1732042289630,
     "user": {
      "displayName": "Joaquin Rodríguez",
      "userId": "09993043682054067997"
     },
     "user_tz": 180
    },
    "id": "qNhmrmHdnp7g"
   },
   "outputs": [],
   "source": [
    "tasks = []\n",
    "\n",
    "for task_type, system_prompt in SYSTEM_PROMPTS.items():\n",
    "    task_list = create_tasks(df, task_type, system_prompt)\n",
    "    filename = save_tasks(task_list, task_type)\n",
    "    tasks.append((task_type, filename))"
   ]
  },
  {
   "cell_type": "markdown",
   "id": "xArKu7-sqSiR",
   "metadata": {
    "id": "xArKu7-sqSiR"
   },
   "source": [
    "### Upload Batch File to kluster.ai"
   ]
  },
  {
   "cell_type": "code",
   "execution_count": 10,
   "id": "l5eu5UyAnEtk",
   "metadata": {
    "executionInfo": {
     "elapsed": 3,
     "status": "ok",
     "timestamp": 1732042289630,
     "user": {
      "displayName": "Joaquin Rodríguez",
      "userId": "09993043682054067997"
     },
     "user_tz": 180
    },
    "id": "l5eu5UyAnEtk"
   },
   "outputs": [],
   "source": [
    "def create_batch_job(file_name):\n",
    "    print(f\"Creating batch job for {file_name}\")\n",
    "    batch_file = client.files.create(\n",
    "        file=open(file_name, \"rb\"),\n",
    "        purpose=\"batch\"\n",
    "    )\n",
    "\n",
    "    batch_job = client.batches.create(\n",
    "        input_file_id=batch_file.id,\n",
    "        endpoint=\"/v1/chat/completions\",\n",
    "        completion_window=\"24h\"\n",
    "    )\n",
    "\n",
    "    return batch_job"
   ]
  },
  {
   "cell_type": "code",
   "execution_count": 11,
   "id": "jwzlrHCTp2LO",
   "metadata": {
    "colab": {
     "base_uri": "https://localhost:8080/"
    },
    "executionInfo": {
     "elapsed": 2205,
     "status": "ok",
     "timestamp": 1732042291832,
     "user": {
      "displayName": "Joaquin Rodríguez",
      "userId": "09993043682054067997"
     },
     "user_tz": 180
    },
    "id": "jwzlrHCTp2LO",
    "outputId": "c7cc4c37-92ce-4d63-a202-ea187a5bf0f2"
   },
   "outputs": [
    {
     "name": "stdout",
     "output_type": "stream",
     "text": [
      "Creating batch job for data/batch_tasks_sentiment.jsonl\n",
      "Creating batch job for data/batch_tasks_translation.jsonl\n",
      "Creating batch job for data/batch_tasks_summary.jsonl\n",
      "Creating batch job for data/batch_tasks_topic_classification.jsonl\n",
      "Creating batch job for data/batch_tasks_keyword_extraction.jsonl\n"
     ]
    }
   ],
   "source": [
    "batch_jobs = []\n",
    "\n",
    "for task_type, file_name in tasks:\n",
    "    job = create_batch_job(file_name)\n",
    "    batch_jobs.append((f\"{task_type}\", job))"
   ]
  },
  {
   "cell_type": "markdown",
   "id": "e-ujphILqepu",
   "metadata": {
    "id": "e-ujphILqepu"
   },
   "source": [
    "### Check Job progress"
   ]
  },
  {
   "cell_type": "markdown",
   "id": "iFrDrriQqizC",
   "metadata": {
    "id": "iFrDrriQqizC"
   },
   "source": [
    "The batch jobs have been created, and all tasks are now being processed! In the following section, we’ll monitor the status of each job to see how they’re progressing. Let’s take a look and keep track of their completion.\n",
    "\n",
    "**REMEMBER:** The time to complete a batch inference job can take up to 24 hours. Although, it typically completes in much less time."
   ]
  },
  {
   "cell_type": "code",
   "execution_count": 12,
   "id": "SuH0CfoqjP3d",
   "metadata": {
    "colab": {
     "base_uri": "https://localhost:8080/",
     "height": 0
    },
    "executionInfo": {
     "elapsed": 137368,
     "status": "ok",
     "timestamp": 1732042429198,
     "user": {
      "displayName": "Joaquin Rodríguez",
      "userId": "09993043682054067997"
     },
     "user_tz": 180
    },
    "id": "SuH0CfoqjP3d",
    "outputId": "a51535cc-15ba-453e-ed31-cd84cfbd67f1"
   },
   "outputs": [
    {
     "data": {
      "application/vnd.google.colaboratory.intrinsic+json": {
       "type": "string"
      },
      "text/plain": [
       "'Sentiment job completed!'"
      ]
     },
     "metadata": {},
     "output_type": "display_data"
    },
    {
     "data": {
      "application/vnd.google.colaboratory.intrinsic+json": {
       "type": "string"
      },
      "text/plain": [
       "'Translation job completed!'"
      ]
     },
     "metadata": {},
     "output_type": "display_data"
    },
    {
     "data": {
      "application/vnd.google.colaboratory.intrinsic+json": {
       "type": "string"
      },
      "text/plain": [
       "'Summary job completed!'"
      ]
     },
     "metadata": {},
     "output_type": "display_data"
    },
    {
     "data": {
      "application/vnd.google.colaboratory.intrinsic+json": {
       "type": "string"
      },
      "text/plain": [
       "'Topic_classification job completed!'"
      ]
     },
     "metadata": {},
     "output_type": "display_data"
    },
    {
     "data": {
      "application/vnd.google.colaboratory.intrinsic+json": {
       "type": "string"
      },
      "text/plain": [
       "'Keyword_extraction job completed!'"
      ]
     },
     "metadata": {},
     "output_type": "display_data"
    }
   ],
   "source": [
    "def parse_json_objects(data_string):\n",
    "    if isinstance(data_string, bytes):\n",
    "        data_string = data_string.decode('utf-8')\n",
    "\n",
    "    json_strings = data_string.strip().split('\\n')\n",
    "    json_objects = []\n",
    "\n",
    "    for json_str in json_strings:\n",
    "        try:\n",
    "            json_obj = json.loads(json_str)\n",
    "            json_objects.append(json_obj)\n",
    "        except json.JSONDecodeError as e:\n",
    "            print(f\"Error parsing JSON: {e}\")\n",
    "\n",
    "    return json_objects\n",
    "\n",
    "all_completed = False\n",
    "while not all_completed:\n",
    "    all_completed = True\n",
    "    output_lines = []\n",
    "\n",
    "    for i, (job_type, job) in enumerate(batch_jobs):\n",
    "        updated_job = client.batches.retrieve(job.id)\n",
    "        batch_jobs[i] = (job_type, updated_job)\n",
    "\n",
    "        if updated_job.status != \"Completed\":\n",
    "            all_completed = False\n",
    "            completed = updated_job.request_counts.completed\n",
    "            total = updated_job.request_counts.total\n",
    "            output_lines.append(f\"{job_type.capitalize()} job status: {updated_job.status} - Progress: {completed}/{total}\")\n",
    "        else:\n",
    "            output_lines.append(f\"{job_type.capitalize()} job completed!\")\n",
    "\n",
    "    # Clear the output and display updated status\n",
    "    clear_output(wait=True)\n",
    "    for line in output_lines:\n",
    "        display(line)\n",
    "\n",
    "    if not all_completed:\n",
    "        time.sleep(10)"
   ]
  },
  {
   "cell_type": "markdown",
   "id": "TkkhIG9HU0D9",
   "metadata": {
    "id": "TkkhIG9HU0D9"
   },
   "source": [
    "## Get the results"
   ]
  },
  {
   "cell_type": "code",
   "execution_count": 13,
   "id": "caA5djbLrJ4O",
   "metadata": {
    "colab": {
     "base_uri": "https://localhost:8080/"
    },
    "executionInfo": {
     "elapsed": 902,
     "status": "ok",
     "timestamp": 1732042430093,
     "user": {
      "displayName": "Joaquin Rodríguez",
      "userId": "09993043682054067997"
     },
     "user_tz": 180
    },
    "id": "caA5djbLrJ4O",
    "outputId": "55c8be3a-4fac-48cd-8ce7-d783f0d30ede"
   },
   "outputs": [
    {
     "name": "stdout",
     "output_type": "stream",
     "text": [
      "\n",
      " -------------------------- \n",
      "\n",
      "Task ID: sentiment-0. \n",
      "\n",
      "TEXT: Great, just as expected.  Thank to all.\n",
      "\n",
      "RESULT: {\n",
      "        \"sentiment\": \"positive\",\n",
      "        \"confidence\": 0.9\n",
      "}\n",
      "\n",
      " -------------------------- \n",
      "\n",
      "Task ID: sentiment-1. \n",
      "\n",
      "TEXT: I've been thinking about trying the Nanoweb strings for a while, but I was a bit put off by the high price (they cost about twice as much as the uncharted strings I've been buying)  and the comments of some reviewers that the tone of coated strings is noticeably duller. I was intrigued by the promise of long life, though; I have a Taylor Big Baby that I bought used, and which came with a set of Nanowebs that had probably been on it for a year- and they didn't sound at all like old strings. This review set gave me a chance to finally see for myself how they sound when new.I'd just changed the strings on my 1970s Gibson Gospel a week ago, so I decided that would be my reference. The Nanowebs went on my 1970s Guild D-35. Both are well broken in, solid spruce top guitars. The Gospel is a bit brighter sounding, but I'm pretty familiar with the sound of both guitars. If they D-35 sounded dull, I'd notice.As I was unwrapping the Nanowebs I noticed that while they were labeled \"Light\" gauge, they had a 0.013\" E string- something you'd be more likely to find on a set of medium gauge strings. The B was a .017, compared to the .016 of the D'Addarios I usually play. The rest of the strings were there usual light gauges. Turns out that these are \"HD Light\" gauge, designed to have a slightly more tension and better articulation at the high end. The difference shouldn't be enough to require any truss rod adjustment so I went ahead and installed them on the D-35.So how do they sound? The unwound E and B don't sound different from any other plain steel string, of course. The E does feel a tiny bit stiffer, when I switch between the D-35 and the Gospel. Sound-wise, I'd say they sound like a good set that have been on a guitar for a day. I wouldn't call them dull by any stretch of the imagination. If I didn't know that they were coated strings I certainly wouldn't be able to tell from playing them. So they're good sounding strings, and they last a long time. That leaves the question of cost- are they worth twice the price of uncoated strings?Here's the way I see it: If you're a heavy strummer, or playing gigs every night, maybe not. You're probably breaking strings or losing them to metal fatigue long before they'd go dull from corrosion or contamination. But if you're a finger picker, or a light strummer, a coated string will probably save you a lot of money in the long run. And if you're a hobby player who keeps a guitar around the house, and picks it up once in a while to entertain friends or family, coated strings are probably an excellent choice. For myself, I'm going to leave these on the D-35 for as long as they still sound good. I'll update this review when I find out just how long they do last.Follow up: After playing these for a few days, I actually went out and bought a set in the same gauge for my Loar LH-350, an arch top guitar with a carved top that gets played more than any of my other guitars. They sound great on the Loar, and now I have two guitars to do a long term test on.\n",
      "\n",
      "RESULT: ```\n",
      "{\n",
      "    \"sentiment\": \"positive\",\n",
      "    \"confidence\": 0.85\n",
      "}\n",
      "```\n",
      "\n",
      " -------------------------- \n",
      "\n",
      "Task ID: sentiment-2. \n",
      "\n",
      "TEXT: I have tried coated strings in the past ( including Elixirs) and have never been very fond of them. Whenever I tried them I felt a certain disconnect from my guitar. Somewhat reminiscent of wearing condom. Not that I hated them, just didn't really love them. These are the best ones I've tried so far. I still don't like them as much as regular strings but because of the type of gigs I mostly do these seem to be a reasonable trade off. If you need a longer lasting string for whatever the reason these are really the best out there. After a dozen or so gigs with them, they still sound the same as when I put them on.\n",
      "\n",
      "RESULT: ```\n",
      "{\n",
      "    \"sentiment\": \"neutral\",\n",
      "    \"confidence\": 0.8\n",
      "}\n",
      "```\n",
      "\n",
      " -------------------------- \n",
      "\n",
      "Task ID: sentiment-3. \n",
      "\n",
      "TEXT: Well, MADE by Elixir and DEVELOPED with Taylor Guitars ... these strings were designed for the new 800 (Rosewood) series guitars that came out this year (2014) ... the promise is a &#34;bolder high end, fuller low end&#34; ... I am a long-time Taylor owner and favor their 800 series (Rosewood/Spruce is my favorite combo in tone woods) ... I have almost always used Elixir Nanoweb Phosphor Bronze lights on my guitars ... I like not only the tone but the feel and longevity of these strings ... I have never had any issues with Elixir Nanowebs ... I recently picked up an 812ce First Edition 12-Fret ... such a fine instrument and it came with the Elixir HD's ... took some getting used to as far as feel (due to the slightly higher gauges of the treble strings - E, B & G) ... but as far as sound, they are great ... the D, A & low E strings are no different from the regular Elixir PB Lights so I am not sure about the claim of &#34;fuller low end&#34; ... compared to what?  Unless the extra string tension of the treble strings also contributes to a little more bass response ... I am not sure how these strings will perform on guitars other than Taylor's but what anyone should notice is more volume and clarity from the treble strings ... that is what I notice most from the HD's compared to the regular ... I still find no fault with the regular Elixir Nanaweb PB's but will most likely continue to run the HD's on my 12-fret ... I may also try them on my older 814ce just to see if there is any difference/improvement ... so far I find the set well balanced with good clarity and sustain ... try them out and make your own decision ...\n",
      "\n",
      "RESULT: {\n",
      "    \"sentiment\": \"positive\",\n",
      "    \"confidence\": 0.85\n",
      "}\n",
      "\n",
      " -------------------------- \n",
      "\n",
      "Task ID: sentiment-4. \n",
      "\n",
      "TEXT: These strings are really quite good, but I wouldn't call them perfect.  The unwound strings are not quite as bright as I am accustomed to, but they still ring nicely.  This is the only complaint I have about these strings.  If the unwound strings were a tiny bit brighter, these would be 5-star strings.  As it stands, I give them 4.5 stars... not a big knock, actually.The low-end on the wound strings is very nice and quite warm.  I put these on a jumbo and it definitely accentuates the &#34;jumbo&#34; aspect of my acoustic.  The sound is very big, full, and nice.Definitely a recommended product!4.5/5 stars\n",
      "\n",
      "RESULT: ```\n",
      "{\n",
      "    \"sentiment\": \"positive\",\n",
      "    \"confidence\": 0.9\n",
      "}\n",
      "```\n",
      "\n",
      " -------------------------- \n",
      "\n",
      "Task ID: translation-0. \n",
      "\n",
      "TEXT: Great, just as expected.  Thank to all.\n",
      "\n",
      "RESULT: ```\n",
      "{\n",
      "    \"translation\": \"Excelente, tal como se esperaba. Gracias a todos.\",\n",
      "    \"notes\": \"The translation is a direct and straightforward conversion from English to Spanish. The phrase 'Great, just as expected' is translated to 'Excelente, tal como se esperaba', maintaining the same level of enthusiasm and affirmation. 'Thank to all' is translated to 'Gracias a todos', which is a polite expression of gratitude towards a group of people.\"\n",
      "}\n",
      "```\n",
      "\n",
      " -------------------------- \n",
      "\n",
      "Task ID: translation-1. \n",
      "\n",
      "TEXT: I've been thinking about trying the Nanoweb strings for a while, but I was a bit put off by the high price (they cost about twice as much as the uncharted strings I've been buying)  and the comments of some reviewers that the tone of coated strings is noticeably duller. I was intrigued by the promise of long life, though; I have a Taylor Big Baby that I bought used, and which came with a set of Nanowebs that had probably been on it for a year- and they didn't sound at all like old strings. This review set gave me a chance to finally see for myself how they sound when new.I'd just changed the strings on my 1970s Gibson Gospel a week ago, so I decided that would be my reference. The Nanowebs went on my 1970s Guild D-35. Both are well broken in, solid spruce top guitars. The Gospel is a bit brighter sounding, but I'm pretty familiar with the sound of both guitars. If they D-35 sounded dull, I'd notice.As I was unwrapping the Nanowebs I noticed that while they were labeled \"Light\" gauge, they had a 0.013\" E string- something you'd be more likely to find on a set of medium gauge strings. The B was a .017, compared to the .016 of the D'Addarios I usually play. The rest of the strings were there usual light gauges. Turns out that these are \"HD Light\" gauge, designed to have a slightly more tension and better articulation at the high end. The difference shouldn't be enough to require any truss rod adjustment so I went ahead and installed them on the D-35.So how do they sound? The unwound E and B don't sound different from any other plain steel string, of course. The E does feel a tiny bit stiffer, when I switch between the D-35 and the Gospel. Sound-wise, I'd say they sound like a good set that have been on a guitar for a day. I wouldn't call them dull by any stretch of the imagination. If I didn't know that they were coated strings I certainly wouldn't be able to tell from playing them. So they're good sounding strings, and they last a long time. That leaves the question of cost- are they worth twice the price of uncoated strings?Here's the way I see it: If you're a heavy strummer, or playing gigs every night, maybe not. You're probably breaking strings or losing them to metal fatigue long before they'd go dull from corrosion or contamination. But if you're a finger picker, or a light strummer, a coated string will probably save you a lot of money in the long run. And if you're a hobby player who keeps a guitar around the house, and picks it up once in a while to entertain friends or family, coated strings are probably an excellent choice. For myself, I'm going to leave these on the D-35 for as long as they still sound good. I'll update this review when I find out just how long they do last.Follow up: After playing these for a few days, I actually went out and bought a set in the same gauge for my Loar LH-350, an arch top guitar with a carved top that gets played more than any of my other guitars. They sound great on the Loar, and now I have two guitars to do a long term test on.\n",
      "\n",
      "RESULT: {\n",
      "    \"translation\": \"He estado pensando en probar las cuerdas Nanoweb durante un tiempo, pero me echó para atrás el alto precio (cuestan aproximadamente el doble que las cuerdas sin recubrimiento que he estado comprando) y los comentarios de algunos revisores de que el tono de las cuerdas recubiertas es notablemente más apagado. Sin embargo, me intrigó la promesa de larga vida útil; tengo una Taylor Big Baby que compré usada y que vino con un juego de Nanowebs que probablemente habían estado en ella durante un año, y no sonaban en absoluto como cuerdas viejas. Esta oportunidad de revisión me permitió finalmente ver por mí mismo cómo sonaban cuando eran nuevas. \n",
      "\n",
      "Había cambiado las cuerdas de mi Gibson Gospel de los años 70 una semana antes, así que decidí que esa sería mi referencia. Las Nanowebs se fueron a mi Guild D-35 de los años 70. Ambas son guitarras con tapa de abeto sólido bien curtidas. El Gospel tiene un sonido un poco más brillante, pero estoy bastante familiarizado con el sonido de ambas guitarras. Si el D-35 sonaba apagado, lo notaría.\n",
      "\n",
      "Mientras desenvolvía las Nanowebs, noté que aunque estaban etiquetadas como \"Light\" (ligero), tenían una cuerda E de 0,013\", algo que encontrarías más probablemente en un juego de cuerdas de calibre medio. La B era un 0,017, en comparación con el 0,016 de las D'Addarios que suelo tocar. El resto de las cuerdas tenían los calibres ligeros habituales. Resulta que estas son \"HD Light\" (ligero de alta definición), diseñadas para tener un poco más de tensión y mejor articulación en el extremo agudo. La diferencia no debería ser lo suficiente para requerir ningún ajuste de la barra de tracción, así que las instalé en el D-35.\n",
      "\n",
      "¿Cómo sonan? La cuerda E sin recubrimiento y la B no sonan diferentes a cualquier otra cuerda de acero lisa, por supuesto. La E se siente un poco más rígida cuando cambio entre el D-35 y el Gospel. En cuanto al sonido, diría que son como un buen juego que ha estado en una guitarra durante un día. No las llamaría apagadas en absoluto. Si no supiera que eran cuerdas recubiertas, ciertamente no podría decirlo tocándolas. Así que son cuerdas de buen sonido y duran mucho tiempo. Eso deja la cuestión del costo: ¿valen el doble del precio de las cuerdas sin recubrimiento?\n",
      "\n",
      "Así es como lo veo: si eres un guitarrista que toca con fuerza o tocas conciertos todas las noches, tal vez no. Probablemente estés rompiendo cuerdas o perdiéndolas por fatiga del metal mucho antes de que se vuelvan apagadas por corrosión o contaminación. Pero si eres un guitarrista que toca con los dedos o un guitarrista ligero, una cuerda recubierta probablemente te ahorrará mucho dinero a largo plazo. Y si eres un guitarrista aficionado que tiene una guitarra en casa y la toca de vez en cuando para entretener amigos o familiares, las cuerdas recubiertas son probablemente una excelente opción. Por mí mismo, voy a dejar estas cuerdas en el D-35 durante todo el tiempo que sigan sonando bien. Actualizaré esta revisión cuando descubra cuánto tiempo duran.\n",
      "\n",
      "Actualización: Después de tocar estas cuerdas durante unos días, en realidad salí y compré un juego en el mismo calibre para mi Loar LH-350, una guitarra de arco con tapa tallada que se toca más que cualquiera de mis otras guitarras. Sonaron genial en la Loar, y ahora tengo dos guitarras para hacer una prueba a largo plazo.\",\n",
      "    \"notes\": \"La traducción se ha realizado tratando de mantener el mismo tono y estilo que el texto original. Se han utilizado términos y expresiones comunes en el mundo de la música y la guitarra para que el texto sea comprensible para los lectores hispanohablantes. \n",
      "\n",
      "Se ha mantenido la estructura original del texto, con una introducción, una descripción de las cuerdas y su instalación, una evaluación del sonido y una conclusión. \n",
      "\n",
      "Se han utilizado algunas expresiones idiomáticas y coloquiales para darle un toque más personal y conversacional al texto. \n",
      "\n",
      "En cuanto a la adaptación cultural, se ha tenido en cuenta que el texto original está escrito en un contexto cultural específico (el mundo de la música y la guitarra en Estados Unidos) y se ha tratado de adaptarlo a un contexto cultural más amplio y general. \n",
      "\n",
      "No se han encontrado problemas significativos en la traducción, aunque se ha tenido que buscar algunas expresiones y términos equivalentes en español para mantener la precisión y la claridad del texto original.\"\n",
      "}\n",
      "\n",
      " -------------------------- \n",
      "\n",
      "Task ID: translation-2. \n",
      "\n",
      "TEXT: I have tried coated strings in the past ( including Elixirs) and have never been very fond of them. Whenever I tried them I felt a certain disconnect from my guitar. Somewhat reminiscent of wearing condom. Not that I hated them, just didn't really love them. These are the best ones I've tried so far. I still don't like them as much as regular strings but because of the type of gigs I mostly do these seem to be a reasonable trade off. If you need a longer lasting string for whatever the reason these are really the best out there. After a dozen or so gigs with them, they still sound the same as when I put them on.\n",
      "\n",
      "RESULT: {\n",
      "    \"translation\": \"He probado cuerdas recubiertas en el pasado (incluyendo Elixirs) y nunca me han gustado mucho. Siempre que las he probado, he sentido una desconexión con mi guitarra. Un poco similar a usar condón. No es que las detestara, simplemente no las amaba. Estas son las mejores que he probado hasta ahora. Aún no me gustan tanto como las cuerdas normales, pero debido al tipo de conciertos que hago, parecen ser un intercambio razonable. Si necesitas una cuerda que dure más por cualquier motivo, estas son realmente las mejores que hay. Después de una docena de conciertos con ellas, todavía suenan igual que cuando las puse.\",\n",
      "    \"notes\": \"The translation maintains the original text's informal tone and language. However, the comparison to wearing a condom might be perceived as more provocative in Spanish-speaking cultures. To mitigate this, the translation keeps the same phrase, but it's worth noting that this might not be suitable for all audiences. Additionally, the term 'gigs' is translated to 'conciertos', which is a more common term in Spanish for live music performances.\"\n",
      "}\n",
      "\n",
      " -------------------------- \n",
      "\n",
      "Task ID: translation-3. \n",
      "\n",
      "TEXT: Well, MADE by Elixir and DEVELOPED with Taylor Guitars ... these strings were designed for the new 800 (Rosewood) series guitars that came out this year (2014) ... the promise is a &#34;bolder high end, fuller low end&#34; ... I am a long-time Taylor owner and favor their 800 series (Rosewood/Spruce is my favorite combo in tone woods) ... I have almost always used Elixir Nanoweb Phosphor Bronze lights on my guitars ... I like not only the tone but the feel and longevity of these strings ... I have never had any issues with Elixir Nanowebs ... I recently picked up an 812ce First Edition 12-Fret ... such a fine instrument and it came with the Elixir HD's ... took some getting used to as far as feel (due to the slightly higher gauges of the treble strings - E, B & G) ... but as far as sound, they are great ... the D, A & low E strings are no different from the regular Elixir PB Lights so I am not sure about the claim of &#34;fuller low end&#34; ... compared to what?  Unless the extra string tension of the treble strings also contributes to a little more bass response ... I am not sure how these strings will perform on guitars other than Taylor's but what anyone should notice is more volume and clarity from the treble strings ... that is what I notice most from the HD's compared to the regular ... I still find no fault with the regular Elixir Nanaweb PB's but will most likely continue to run the HD's on my 12-fret ... I may also try them on my older 814ce just to see if there is any difference/improvement ... so far I find the set well balanced with good clarity and sustain ... try them out and make your own decision ...\n",
      "\n",
      "RESULT: {\n",
      "    \"translation\": \"Bueno, HECHOS por Elixir y DESARROLLADOS con Taylor Guitars... estas cuerdas fueron diseñadas para las nuevas guitarras de la serie 800 (de palo de rosa) que salieron este año (2014)... la promesa es un \\\"sonido agudo más intenso, graves más completos\\\"... soy un propietario de Taylor desde hace mucho tiempo y prefiero su serie 800 (la combinación de palo de rosa y abeto es mi favorita en cuanto a tipos de tonos)... casi siempre he utilizado las cuerdas Elixir Nanoweb Phosphor Bronze lights en mis guitarras... me gustan no solo el tono, sino también la sensación y la durabilidad de estas cuerdas... nunca he tenido problemas con las Elixir Nanowebs... recientemente adquirí una 812ce First Edition 12-Fret... un instrumento tan fino que vino con las Elixir HD... me llevó un poco de tiempo acostumbrarme en cuanto a la sensación (debido a los calibres ligeramente más altos de las cuerdas agudas - E, B y G)... pero en cuanto al sonido, son geniales... las cuerdas D, A y E graves no son diferentes a las Elixir PB Lights normales, así que no estoy seguro sobre la afirmación de \\\"graves más completos\\\"... ¿comparado con qué? A menos que la tensión adicional de las cuerdas agudas también contribuya a una respuesta de bajos un poco mayor... no estoy seguro de cómo estas cuerdas funcionarán en guitarras que no sean de Taylor, pero lo que cualquiera debería notar es un mayor volumen y claridad en las cuerdas agudas... eso es lo que más noto en las HD en comparación con las normales... todavía no encuentro defectos en las Elixir Nanaweb PB normales, pero probablemente seguiré utilizando las HD en mi 12-Fret... también puedo intentar utilizarlas en mi 814ce más vieja para ver si hay alguna diferencia/mejora... hasta ahora, encuentro que el conjunto está bien equilibrado con buena claridad y sustain... pruébalas y haz tu propia decisión...\",\n",
      "    \"notes\": \"The translation aimed to maintain the original text's tone and technical terms. Some minor adjustments were made to ensure the text flows naturally in Spanish. For example, 'MADE by Elixir' was translated to 'HECHOS por Elixir', using the verb 'hechos' (made) in the correct context. Additionally, the phrase 'I am not sure about the claim of \\\"fuller low end\\\"...' was translated to 'no estoy seguro sobre la afirmación de \\\"graves más completos\\\"...', maintaining the original meaning and skepticism. No significant cultural adaptations were necessary, as the text primarily deals with technical aspects of guitar strings and their performance.\"\n",
      "\n",
      " -------------------------- \n",
      "\n",
      "Task ID: translation-4. \n",
      "\n",
      "TEXT: These strings are really quite good, but I wouldn't call them perfect.  The unwound strings are not quite as bright as I am accustomed to, but they still ring nicely.  This is the only complaint I have about these strings.  If the unwound strings were a tiny bit brighter, these would be 5-star strings.  As it stands, I give them 4.5 stars... not a big knock, actually.The low-end on the wound strings is very nice and quite warm.  I put these on a jumbo and it definitely accentuates the &#34;jumbo&#34; aspect of my acoustic.  The sound is very big, full, and nice.Definitely a recommended product!4.5/5 stars\n",
      "\n",
      "RESULT: {\n",
      "    \"translation\": \"Estas cuerdas son realmente muy buenas, aunque no las llamaría perfectas. Las cuerdas sin enrollar no son tan brillantes como estoy acostumbrado, pero aún así suenan bien. Esta es mi única queja sobre estas cuerdas. Si las cuerdas sin enrollar fueran un poco más brillantes, serían cuerdas de 5 estrellas. En su estado actual, les doy 4,5 estrellas... no es un gran golpe, en realidad. El bajo en las cuerdas enrolladas es muy agradable y cálido. Las puse en un jumbo y definitivamente acentúa el aspecto 'jumbo' de mi acústico. El sonido es muy grande, completo y agradable. Definitivamente, un producto recomendado. 4,5/5 estrellas.\",\n",
      "    \"notes\": \"The translation was straightforward, with no major cultural adaptations required. However, it's worth noting that the term 'jumbo' in the context of acoustic guitars may not be immediately clear to non-musicians or non-native English speakers. In Spanish, the term 'jumbo' is often used to describe large or oversized objects, so the translation should be clear to most readers. Additionally, the use of the phrase 'no es un gran golpe' (not a big knock) is an idiomatic expression that may not be immediately clear to non-native Spanish speakers. An alternative translation could be 'no es un gran problema' (not a big problem) to convey the same meaning.\"\n",
      "}\n",
      "\n",
      " -------------------------- \n",
      "\n",
      "Task ID: summary-0. \n",
      "\n",
      "TEXT: Great, just as expected.  Thank to all.\n",
      "\n",
      "RESULT: {\n",
      "    \"summary\": \"The text does not provide any information to summarize.\"\n",
      "}\n",
      "\n",
      " -------------------------- \n",
      "\n",
      "Task ID: summary-1. \n",
      "\n",
      "TEXT: I've been thinking about trying the Nanoweb strings for a while, but I was a bit put off by the high price (they cost about twice as much as the uncharted strings I've been buying)  and the comments of some reviewers that the tone of coated strings is noticeably duller. I was intrigued by the promise of long life, though; I have a Taylor Big Baby that I bought used, and which came with a set of Nanowebs that had probably been on it for a year- and they didn't sound at all like old strings. This review set gave me a chance to finally see for myself how they sound when new.I'd just changed the strings on my 1970s Gibson Gospel a week ago, so I decided that would be my reference. The Nanowebs went on my 1970s Guild D-35. Both are well broken in, solid spruce top guitars. The Gospel is a bit brighter sounding, but I'm pretty familiar with the sound of both guitars. If they D-35 sounded dull, I'd notice.As I was unwrapping the Nanowebs I noticed that while they were labeled \"Light\" gauge, they had a 0.013\" E string- something you'd be more likely to find on a set of medium gauge strings. The B was a .017, compared to the .016 of the D'Addarios I usually play. The rest of the strings were there usual light gauges. Turns out that these are \"HD Light\" gauge, designed to have a slightly more tension and better articulation at the high end. The difference shouldn't be enough to require any truss rod adjustment so I went ahead and installed them on the D-35.So how do they sound? The unwound E and B don't sound different from any other plain steel string, of course. The E does feel a tiny bit stiffer, when I switch between the D-35 and the Gospel. Sound-wise, I'd say they sound like a good set that have been on a guitar for a day. I wouldn't call them dull by any stretch of the imagination. If I didn't know that they were coated strings I certainly wouldn't be able to tell from playing them. So they're good sounding strings, and they last a long time. That leaves the question of cost- are they worth twice the price of uncoated strings?Here's the way I see it: If you're a heavy strummer, or playing gigs every night, maybe not. You're probably breaking strings or losing them to metal fatigue long before they'd go dull from corrosion or contamination. But if you're a finger picker, or a light strummer, a coated string will probably save you a lot of money in the long run. And if you're a hobby player who keeps a guitar around the house, and picks it up once in a while to entertain friends or family, coated strings are probably an excellent choice. For myself, I'm going to leave these on the D-35 for as long as they still sound good. I'll update this review when I find out just how long they do last.Follow up: After playing these for a few days, I actually went out and bought a set in the same gauge for my Loar LH-350, an arch top guitar with a carved top that gets played more than any of my other guitars. They sound great on the Loar, and now I have two guitars to do a long term test on.\n",
      "\n",
      "RESULT: {\n",
      "    \"summary\": \"The reviewer purchased Elixir Nanoweb strings to test their tone and longevity. Despite initial concerns about the high price and potential dull tone, they found the strings to sound good and comparable to uncoated strings. The reviewer notes that the strings may be worth the extra cost for finger pickers or light strummers, but may not be suitable for heavy strummers. They plan to continue using the strings and update their review with long-term results.\"\n",
      "}\n",
      "\n",
      " -------------------------- \n",
      "\n",
      "Task ID: summary-2. \n",
      "\n",
      "TEXT: I have tried coated strings in the past ( including Elixirs) and have never been very fond of them. Whenever I tried them I felt a certain disconnect from my guitar. Somewhat reminiscent of wearing condom. Not that I hated them, just didn't really love them. These are the best ones I've tried so far. I still don't like them as much as regular strings but because of the type of gigs I mostly do these seem to be a reasonable trade off. If you need a longer lasting string for whatever the reason these are really the best out there. After a dozen or so gigs with them, they still sound the same as when I put them on.\n",
      "\n",
      "RESULT: {\n",
      "    \"summary\": \"The reviewer, not a fan of coated strings, found these to be the best they've tried. Despite not loving them as much as regular strings, they appreciate their durability and consistency, making them a reasonable trade-off for their gigging needs.\"\n",
      "}\n",
      "\n",
      " -------------------------- \n",
      "\n",
      "Task ID: summary-3. \n",
      "\n",
      "TEXT: Well, MADE by Elixir and DEVELOPED with Taylor Guitars ... these strings were designed for the new 800 (Rosewood) series guitars that came out this year (2014) ... the promise is a &#34;bolder high end, fuller low end&#34; ... I am a long-time Taylor owner and favor their 800 series (Rosewood/Spruce is my favorite combo in tone woods) ... I have almost always used Elixir Nanoweb Phosphor Bronze lights on my guitars ... I like not only the tone but the feel and longevity of these strings ... I have never had any issues with Elixir Nanowebs ... I recently picked up an 812ce First Edition 12-Fret ... such a fine instrument and it came with the Elixir HD's ... took some getting used to as far as feel (due to the slightly higher gauges of the treble strings - E, B & G) ... but as far as sound, they are great ... the D, A & low E strings are no different from the regular Elixir PB Lights so I am not sure about the claim of &#34;fuller low end&#34; ... compared to what?  Unless the extra string tension of the treble strings also contributes to a little more bass response ... I am not sure how these strings will perform on guitars other than Taylor's but what anyone should notice is more volume and clarity from the treble strings ... that is what I notice most from the HD's compared to the regular ... I still find no fault with the regular Elixir Nanaweb PB's but will most likely continue to run the HD's on my 12-fret ... I may also try them on my older 814ce just to see if there is any difference/improvement ... so far I find the set well balanced with good clarity and sustain ... try them out and make your own decision ...\n",
      "\n",
      "RESULT: {\n",
      "    \"summary\": \"The reviewer, a long-time Taylor guitar owner, tests the new Elixir HD strings designed for Taylor's 800 series. They notice a bolder high end and increased volume and clarity from the treble strings. However, they're unsure about the claim of a fuller low end, as the lower-pitched strings are similar to the regular Elixir PB Lights. The reviewer finds the HD strings well-balanced with good clarity and sustain, but suggests trying them out to make an individual decision.\"\n",
      "}\n",
      "\n",
      " -------------------------- \n",
      "\n",
      "Task ID: summary-4. \n",
      "\n",
      "TEXT: These strings are really quite good, but I wouldn't call them perfect.  The unwound strings are not quite as bright as I am accustomed to, but they still ring nicely.  This is the only complaint I have about these strings.  If the unwound strings were a tiny bit brighter, these would be 5-star strings.  As it stands, I give them 4.5 stars... not a big knock, actually.The low-end on the wound strings is very nice and quite warm.  I put these on a jumbo and it definitely accentuates the &#34;jumbo&#34; aspect of my acoustic.  The sound is very big, full, and nice.Definitely a recommended product!4.5/5 stars\n",
      "\n",
      "RESULT: {\n",
      "    \"summary\": \"The reviewer praises the strings for their warm low-end and big, full sound, particularly on a jumbo acoustic. However, they deduct a half-star due to the unwound strings being slightly less bright than expected, resulting in a 4.5-star rating.\"\n",
      "}\n",
      "\n",
      " -------------------------- \n",
      "\n",
      "Task ID: topic_classification-0. \n",
      "\n",
      "TEXT: Great, just as expected.  Thank to all.\n",
      "\n",
      "RESULT: {\n",
      "    \"category\": \"other\",\n",
      "    \"confidence\": 0.0\n",
      "}\n",
      "\n",
      " -------------------------- \n",
      "\n",
      "Task ID: topic_classification-1. \n",
      "\n",
      "TEXT: I've been thinking about trying the Nanoweb strings for a while, but I was a bit put off by the high price (they cost about twice as much as the uncharted strings I've been buying)  and the comments of some reviewers that the tone of coated strings is noticeably duller. I was intrigued by the promise of long life, though; I have a Taylor Big Baby that I bought used, and which came with a set of Nanowebs that had probably been on it for a year- and they didn't sound at all like old strings. This review set gave me a chance to finally see for myself how they sound when new.I'd just changed the strings on my 1970s Gibson Gospel a week ago, so I decided that would be my reference. The Nanowebs went on my 1970s Guild D-35. Both are well broken in, solid spruce top guitars. The Gospel is a bit brighter sounding, but I'm pretty familiar with the sound of both guitars. If they D-35 sounded dull, I'd notice.As I was unwrapping the Nanowebs I noticed that while they were labeled \"Light\" gauge, they had a 0.013\" E string- something you'd be more likely to find on a set of medium gauge strings. The B was a .017, compared to the .016 of the D'Addarios I usually play. The rest of the strings were there usual light gauges. Turns out that these are \"HD Light\" gauge, designed to have a slightly more tension and better articulation at the high end. The difference shouldn't be enough to require any truss rod adjustment so I went ahead and installed them on the D-35.So how do they sound? The unwound E and B don't sound different from any other plain steel string, of course. The E does feel a tiny bit stiffer, when I switch between the D-35 and the Gospel. Sound-wise, I'd say they sound like a good set that have been on a guitar for a day. I wouldn't call them dull by any stretch of the imagination. If I didn't know that they were coated strings I certainly wouldn't be able to tell from playing them. So they're good sounding strings, and they last a long time. That leaves the question of cost- are they worth twice the price of uncoated strings?Here's the way I see it: If you're a heavy strummer, or playing gigs every night, maybe not. You're probably breaking strings or losing them to metal fatigue long before they'd go dull from corrosion or contamination. But if you're a finger picker, or a light strummer, a coated string will probably save you a lot of money in the long run. And if you're a hobby player who keeps a guitar around the house, and picks it up once in a while to entertain friends or family, coated strings are probably an excellent choice. For myself, I'm going to leave these on the D-35 for as long as they still sound good. I'll update this review when I find out just how long they do last.Follow up: After playing these for a few days, I actually went out and bought a set in the same gauge for my Loar LH-350, an arch top guitar with a carved top that gets played more than any of my other guitars. They sound great on the Loar, and now I have two guitars to do a long term test on.\n",
      "\n",
      "RESULT: {\n",
      "    \"category\": \"entertainment\",\n",
      "    \"confidence\": 0.8\n",
      "}\n",
      "\n",
      " -------------------------- \n",
      "\n",
      "Task ID: topic_classification-2. \n",
      "\n",
      "TEXT: I have tried coated strings in the past ( including Elixirs) and have never been very fond of them. Whenever I tried them I felt a certain disconnect from my guitar. Somewhat reminiscent of wearing condom. Not that I hated them, just didn't really love them. These are the best ones I've tried so far. I still don't like them as much as regular strings but because of the type of gigs I mostly do these seem to be a reasonable trade off. If you need a longer lasting string for whatever the reason these are really the best out there. After a dozen or so gigs with them, they still sound the same as when I put them on.\n",
      "\n",
      "RESULT: ```\n",
      "{\n",
      "    \"category\": \"music\",\n",
      "    \"confidence\": 0.85\n",
      "}\n",
      "```\n",
      "\n",
      " -------------------------- \n",
      "\n",
      "Task ID: topic_classification-3. \n",
      "\n",
      "TEXT: Well, MADE by Elixir and DEVELOPED with Taylor Guitars ... these strings were designed for the new 800 (Rosewood) series guitars that came out this year (2014) ... the promise is a &#34;bolder high end, fuller low end&#34; ... I am a long-time Taylor owner and favor their 800 series (Rosewood/Spruce is my favorite combo in tone woods) ... I have almost always used Elixir Nanoweb Phosphor Bronze lights on my guitars ... I like not only the tone but the feel and longevity of these strings ... I have never had any issues with Elixir Nanowebs ... I recently picked up an 812ce First Edition 12-Fret ... such a fine instrument and it came with the Elixir HD's ... took some getting used to as far as feel (due to the slightly higher gauges of the treble strings - E, B & G) ... but as far as sound, they are great ... the D, A & low E strings are no different from the regular Elixir PB Lights so I am not sure about the claim of &#34;fuller low end&#34; ... compared to what?  Unless the extra string tension of the treble strings also contributes to a little more bass response ... I am not sure how these strings will perform on guitars other than Taylor's but what anyone should notice is more volume and clarity from the treble strings ... that is what I notice most from the HD's compared to the regular ... I still find no fault with the regular Elixir Nanaweb PB's but will most likely continue to run the HD's on my 12-fret ... I may also try them on my older 814ce just to see if there is any difference/improvement ... so far I find the set well balanced with good clarity and sustain ... try them out and make your own decision ...\n",
      "\n",
      "RESULT: ```\n",
      "{\n",
      "    \"category\": \"music\",\n",
      "    \"confidence\": 0.95\n",
      "}\n",
      "```\n",
      "\n",
      " -------------------------- \n",
      "\n",
      "Task ID: topic_classification-4. \n",
      "\n",
      "TEXT: These strings are really quite good, but I wouldn't call them perfect.  The unwound strings are not quite as bright as I am accustomed to, but they still ring nicely.  This is the only complaint I have about these strings.  If the unwound strings were a tiny bit brighter, these would be 5-star strings.  As it stands, I give them 4.5 stars... not a big knock, actually.The low-end on the wound strings is very nice and quite warm.  I put these on a jumbo and it definitely accentuates the &#34;jumbo&#34; aspect of my acoustic.  The sound is very big, full, and nice.Definitely a recommended product!4.5/5 stars\n",
      "\n",
      "RESULT: {\n",
      "    \"category\": \"entertainment\",\n",
      "    \"confidence\": 0.8\n",
      "}\n",
      "\n",
      " -------------------------- \n",
      "\n",
      "Task ID: keyword_extraction-0. \n",
      "\n",
      "TEXT: Great, just as expected.  Thank to all.\n",
      "\n",
      "RESULT: {\n",
      "    \"keywords\": [],\n",
      "    \"context\": \"There is no text content provided to extract keywords from.\"\n",
      "}\n",
      "\n",
      " -------------------------- \n",
      "\n",
      "Task ID: keyword_extraction-1. \n",
      "\n",
      "TEXT: I've been thinking about trying the Nanoweb strings for a while, but I was a bit put off by the high price (they cost about twice as much as the uncharted strings I've been buying)  and the comments of some reviewers that the tone of coated strings is noticeably duller. I was intrigued by the promise of long life, though; I have a Taylor Big Baby that I bought used, and which came with a set of Nanowebs that had probably been on it for a year- and they didn't sound at all like old strings. This review set gave me a chance to finally see for myself how they sound when new.I'd just changed the strings on my 1970s Gibson Gospel a week ago, so I decided that would be my reference. The Nanowebs went on my 1970s Guild D-35. Both are well broken in, solid spruce top guitars. The Gospel is a bit brighter sounding, but I'm pretty familiar with the sound of both guitars. If they D-35 sounded dull, I'd notice.As I was unwrapping the Nanowebs I noticed that while they were labeled \"Light\" gauge, they had a 0.013\" E string- something you'd be more likely to find on a set of medium gauge strings. The B was a .017, compared to the .016 of the D'Addarios I usually play. The rest of the strings were there usual light gauges. Turns out that these are \"HD Light\" gauge, designed to have a slightly more tension and better articulation at the high end. The difference shouldn't be enough to require any truss rod adjustment so I went ahead and installed them on the D-35.So how do they sound? The unwound E and B don't sound different from any other plain steel string, of course. The E does feel a tiny bit stiffer, when I switch between the D-35 and the Gospel. Sound-wise, I'd say they sound like a good set that have been on a guitar for a day. I wouldn't call them dull by any stretch of the imagination. If I didn't know that they were coated strings I certainly wouldn't be able to tell from playing them. So they're good sounding strings, and they last a long time. That leaves the question of cost- are they worth twice the price of uncoated strings?Here's the way I see it: If you're a heavy strummer, or playing gigs every night, maybe not. You're probably breaking strings or losing them to metal fatigue long before they'd go dull from corrosion or contamination. But if you're a finger picker, or a light strummer, a coated string will probably save you a lot of money in the long run. And if you're a hobby player who keeps a guitar around the house, and picks it up once in a while to entertain friends or family, coated strings are probably an excellent choice. For myself, I'm going to leave these on the D-35 for as long as they still sound good. I'll update this review when I find out just how long they do last.Follow up: After playing these for a few days, I actually went out and bought a set in the same gauge for my Loar LH-350, an arch top guitar with a carved top that gets played more than any of my other guitars. They sound great on the Loar, and now I have two guitars to do a long term test on.\n",
      "\n",
      "RESULT: ```\n",
      "{\n",
      "  \"keywords\": [\"Nanoweb strings\", \"coated strings\", \"guitar\", \"tone\", \"longevity\"],\n",
      "  \"context\": \"The text discusses the author's experience with Nanoweb strings, a type of coated string for guitars. The author compares the tone of these strings to uncoated strings and finds that they do not sound dull, as some reviewers had suggested. The text also touches on the longevity of the strings, with the author noting that they last a long time and may be a good choice for finger pickers or hobby players. The author also mentions the higher cost of the strings, but suggests that they may be worth it for certain types of players.\"\n",
      "}\n",
      "```\n",
      "\n",
      " -------------------------- \n",
      "\n",
      "Task ID: keyword_extraction-2. \n",
      "\n",
      "TEXT: I have tried coated strings in the past ( including Elixirs) and have never been very fond of them. Whenever I tried them I felt a certain disconnect from my guitar. Somewhat reminiscent of wearing condom. Not that I hated them, just didn't really love them. These are the best ones I've tried so far. I still don't like them as much as regular strings but because of the type of gigs I mostly do these seem to be a reasonable trade off. If you need a longer lasting string for whatever the reason these are really the best out there. After a dozen or so gigs with them, they still sound the same as when I put them on.\n",
      "\n",
      "RESULT: ```\n",
      "{\n",
      "    \"keywords\": [\"coated strings\", \"Elixirs\", \"guitar\", \"long-lasting\", \"gigs\"],\n",
      "    \"context\": \"The text discusses the author's experience with coated guitar strings, specifically mentioning Elixirs. They express a lukewarm sentiment towards coated strings but acknowledge the benefits of long-lasting strings for their gigs. The keywords represent the central theme of guitar strings and their performance in various settings.\"\n",
      "}\n",
      "```\n",
      "\n",
      " -------------------------- \n",
      "\n",
      "Task ID: keyword_extraction-3. \n",
      "\n",
      "TEXT: Well, MADE by Elixir and DEVELOPED with Taylor Guitars ... these strings were designed for the new 800 (Rosewood) series guitars that came out this year (2014) ... the promise is a &#34;bolder high end, fuller low end&#34; ... I am a long-time Taylor owner and favor their 800 series (Rosewood/Spruce is my favorite combo in tone woods) ... I have almost always used Elixir Nanoweb Phosphor Bronze lights on my guitars ... I like not only the tone but the feel and longevity of these strings ... I have never had any issues with Elixir Nanowebs ... I recently picked up an 812ce First Edition 12-Fret ... such a fine instrument and it came with the Elixir HD's ... took some getting used to as far as feel (due to the slightly higher gauges of the treble strings - E, B & G) ... but as far as sound, they are great ... the D, A & low E strings are no different from the regular Elixir PB Lights so I am not sure about the claim of &#34;fuller low end&#34; ... compared to what?  Unless the extra string tension of the treble strings also contributes to a little more bass response ... I am not sure how these strings will perform on guitars other than Taylor's but what anyone should notice is more volume and clarity from the treble strings ... that is what I notice most from the HD's compared to the regular ... I still find no fault with the regular Elixir Nanaweb PB's but will most likely continue to run the HD's on my 12-fret ... I may also try them on my older 814ce just to see if there is any difference/improvement ... so far I find the set well balanced with good clarity and sustain ... try them out and make your own decision ...\n",
      "\n",
      "RESULT: ```\n",
      "{\n",
      "    \"keywords\": [\"Elixir HD strings\", \"Taylor Guitars\", \"800 series\", \"Nanoweb Phosphor Bronze\", \"guitar strings\"],\n",
      "    \"context\": \"The text discusses Elixir HD strings, specifically designed for Taylor Guitars' 800 series. The reviewer, a long-time Taylor owner, compares the Elixir HD strings to the regular Elixir Nanoweb Phosphor Bronze strings, noting differences in feel and sound. They praise the HD strings for their clarity and sustain, particularly in the treble strings, but question the claim of a 'fuller low end'. The review is relevant to guitar enthusiasts, especially those interested in Taylor Guitars and Elixir strings.\"\n",
      "}\n",
      "```\n",
      "\n",
      " -------------------------- \n",
      "\n",
      "Task ID: keyword_extraction-4. \n",
      "\n",
      "TEXT: These strings are really quite good, but I wouldn't call them perfect.  The unwound strings are not quite as bright as I am accustomed to, but they still ring nicely.  This is the only complaint I have about these strings.  If the unwound strings were a tiny bit brighter, these would be 5-star strings.  As it stands, I give them 4.5 stars... not a big knock, actually.The low-end on the wound strings is very nice and quite warm.  I put these on a jumbo and it definitely accentuates the &#34;jumbo&#34; aspect of my acoustic.  The sound is very big, full, and nice.Definitely a recommended product!4.5/5 stars\n",
      "\n",
      "RESULT: {\n",
      "    \"keywords\": [\"strings\", \"acoustic\", \"jumbo\", \"bright\", \"warm\"],\n",
      "    \"context\": \"The keywords relate to the review of a set of strings for an acoustic guitar. 'Strings' is the main subject of the review. 'Acoustic' and 'jumbo' describe the type of guitar the strings were used on, with 'jumbo' also referencing the enhanced sound quality. 'Bright' and 'warm' describe the desired and actual tone qualities of the strings, with the reviewer seeking brighter unwound strings and appreciating the warm low-end of the wound strings.\"\n",
      "}\n"
     ]
    }
   ],
   "source": [
    "for job_type, job in batch_jobs:\n",
    "    batch_job = client.batches.retrieve(job.id)\n",
    "    result_file_id = batch_job.output_file_id\n",
    "    result = client.files.content(result_file_id).content\n",
    "    results = parse_json_objects(result)\n",
    "\n",
    "    for res in results:\n",
    "        task_id = res['custom_id']\n",
    "        index = task_id.split('-')[-1]\n",
    "        result = res['response']['body']['choices'][0]['message']['content']\n",
    "        text = df.iloc[int(index)]['text']\n",
    "        print(f'\\n -------------------------- \\n')\n",
    "        print(f\"Task ID: {task_id}. \\n\\nTEXT: {text}\\n\\nRESULT: {result}\")"
   ]
  },
  {
   "cell_type": "code",
   "execution_count": 13,
   "id": "tu2R8dGYimKc",
   "metadata": {
    "executionInfo": {
     "elapsed": 5,
     "status": "ok",
     "timestamp": 1732042430093,
     "user": {
      "displayName": "Joaquin Rodríguez",
      "userId": "09993043682054067997"
     },
     "user_tz": 180
    },
    "id": "tu2R8dGYimKc"
   },
   "outputs": [],
   "source": []
  }
 ],
 "metadata": {
  "colab": {
   "provenance": []
  },
  "kernelspec": {
   "display_name": "Python 3 (ipykernel)",
   "language": "python",
   "name": "python3"
  },
  "language_info": {
   "codemirror_mode": {
    "name": "ipython",
    "version": 3
   },
   "file_extension": ".py",
   "mimetype": "text/x-python",
   "name": "python",
   "nbconvert_exporter": "python",
   "pygments_lexer": "ipython3",
   "version": "3.12.7"
  }
 },
 "nbformat": 4,
 "nbformat_minor": 5
}
